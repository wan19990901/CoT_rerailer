{
 "cells": [
  {
   "cell_type": "code",
   "execution_count": 2,
   "id": "initial_id",
   "metadata": {
    "ExecuteTime": {
     "end_time": "2024-02-12T22:43:49.163052200Z",
     "start_time": "2024-02-12T22:43:49.151464800Z"
    }
   },
   "outputs": [],
   "source": [
    "from openai import OpenAI\n",
    "import os\n",
    "import numpy as np\n",
    "import pandas as pd\n",
    "import json\n",
    "DB_PATH = '../data'"
   ]
  },
  {
   "cell_type": "code",
   "execution_count": 3,
   "id": "116e8978bc3751e5",
   "metadata": {
    "ExecuteTime": {
     "end_time": "2024-02-12T22:04:10.724102500Z",
     "start_time": "2024-02-12T22:04:10.562889600Z"
    },
    "collapsed": false,
    "jupyter": {
     "outputs_hidden": false
    }
   },
   "outputs": [],
   "source": [
    "with open('api_key.txt','r') as f:\n",
    "    apikey = f.read()\n",
    "client = OpenAI(api_key=apikey)"
   ]
  },
  {
   "cell_type": "code",
   "execution_count": 4,
   "id": "90076a864b71d284",
   "metadata": {
    "ExecuteTime": {
     "end_time": "2024-02-12T22:22:25.111478500Z",
     "start_time": "2024-02-12T22:22:25.094299800Z"
    },
    "collapsed": false,
    "jupyter": {
     "outputs_hidden": false
    }
   },
   "outputs": [],
   "source": [
    "def get_embedding(text, model=\"text-embedding-3-small\"):\n",
    "   text = text.replace(\"\\n\", \" \")\n",
    "   return np.array(client.embeddings.create(input = [text], model=model).data[0].embedding)\n"
   ]
  },
  {
   "cell_type": "code",
   "execution_count": 5,
   "id": "24f08dda02b07d34",
   "metadata": {
    "ExecuteTime": {
     "end_time": "2024-02-12T22:22:27.622158700Z",
     "start_time": "2024-02-12T22:22:25.367263900Z"
    },
    "collapsed": false,
    "jupyter": {
     "outputs_hidden": false
    }
   },
   "outputs": [],
   "source": [
    "query = 'who was the mother of Afonso II, the third king of protugal'\n",
    "\n",
    "response = client.chat.completions.create(\n",
    "    messages=[\n",
    "        {'role': 'system', 'content': 'You answer questions regarding the input.'},\n",
    "        {'role': 'user', 'content': query},\n",
    "    ],\n",
    "    model='gpt-4',\n",
    "    temperature=0,\n",
    ")\n",
    "\n",
    "response_content = response.choices[0].message.content"
   ]
  },
  {
   "cell_type": "code",
   "execution_count": 6,
   "id": "22e624e0babc3b91",
   "metadata": {
    "ExecuteTime": {
     "end_time": "2024-02-12T22:22:27.635726500Z",
     "start_time": "2024-02-12T22:22:27.625166300Z"
    },
    "collapsed": false,
    "jupyter": {
     "outputs_hidden": false
    }
   },
   "outputs": [],
   "source": [
    "hall_answer = \"The mother of Afonso II, the third king of Portugal, was Urraca of Castile. Urraca was a Spanish infanta and the wife of King Sancho I of Portugal, making her the queen consort of Portugal and the mother of Afonso II.\""
   ]
  },
  {
   "cell_type": "code",
   "execution_count": 7,
   "id": "c0e8a2b036da45f8",
   "metadata": {
    "ExecuteTime": {
     "end_time": "2024-02-12T22:22:50.060343500Z",
     "start_time": "2024-02-12T22:22:50.044030400Z"
    },
    "collapsed": false,
    "jupyter": {
     "outputs_hidden": false
    }
   },
   "outputs": [
    {
     "name": "stdout",
     "output_type": "stream",
     "text": [
      "who was the mother of Afonso II, the third king of protugal\n",
      "The mother of Afonso II, the third king of Portugal, was Queen Dulce of Aragon.\n",
      "The mother of Afonso II, the third king of Portugal, was Urraca of Castile. Urraca was a Spanish infanta and the wife of King Sancho I of Portugal, making her the queen consort of Portugal and the mother of Afonso II.\n"
     ]
    }
   ],
   "source": [
    "print(query)\n",
    "print(response_content)\n",
    "print(hall_answer)"
   ]
  },
  {
   "cell_type": "code",
   "execution_count": 8,
   "id": "be02647bcd8fe0a2",
   "metadata": {
    "ExecuteTime": {
     "end_time": "2024-02-12T22:26:24.114994800Z",
     "start_time": "2024-02-12T22:26:23.487045900Z"
    },
    "collapsed": false,
    "jupyter": {
     "outputs_hidden": false
    }
   },
   "outputs": [],
   "source": [
    "q_emb = get_embedding(query)\n",
    "true_emb = get_embedding(response_content)\n",
    "false_emb = get_embedding(hall_answer)"
   ]
  },
  {
   "cell_type": "code",
   "execution_count": 9,
   "id": "9f047ef8c0c2f166",
   "metadata": {
    "ExecuteTime": {
     "end_time": "2024-02-12T22:25:23.112491600Z",
     "start_time": "2024-02-12T22:25:21.974614400Z"
    },
    "collapsed": false,
    "jupyter": {
     "outputs_hidden": false
    }
   },
   "outputs": [],
   "source": [
    "from sklearn.metrics.pairwise import cosine_similarity"
   ]
  },
  {
   "cell_type": "code",
   "execution_count": 10,
   "id": "df51b45d8931300a",
   "metadata": {
    "ExecuteTime": {
     "end_time": "2024-02-12T22:30:50.235163900Z",
     "start_time": "2024-02-12T22:30:50.191890Z"
    },
    "collapsed": false,
    "jupyter": {
     "outputs_hidden": false
    }
   },
   "outputs": [
    {
     "name": "stdout",
     "output_type": "stream",
     "text": [
      "\n",
      "q and true similarity is: [[0.80601338]],\n",
      "q and false similarity is: [[0.78332315]],\n",
      "true and false similarity is: [[0.77744568]],\n",
      "\n"
     ]
    }
   ],
   "source": [
    "cos_q_t = cosine_similarity(q_emb.reshape(1, -1),true_emb.reshape(1, -1))\n",
    "cos_q_f = cosine_similarity(q_emb.reshape(1, -1),false_emb.reshape(1, -1))\n",
    "cos_t_f = cosine_similarity(true_emb.reshape(1, -1),false_emb.reshape(1, -1))\n",
    "print(f'''\n",
    "q and true similarity is: {cos_q_t},\n",
    "q and false similarity is: {cos_q_f},\n",
    "true and false similarity is: {cos_t_f},\n",
    "''')"
   ]
  },
  {
   "cell_type": "markdown",
   "id": "172c7f6d30680e83",
   "metadata": {
    "collapsed": false,
    "jupyter": {
     "outputs_hidden": false
    }
   },
   "source": [
    "# Factor DF"
   ]
  },
  {
   "cell_type": "code",
   "execution_count": 11,
   "id": "a27f9943f528e738",
   "metadata": {
    "ExecuteTime": {
     "end_time": "2024-02-12T22:47:06.984930700Z",
     "start_time": "2024-02-12T22:47:06.824422900Z"
    },
    "collapsed": false,
    "jupyter": {
     "outputs_hidden": false
    }
   },
   "outputs": [],
   "source": [
    "expert_factor_df = pd.read_csv(os.path.join(DB_PATH,'Factor/expert_factor.csv'),delimiter=',')\n",
    "news_factor_df = pd.read_csv(os.path.join(DB_PATH,'Factor/news_factor.csv'),delimiter=',')\n",
    "wiki_factor_df = pd.read_csv(os.path.join(DB_PATH,'Factor/wiki_factor.csv'),delimiter=',')"
   ]
  },
  {
   "cell_type": "code",
   "execution_count": 34,
   "id": "8999b7d991cc99a6",
   "metadata": {
    "ExecuteTime": {
     "end_time": "2024-02-12T22:51:02.439751Z",
     "start_time": "2024-02-12T22:51:02.426705700Z"
    },
    "collapsed": false,
    "jupyter": {
     "outputs_hidden": false
    }
   },
   "outputs": [
    {
     "data": {
      "text/plain": [
       "Unnamed: 0.1                                                           1\n",
       "Unnamed: 0                                                             1\n",
       "full_prefix            Question: How long does it take to become a re...\n",
       "context                Question: How long does it take to become a re...\n",
       "doc_id                                                                 6\n",
       "completion             Becoming a real estate agent generally takes a...\n",
       "contradiction_0        Becoming a real estate agent generally takes a...\n",
       "contradiction_1        Becoming a real estate agent generally takes a...\n",
       "contradiction_2        Becoming a real estate agent generally takes a...\n",
       "longest_completions                                                 27.0\n",
       "turncated_prefixes     Question: How long does it take to become a re...\n",
       "Name: 1, dtype: object"
      ]
     },
     "execution_count": 34,
     "metadata": {},
     "output_type": "execute_result"
    }
   ],
   "source": [
    "n = 1\n",
    "expert_factor_df.iloc[n]"
   ]
  },
  {
   "cell_type": "code",
   "execution_count": 41,
   "id": "9cf714d6-3705-480c-b094-9ed81cc0a17a",
   "metadata": {},
   "outputs": [],
   "source": [
    "q = expert_factor_df.iloc[n].context"
   ]
  },
  {
   "cell_type": "code",
   "execution_count": 42,
   "id": "cc7023c2e8875256",
   "metadata": {
    "ExecuteTime": {
     "end_time": "2024-02-12T22:53:01.170812900Z",
     "start_time": "2024-02-12T22:53:01.157142900Z"
    },
    "collapsed": false,
    "jupyter": {
     "outputs_hidden": false
    }
   },
   "outputs": [],
   "source": [
    "t = expert_factor_df.iloc[n].completion"
   ]
  },
  {
   "cell_type": "code",
   "execution_count": 43,
   "id": "ff36ca91031e39a4",
   "metadata": {
    "collapsed": false,
    "jupyter": {
     "outputs_hidden": false
    }
   },
   "outputs": [],
   "source": [
    "f1 = expert_factor_df.iloc[n].contradiction_0"
   ]
  },
  {
   "cell_type": "code",
   "execution_count": 44,
   "id": "d4b12a01-128a-4e68-ba19-00c0614f6e17",
   "metadata": {},
   "outputs": [],
   "source": [
    "f2 = expert_factor_df.iloc[n].contradiction_1"
   ]
  },
  {
   "cell_type": "code",
   "execution_count": 45,
   "id": "e1ecab86-a684-4043-98f1-6ce5a64df980",
   "metadata": {},
   "outputs": [],
   "source": [
    "f3 = expert_factor_df.iloc[n].contradiction_2"
   ]
  },
  {
   "cell_type": "code",
   "execution_count": 46,
   "id": "7963550b-c660-4278-99e6-40c0c063bc8e",
   "metadata": {},
   "outputs": [],
   "source": [
    "q_emb = get_embedding(q).reshape(1, -1)\n",
    "t_emb = get_embedding(t).reshape(1, -1)\n",
    "f1_emb = get_embedding(f1).reshape(1, -1)\n",
    "f2_emb = get_embedding(f2).reshape(1, -1)\n",
    "f3_emb = get_embedding(f3).reshape(1, -1)"
   ]
  },
  {
   "cell_type": "code",
   "execution_count": 48,
   "id": "f20cfa03-a295-4215-9fcd-d8e44841c815",
   "metadata": {},
   "outputs": [
    {
     "name": "stdout",
     "output_type": "stream",
     "text": [
      "\n",
      "q and t similarity is: [[0.72715646]],\n",
      "q and false similarity is: [[0.73391262 0.72647    0.71169414]],\n",
      "true and false similarity is: [[0.86439275 0.90650554 0.89166153]],\n",
      "\n"
     ]
    }
   ],
   "source": [
    "cos_q_t = cosine_similarity(q_emb,t_emb)\n",
    "cos_q_f = cosine_similarity(q_emb,np.vstack([f1_emb,f2_emb,f3_emb]))\n",
    "cos_t_f = cosine_similarity(t_emb,np.vstack([f1_emb,f2_emb,f3_emb]))\n",
    "print(f'''\n",
    "q and t similarity is: {cos_q_t},\n",
    "q and false similarity is: {cos_q_f},\n",
    "true and false similarity is: {cos_t_f},\n",
    "''')"
   ]
  },
  {
   "cell_type": "code",
   "execution_count": null,
   "id": "9d2a7bd8-52d8-4140-bceb-f7318cf6391a",
   "metadata": {},
   "outputs": [],
   "source": []
  }
 ],
 "metadata": {
  "kernelspec": {
   "display_name": "llm_hall",
   "language": "python",
   "name": "llm_hall_project"
  },
  "language_info": {
   "codemirror_mode": {
    "name": "ipython",
    "version": 3
   },
   "file_extension": ".py",
   "mimetype": "text/x-python",
   "name": "python",
   "nbconvert_exporter": "python",
   "pygments_lexer": "ipython3",
   "version": "3.8.18"
  }
 },
 "nbformat": 4,
 "nbformat_minor": 5
}
