{
 "cells": [
  {
   "cell_type": "code",
   "execution_count": 1,
   "id": "initial_id",
   "metadata": {
    "collapsed": true,
    "ExecuteTime": {
     "end_time": "2024-02-19T16:48:28.417490400Z",
     "start_time": "2024-02-19T16:48:27.152841300Z"
    }
   },
   "outputs": [],
   "source": [
    "from dotenv.main import load_dotenv\n",
    "import os\n",
    "from langchain.chat_models import ChatOpenAI\n",
    "from langchain.prompts.chat import (\n",
    "    ChatPromptTemplate,\n",
    "    SystemMessagePromptTemplate,\n",
    "    HumanMessagePromptTemplate,\n",
    ")\n",
    "from langchain.output_parsers import StructuredOutputParser, ResponseSchema\n",
    "from langchain.chains import LLMChain\n",
    "\n",
    "\n",
    "class ChatModelWorker:\n",
    "    def __init__(self, output_parser,temperature=0, model='gpt-4'):\n",
    "        with open('api_key.txt','r') as f:\n",
    "            apikey = f.read()\n",
    "        self.chat_model = ChatOpenAI(openai_api_key=apikey, model_name=model, temperature=temperature)\n",
    "        self.output_parser = output_parser\n",
    "\n",
    "    def prompt_temps(self, sys_temp, human_temp, format_instructions):\n",
    "\n",
    "        sys_msg_prompt = SystemMessagePromptTemplate.from_template(sys_temp)\n",
    "        human_msg_prompt = HumanMessagePromptTemplate.from_template(human_temp)\n",
    "        chat_prompt = ChatPromptTemplate(partial_variables={\"format_instructions\": format_instructions},\n",
    "                                         messages=[sys_msg_prompt, human_msg_prompt])\n",
    "        return chat_prompt\n",
    "\n",
    "\n",
    "    def chain_generator(self, template, human_template):\n",
    "        output_parser = self.output_parser\n",
    "        format_instructions = output_parser.get_format_instructions()\n",
    "        chain = LLMChain(\n",
    "            llm=self.chat_model,\n",
    "            prompt=self.prompt_temps(template, human_template, format_instructions)\n",
    "        )\n",
    "        return chain\n",
    "\n",
    "import json\n",
    "\n",
    "def output_repraser(input_string):\n",
    "    json_str = input_string.strip('```json\\n').rstrip('\\n```').strip()\n",
    "    \n",
    "    # Step 2: Parse the JSON string into a dictionary\n",
    "    data_dict = json.loads(json_str)\n",
    "    return data_dict\n",
    "\n",
    "\n",
    "\n",
    "def qa_agent(subject, question, temp=0, model_name='gpt-4-0125-preview'):\n",
    "    system_prompt = (\n",
    "        \"You are a professional specialized in {subject}. You need to help me answer the given question.\"\n",
    "        \"Notice that you need to solve the question step by step. Do not jump to the answer directly.\"\n",
    "        \"Your intermediate steps and thoughts are critical!\"\n",
    "        \"\\n{format_instructions}\")\n",
    "    human_prompt = \"{question}\"\n",
    "        \n",
    "    response_schemas = [\n",
    "        ResponseSchema(name=\"Chain of Thought\",\n",
    "                       description=\"Provide step by step analysis. For instance, you should follow the pattern 'step 1:... \\nstep 2:...'\"),\n",
    "        ResponseSchema(name=\"Backwards Chain of Thought\",\n",
    "                       description=\"Now, you use your obtained answer and performing reverse checking. In other words, you plug in the answer to the steps to verify if each step holds. For instance, you should start from the last step you proposed the pattern 'step n:... \\nstep n-1:...'\"),\n",
    "        ResponseSchema(name=\"Final Answer\",\n",
    "                       description=\"Give me your original answer and your backward analysis answer\")\n",
    "    ]\n",
    "    output_parser = StructuredOutputParser.from_response_schemas(response_schemas)\n",
    "    success = False\n",
    "    while not success:\n",
    "        try:\n",
    "            worker = ChatModelWorker(output_parser=output_parser,temperature=temp, model=model_name)\n",
    "            chain = worker.chain_generator(system_prompt, human_prompt)\n",
    "            out_put = chain.run(subject=subject,\n",
    "                                question=question)\n",
    "\n",
    "            success = True\n",
    "        except:\n",
    "            worker = ChatModelWorker(output_parser=output_parser,temperature=temp, model=model_name)\n",
    "            chain = worker.chain_generator(system_prompt, human_prompt)\n",
    "            out_put = chain.run(subject=subject,\n",
    "                                question=question)\n",
    "    return output_repraser(out_put)\n",
    "\n",
    "def qa_agent_back(subject, question, temp=0, model_name='gpt-4-0125-preview'):\n",
    "    system_prompt = (\n",
    "        \"You are a professional specialized in {subject}. You need to help me answer the given question.\"\n",
    "        \"Notice that you need to solve the question step by step. Do not jump to the answer directly. Do not use latex notations\"\n",
    "        \"Your intermediate steps and thoughts are critical, you should start from the last step to the first step!\" \n",
    "        \"\\n{format_instructions}\")\n",
    "    human_prompt = \"{question}\"\n",
    "        \n",
    "    response_schemas = [\n",
    "        ResponseSchema(name=\"Chain of Thought\",\n",
    "                       description=\"Provide step by step analysis in reverse order. For instance, you should follow the pattern 'step n:... \\nstep n-1:...'\"),\n",
    "        ResponseSchema(name=\"Final Answer\",\n",
    "                       description=\"Give me your original answer and your backward analysis answer\")\n",
    "    ]\n",
    "    output_parser = StructuredOutputParser.from_response_schemas(response_schemas)\n",
    "    success = False\n",
    "    while not success:\n",
    "        try:\n",
    "            worker = ChatModelWorker(output_parser=output_parser,temperature=temp, model=model_name)\n",
    "            chain = worker.chain_generator(system_prompt, human_prompt)\n",
    "            out_put = chain.run(subject=subject,\n",
    "                                question=question)\n",
    "\n",
    "            success = True\n",
    "        except:\n",
    "            worker = ChatModelWorker(output_parser=output_parser,temperature=temp, model=model_name)\n",
    "            chain = worker.chain_generator(system_prompt, human_prompt)\n",
    "            out_put = chain.run(subject=subject,\n",
    "                                question=question)\n",
    "    return (out_put)\n"
   ]
  },
  {
   "cell_type": "code",
   "execution_count": 39,
   "outputs": [
    {
     "name": "stdout",
     "output_type": "stream",
     "text": [
      "step 1: Recognize the system is described by the second-order linear differential equation without damping, which is given by y'' + ky = f(t), where k = 1 and f(t) is the forcing term we need to find. Since b = 0, the equation simplifies to y'' + y = f(t).\n",
      "step 2: Given the initial conditions y(0) = 1 and y'(0) = 0, and knowing that the system oscillates between y = -1 and y = 1 without a forcing term, we need to find a forcing term f(t) that makes y(t) unbounded while keeping f(t) itself bounded.\n",
      "step 3: Consider a solution of the form y(t) = e^(rt), where r is a constant. Substituting this into the homogeneous equation (without f(t)), we get r^2e^(rt) + e^(rt) = 0, leading to the characteristic equation r^2 + 1 = 0. This equation has solutions r = i and r = -i, indicating oscillatory solutions for the homogeneous case.\n",
      "step 4: To make y(t) unbounded while keeping f(t) bounded, we can consider a forcing term that increases the amplitude of oscillations over time without directly increasing the forcing term's magnitude. A suitable choice is f(t) = t*sin(t), which oscillates but grows linearly in magnitude with time.\n",
      "step 5: Substituting f(t) = t*sin(t) into the differential equation, we get y'' + y = t*sin(t). This choice of f(t) does not directly solve the differential equation but suggests a solution where y(t) becomes unbounded due to the linearly increasing term in the forcing function, while the forcing term itself remains bounded since |t*sin(t)| <= |t|, which is bounded for any finite t.\n",
      "step 6: To confirm the behavior of y(t) with this forcing term, we would typically solve the differential equation explicitly or use qualitative analysis. However, the key insight is that the forcing term t*sin(t) introduces a linearly increasing factor that can make the response y(t) grow unbounded over time, while the forcing term itself remains bounded by a linear function of t.\n",
      "-------------------------------------------\n",
      "step 6: Given the forcing term f(t) = t*sin(t), we check if it remains bounded. Since |sin(t)| <= 1 for all t, |t*sin(t)| <= |t|, which means f(t) is bounded by a linear function of t, confirming it remains bounded for all finite t.\n",
      "step 5: With f(t) = t*sin(t), we consider the differential equation y'' + y = t*sin(t). This equation suggests that the response y(t) could become unbounded due to the linearly increasing nature of the forcing term, even though the forcing term itself remains bounded.\n",
      "step 4: The choice of f(t) = t*sin(t) was made to ensure that while y(t) could become unbounded, the forcing term itself remains bounded. This is consistent with the requirement for f(t) to be bounded while allowing y(t) to grow unbounded.\n",
      "step 3: The homogeneous solution to the differential equation indicates oscillatory behavior due to the characteristic equation r^2 + 1 = 0. This oscillatory nature is preserved but modified by the forcing term to potentially allow unbounded growth in y(t).\n",
      "step 2: The initial conditions and the nature of the undamped system suggest that without a forcing term, y(t) oscillates between -1 and 1. The introduction of a bounded forcing term that can make y(t) unbounded is consistent with these conditions.\n",
      "step 1: The problem starts with an undamped second-order linear differential equation y'' + y = f(t), where we need to find a bounded f(t) that allows y(t) to become unbounded. The steps taken logically lead to the choice of f(t) = t*sin(t) as a suitable forcing term that meets these criteria.\n",
      "-------------------------------------------\n",
      "The forcing term f(t) = t*sin(t) remains bounded for all t, while it allows y(t) to become unbounded as t approaches infinity. This satisfies the requirement for a bounded f(t) that leads to an unbounded y(t).\n"
     ]
    }
   ],
   "source": [
    "subject = 'math'\n",
    "question = '''\n",
    "Suppose that the UW midnight sun solar car team decided, unwisely, to use an undamped\n",
    "suspension system with spring constant k = 1 and dampening constant b = 0. In the absence of\n",
    "a forcing term, a spring with these physical properties and the initial conditions y(0) = 1 and\n",
    "y'(0) = 0 oscillates forever between y = −1 and y = 1. Find\n",
    "a forcing terms so that fap(t) remains bounded while y(t) is unbounded (i.e. there is\n",
    "a real number M (notice that M cannot be +-inf) such that for all t  |fap(t)| < M but limit of y(t) = ±inf when t approaching to inf).\n",
    "You should explicitly compute what your fap(t) functions are.'''\n",
    "result = qa_agent(subject=subject,question=question)\n",
    "print(result['Chain of Thought'])\n",
    "print('-------------------------------------------')\n",
    "print(result['Backwards Chain of Thought'])\n",
    "print('-------------------------------------------')\n",
    "print(result['Final Answer'])"
   ],
   "metadata": {
    "collapsed": false,
    "ExecuteTime": {
     "end_time": "2024-02-16T21:49:13.281851800Z",
     "start_time": "2024-02-16T21:48:35.034133Z"
    }
   },
   "id": "b26c5a93b13bf715"
  },
  {
   "cell_type": "code",
   "execution_count": 51,
   "outputs": [],
   "source": [
    "subject = 'math'\n",
    "question = '''\n",
    "Suppose that the UW midnight sun solar car team decided, unwisely, to use an undamped\n",
    "suspension system with spring constant k = 1 and dampening constant b = 0. In the absence of\n",
    "a forcing term, a spring with these physical properties and the initial conditions y(0) = 1 and\n",
    "y'(0) = 0 oscillates forever between y = −1 and y = 1. Find\n",
    "a forcing terms so that fap(t) remains bounded while y(t) is unbounded (i.e. there is\n",
    "a real number M (notice that M cannot be +-inf) such that for all t  |fap(t)| < M but limit of y(t) = ±inf when t approaching to inf).\n",
    "You should explicitly compute what your fap(t) functions are.'''\n",
    "result = qa_agent_back(subject=subject,question=question)\n"
   ],
   "metadata": {
    "collapsed": false,
    "ExecuteTime": {
     "end_time": "2024-02-16T22:09:51.864175Z",
     "start_time": "2024-02-16T22:09:23.814667600Z"
    }
   },
   "id": "4a7b8e72e3824cfb"
  },
  {
   "cell_type": "code",
   "execution_count": 52,
   "outputs": [
    {
     "data": {
      "text/plain": "'```json\\n{\\n\\t\"Chain of Thought\": \"To find a forcing term \\\\(f_{ap}(t)\\\\) that keeps \\\\(y(t)\\\\) unbounded while \\\\(f_{ap}(t)\\\\) remains bounded, we need to consider the differential equation governing the system, which is \\\\(y\\'\\' + ky = f_{ap}(t)\\\\), with \\\\(k = 1\\\\) and \\\\(b = 0\\\\). Since we want \\\\(y(t)\\\\) to be unbounded, a good candidate for \\\\(f_{ap}(t)\\\\) would be a function that grows at a slower rate than \\\\(y(t)\\\\) but does not itself become unbounded. A function that increases over time but remains bounded is a sine or cosine function, as these oscillate between fixed values. However, to ensure \\\\(y(t)\\\\) becomes unbounded, we need to slightly modify the forcing term. A function like \\\\(f_{ap}(t) = \\\\sin(t^2)\\\\) oscillates increasingly rapidly as \\\\(t\\\\) increases, but remains bounded between -1 and 1. This rapid oscillation can inject energy into the system at varying frequencies, potentially causing resonance at an infinite number of frequencies as \\\\(t\\\\) approaches infinity, leading to an unbounded \\\\(y(t)\\\\) under the right conditions. To verify this choice, we would substitute \\\\(f_{ap}(t) = \\\\sin(t^2)\\\\) into the differential equation and analyze the behavior of the solution \\\\(y(t)\\\\) over time. However, the exact solution to this differential equation with the given initial conditions and forcing term is not straightforward and requires advanced methods in differential equations to solve analytically. The key insight is that the boundedness of \\\\(f_{ap}(t)\\\\) does not necessarily imply the boundedness of \\\\(y(t)\\\\), especially in systems capable of resonance or where the forcing term can interact with the system\\'s natural frequencies in complex ways.\",\\n\\t\"Final Answer\": \"A possible forcing term that keeps \\\\(f_{ap}(t)\\\\) bounded while \\\\(y(t)\\\\) becomes unbounded is \\\\(f_{ap}(t) = \\\\sin(t^2)\\\\). This function remains bounded between -1 and 1 for all \\\\(t\\\\), but its rapidly increasing oscillation frequency can lead to an unbounded response in \\\\(y(t)\\\\) due to the system\\'s characteristics and initial conditions.\"\\n}\\n```'"
     },
     "execution_count": 52,
     "metadata": {},
     "output_type": "execute_result"
    }
   ],
   "source": [
    "\n",
    "result"
   ],
   "metadata": {
    "collapsed": false,
    "ExecuteTime": {
     "end_time": "2024-02-16T22:13:18.808856900Z",
     "start_time": "2024-02-16T22:13:18.797527700Z"
    }
   },
   "id": "4964679f4d370b0f"
  },
  {
   "cell_type": "markdown",
   "source": [
    "# Verify Chain steps"
   ],
   "metadata": {
    "collapsed": false
   },
   "id": "7188286a8a12dde8"
  },
  {
   "cell_type": "code",
   "execution_count": 2,
   "outputs": [],
   "source": [
    "def forward_agent(subject, question, temp=0, model_name='gpt-4-0125-preview'):\n",
    "    system_prompt = (\n",
    "        \"You are a professional specialized in {subject}. You need to help me answer the given question.\"\n",
    "        \"Notice that you need to solve the question step by step. Do not jump to the answer directly.\"\n",
    "        \"Your intermediate steps and thoughts are critical!\"\n",
    "        \"\\n{format_instructions}\")\n",
    "    human_prompt = \"{question}\"\n",
    "        \n",
    "    response_schemas = [\n",
    "        ResponseSchema(name=\"Chain of Thought\",\n",
    "                       description=\"Provide step by step analysis. For instance, you should follow the pattern 'step 1:... \\nstep 2:...'\"),\n",
    "        ResponseSchema(name=\"Number of Steps Proposed\",\n",
    "                       description=\"return a simple integer output which indicates the number of steps you proposed in the Chain of Thought\"),\n",
    "        ResponseSchema(name=\"Final Answer\",\n",
    "                       description=\"Give me your final answer\")\n",
    "    ]\n",
    "    output_parser = StructuredOutputParser.from_response_schemas(response_schemas)\n",
    "    success = False\n",
    "    while not success:\n",
    "        try:\n",
    "            worker = ChatModelWorker(output_parser=output_parser,temperature=temp, model=model_name)\n",
    "            chain = worker.chain_generator(system_prompt, human_prompt)\n",
    "            out_put = chain.run(subject=subject,\n",
    "                                question=question)\n",
    "\n",
    "            success = True\n",
    "        except:\n",
    "            worker = ChatModelWorker(output_parser=output_parser,temperature=temp, model=model_name)\n",
    "            chain = worker.chain_generator(system_prompt, human_prompt)\n",
    "            out_put = chain.run(subject=subject,\n",
    "                                question=question)\n",
    "    return out_put"
   ],
   "metadata": {
    "collapsed": false,
    "ExecuteTime": {
     "end_time": "2024-02-19T16:48:34.302502100Z",
     "start_time": "2024-02-19T16:48:34.287871500Z"
    }
   },
   "id": "13c5a9a46cd5ea1e"
  },
  {
   "cell_type": "code",
   "execution_count": 4,
   "outputs": [
    {
     "name": "stderr",
     "output_type": "stream",
     "text": [
      "W:\\anaconda3\\envs\\llm_hall_project\\lib\\site-packages\\langchain_core\\_api\\deprecation.py:117: LangChainDeprecationWarning: The class `langchain_community.chat_models.openai.ChatOpenAI` was deprecated in langchain-community 0.0.10 and will be removed in 0.2.0. An updated version of the class exists in the langchain-openai package and should be used instead. To use it run `pip install -U langchain-openai` and import as `from langchain_openai import ChatOpenAI`.\n",
      "  warn_deprecated(\n",
      "W:\\anaconda3\\envs\\llm_hall_project\\lib\\site-packages\\langchain_core\\_api\\deprecation.py:117: LangChainDeprecationWarning: The function `run` was deprecated in LangChain 0.1.0 and will be removed in 0.2.0. Use invoke instead.\n",
      "  warn_deprecated(\n"
     ]
    },
    {
     "data": {
      "text/plain": "'```json\\n{\\n\\t\"Chain of Thought\": \"step 1: Recognize that the equation is a quadratic equation in the form ax^2 + bx + c = 0, where a = 1, b = 10, and c = 24.\\\\nstep 2: Use the quadratic formula, x = [-b ± sqrt(b^2 - 4ac)] / 2a, to find the roots of the equation.\\\\nstep 3: Substitute a = 1, b = 10, and c = 24 into the quadratic formula.\\\\nstep 4: Calculate the discriminant, b^2 - 4ac = 10^2 - 4(1)(24) = 100 - 96 = 4.\\\\nstep 5: Substitute the discriminant back into the quadratic formula, x = [-10 ± sqrt(4)] / 2(1).\\\\nstep 6: Simplify the expression to find the two values of x, x = [-10 ± 2] / 2.\\\\nstep 7: Solve for the two possible values of x, which are x = (-10 + 2) / 2 = -4 and x = (-10 - 2) / 2 = -6.\",\\n\\t\"Number of Steps Proposed\": \"7\",\\n\\t\"Final Answer\": \"x = -4, x = -6\"\\n}\\n```'"
     },
     "execution_count": 4,
     "metadata": {},
     "output_type": "execute_result"
    }
   ],
   "source": [
    "subject = 'math'\n",
    "question = '''\n",
    "Solve for x: x^2+10x+24=0\n",
    "'''\n",
    "result = forward_agent(subject=subject, question=question)\n",
    "result"
   ],
   "metadata": {
    "collapsed": false,
    "ExecuteTime": {
     "end_time": "2024-02-19T16:16:18.995509100Z",
     "start_time": "2024-02-19T16:15:55.156230Z"
    }
   },
   "id": "535f7b795f2b408c"
  },
  {
   "cell_type": "code",
   "execution_count": 6,
   "outputs": [],
   "source": [
    "forward_result = output_repraser(result)"
   ],
   "metadata": {
    "collapsed": false,
    "ExecuteTime": {
     "end_time": "2024-02-19T16:17:24.416420900Z",
     "start_time": "2024-02-19T16:17:24.401191700Z"
    }
   },
   "id": "c1b3a75c8164101a"
  },
  {
   "cell_type": "code",
   "execution_count": 3,
   "outputs": [],
   "source": [
    "def back_check_agent(subject, current_step,cot,final_answer, temp=0, model_name='gpt-4-0125-preview'):\n",
    "    system_prompt = (\n",
    "        '''You are a professional specialized in {subject}. You need to help me verify my steps when I solve the question.\n",
    "        Your goal is help me verify that given the final answer as {final_answer} and I am currently at step #{current_step},\n",
    "        will my current step make the previous step hold? In other words, check the logic consistency of step n and step n-1 where\n",
    "        n is my current step.\\n{format_instructions}\n",
    "''')\n",
    "    human_prompt = \"Here is my complete thought process {cot}\"\n",
    "        \n",
    "    response_schemas = [\n",
    "        ResponseSchema(name=\"Verification\",\n",
    "                       description=\"Help me verify logic consistency, and tell me the reason\"),\n",
    "        ResponseSchema(name=\"Final Answer\",\n",
    "                       description=\"say [YES] if consistent, otherwise [NO]\")\n",
    "    ]\n",
    "    output_parser = StructuredOutputParser.from_response_schemas(response_schemas)\n",
    "    success = False\n",
    "    while not success:\n",
    "        try:\n",
    "            worker = ChatModelWorker(output_parser=output_parser,temperature=temp, model=model_name)\n",
    "            chain = worker.chain_generator(system_prompt, human_prompt)\n",
    "            out_put = chain.run(subject=subject,\n",
    "                                current_step=current_step,cot=cot,final_answer=final_answer)\n",
    "\n",
    "            success = True\n",
    "        except:\n",
    "            worker = ChatModelWorker(output_parser=output_parser,temperature=temp, model=model_name)\n",
    "            chain = worker.chain_generator(system_prompt, human_prompt)\n",
    "            out_put = chain.run(subject=subject,\n",
    "                                current_step=current_step,cot=cot,final_answer=final_answer)\n",
    "    return out_put"
   ],
   "metadata": {
    "collapsed": false,
    "ExecuteTime": {
     "end_time": "2024-02-19T16:48:42.689517200Z",
     "start_time": "2024-02-19T16:48:42.684546100Z"
    }
   },
   "id": "a1b392a6b717618a"
  },
  {
   "cell_type": "code",
   "execution_count": 11,
   "outputs": [],
   "source": [
    "cot,steps,final_answer = forward_result.values()"
   ],
   "metadata": {
    "collapsed": false,
    "ExecuteTime": {
     "end_time": "2024-02-19T16:27:06.573308900Z",
     "start_time": "2024-02-19T16:27:06.560044Z"
    }
   },
   "id": "b76af207f8ea7ffa"
  },
  {
   "cell_type": "code",
   "execution_count": 14,
   "outputs": [],
   "source": [
    "current_step = 7"
   ],
   "metadata": {
    "collapsed": false,
    "ExecuteTime": {
     "end_time": "2024-02-19T16:27:29.620816200Z",
     "start_time": "2024-02-19T16:27:29.604641300Z"
    }
   },
   "id": "54ff260e8954d1fa"
  },
  {
   "cell_type": "code",
   "execution_count": 19,
   "outputs": [],
   "source": [
    "back_check_result = back_check_agent(subject=subject,current_step=current_step,cot=cot,final_answer=final_answer)"
   ],
   "metadata": {
    "collapsed": false,
    "ExecuteTime": {
     "end_time": "2024-02-19T16:29:44.233851200Z",
     "start_time": "2024-02-19T16:29:38.592773Z"
    }
   },
   "id": "57d871b1fef17f59"
  },
  {
   "cell_type": "code",
   "execution_count": 20,
   "outputs": [
    {
     "data": {
      "text/plain": "{'Verification': 'The logic from step 6 to step 7 is consistent. Step 6 simplifies the quadratic formula with the correct discriminant value, and step 7 correctly solves for the two possible values of x using the simplified expression.',\n 'Final Answer': 'YES'}"
     },
     "execution_count": 20,
     "metadata": {},
     "output_type": "execute_result"
    }
   ],
   "source": [
    "output_repraser(back_check_result)"
   ],
   "metadata": {
    "collapsed": false,
    "ExecuteTime": {
     "end_time": "2024-02-19T16:29:50.130971200Z",
     "start_time": "2024-02-19T16:29:50.118476900Z"
    }
   },
   "id": "f1b1d5296a74546c"
  },
  {
   "cell_type": "code",
   "execution_count": 21,
   "outputs": [
    {
     "name": "stdout",
     "output_type": "stream",
     "text": [
      "{'Verification': 'The logic from step 6 to step 7 is consistent. The simplification and solving for x in step 7 correctly follows from the expression in step 6, leading to the correct final answers.', 'Final Answer': 'YES'}\n",
      "{'Verification': 'The logic from step 5 to step 6 is consistent. The discriminant sqrt(4) simplifies to 2, and substituting this back into the quadratic formula correctly leads to x = [-10 ± 2] / 2.', 'Final Answer': 'YES'}\n",
      "{'Verification': 'The logic from step 4 to step 5 is consistent. The discriminant calculated in step 4 is correctly substituted into the quadratic formula in step 5.', 'Final Answer': 'YES'}\n",
      "{'Verification': 'Step 4 correctly calculates the discriminant based on the values given in step 3, which is necessary for proceeding with the quadratic formula. The calculation of the discriminant, b^2 - 4ac = 100 - 96 = 4, is accurate and logically consistent with the previous step of substituting a, b, and c into the quadratic formula.', 'Final Answer': 'YES'}\n",
      "{'Verification': 'Step 3 correctly follows from step 2 by applying the given values of a, b, and c into the quadratic formula, which is the logical next step after deciding to use the quadratic formula to find the roots.', 'Final Answer': 'YES'}\n",
      "{'Verification': 'Step 2 logically follows from step 1 as it correctly identifies the next step in solving a quadratic equation by applying the quadratic formula, which is the appropriate method given the form of the equation identified in step 1.', 'Final Answer': 'YES'}\n",
      "{'Verification': 'The logic from step 1 to step 7 is consistent and correctly follows the process of solving a quadratic equation using the quadratic formula. The substitution of values and the calculation of the discriminant are correctly executed, leading to the correct final answer.', 'Final Answer': 'YES'}\n"
     ]
    }
   ],
   "source": [
    "check_list = []\n",
    "for i in range(7):\n",
    "    current_step = 7-i\n",
    "    back_check_result = back_check_agent(subject=subject,current_step=current_step,cot=cot,final_answer=final_answer)\n",
    "    response = output_repraser(back_check_result)\n",
    "    print(response)\n",
    "    check_list.append(response['Final Answer'])\n",
    "    "
   ],
   "metadata": {
    "collapsed": false,
    "ExecuteTime": {
     "end_time": "2024-02-19T16:32:06.112728900Z",
     "start_time": "2024-02-19T16:31:25.188890800Z"
    }
   },
   "id": "e21ca04e41b99b96"
  },
  {
   "cell_type": "code",
   "execution_count": null,
   "outputs": [],
   "source": [
    "subject = 'math'\n",
    "question = '''\n",
    "Solve for y(x): y''+2y'+y=0. y(0)=0, y'(0)=0\n",
    "'''\n",
    "result = forward_agent(subject=subject, question=question)\n",
    "forward_result = output_repraser(result)\n",
    "print(forward_result)\n",
    "print('------------------------------------------------------')\n",
    "cot,steps,final_answer = forward_result.values()\n",
    "check_list = []\n",
    "for i in range(int(steps)):\n",
    "    current_step = int(steps)-i\n",
    "    back_check_result = back_check_agent(subject=subject,current_step=current_step,cot=cot,final_answer=final_answer)\n",
    "    response = output_repraser(back_check_result)\n",
    "    print(f'Step {i}',response,'\\n\\n')\n",
    "    check_list.append(response['Final Answer'])\n",
    "print('------------------------------------------------------')\n",
    "print(check_list)"
   ],
   "metadata": {
    "collapsed": false,
    "is_executing": true,
    "ExecuteTime": {
     "start_time": "2024-02-19T16:50:42.382822100Z"
    }
   },
   "id": "8a6344d5bf10b9e4"
  },
  {
   "cell_type": "code",
   "execution_count": null,
   "outputs": [],
   "source": [],
   "metadata": {
    "collapsed": false
   },
   "id": "70e7df1645b124cc"
  }
 ],
 "metadata": {
  "kernelspec": {
   "display_name": "Python 3",
   "language": "python",
   "name": "python3"
  },
  "language_info": {
   "codemirror_mode": {
    "name": "ipython",
    "version": 2
   },
   "file_extension": ".py",
   "mimetype": "text/x-python",
   "name": "python",
   "nbconvert_exporter": "python",
   "pygments_lexer": "ipython2",
   "version": "2.7.6"
  }
 },
 "nbformat": 4,
 "nbformat_minor": 5
}
