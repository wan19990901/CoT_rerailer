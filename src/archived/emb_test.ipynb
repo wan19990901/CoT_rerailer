{
 "cells": [
  {
   "cell_type": "code",
   "execution_count": 1,
   "id": "initial_id",
   "metadata": {
    "ExecuteTime": {
     "end_time": "2024-02-16T20:00:50.367180700Z",
     "start_time": "2024-02-16T20:00:48.428328100Z"
    }
   },
   "outputs": [],
   "source": [
    "from openai import OpenAI\n",
    "import os\n",
    "import numpy as np\n",
    "import pandas as pd\n",
    "import json\n",
    "DB_PATH = '../data'"
   ]
  },
  {
   "cell_type": "code",
   "execution_count": 2,
   "id": "116e8978bc3751e5",
   "metadata": {
    "collapsed": false,
    "ExecuteTime": {
     "end_time": "2024-02-16T20:00:53.159841500Z",
     "start_time": "2024-02-16T20:00:52.965806300Z"
    }
   },
   "outputs": [],
   "source": [
    "with open('api_key.txt','r') as f:\n",
    "    apikey = f.read()\n",
    "client = OpenAI(api_key=apikey)"
   ]
  },
  {
   "cell_type": "code",
   "execution_count": 3,
   "id": "90076a864b71d284",
   "metadata": {
    "collapsed": false,
    "ExecuteTime": {
     "end_time": "2024-02-16T20:00:53.854526Z",
     "start_time": "2024-02-16T20:00:53.845532900Z"
    }
   },
   "outputs": [],
   "source": [
    "def get_embedding(text, model=\"text-embedding-3-small\"):\n",
    "   text = text.replace(\"\\n\", \" \")\n",
    "   return np.array(client.embeddings.create(input = [text], model=model).data[0].embedding)\n"
   ]
  },
  {
   "cell_type": "code",
   "execution_count": 4,
   "id": "24f08dda02b07d34",
   "metadata": {
    "collapsed": false,
    "ExecuteTime": {
     "end_time": "2024-02-16T20:01:29.850246200Z",
     "start_time": "2024-02-16T20:01:27.798823Z"
    }
   },
   "outputs": [],
   "source": [
    "query = 'who was the mother of Afonso II, the third king of protugal'\n",
    "\n",
    "response = client.chat.completions.create(\n",
    "    messages=[\n",
    "        {'role': 'system', 'content': 'You answer questions regarding the input.'},\n",
    "        {'role': 'user', 'content': query},\n",
    "    ],\n",
    "    model='gpt-4',\n",
    "    temperature=0,\n",
    ")\n",
    "\n",
    "response_content = response.choices[0].message.content"
   ]
  },
  {
   "cell_type": "code",
   "execution_count": 5,
   "id": "22e624e0babc3b91",
   "metadata": {
    "collapsed": false,
    "ExecuteTime": {
     "end_time": "2024-02-16T20:01:30.912672200Z",
     "start_time": "2024-02-16T20:01:30.898678500Z"
    }
   },
   "outputs": [],
   "source": [
    "hall_answer = \"The mother of Afonso II, the third king of Portugal, was Urraca of Castile. Urraca was a Spanish infanta and the wife of King Sancho I of Portugal, making her the queen consort of Portugal and the mother of Afonso II.\""
   ]
  },
  {
   "cell_type": "code",
   "execution_count": 6,
   "id": "c0e8a2b036da45f8",
   "metadata": {
    "collapsed": false,
    "ExecuteTime": {
     "end_time": "2024-02-16T20:01:31.241861300Z",
     "start_time": "2024-02-16T20:01:31.222196700Z"
    }
   },
   "outputs": [
    {
     "name": "stdout",
     "output_type": "stream",
     "text": [
      "who was the mother of Afonso II, the third king of protugal\n",
      "The mother of Afonso II, the third king of Portugal, was Queen Dulce of Aragon.\n",
      "The mother of Afonso II, the third king of Portugal, was Urraca of Castile. Urraca was a Spanish infanta and the wife of King Sancho I of Portugal, making her the queen consort of Portugal and the mother of Afonso II.\n"
     ]
    }
   ],
   "source": [
    "print(query)\n",
    "print(response_content)\n",
    "print(hall_answer)"
   ]
  },
  {
   "cell_type": "code",
   "execution_count": 13,
   "id": "be02647bcd8fe0a2",
   "metadata": {
    "collapsed": false,
    "ExecuteTime": {
     "end_time": "2024-02-12T23:19:29.500938600Z",
     "start_time": "2024-02-12T23:19:28.850023400Z"
    }
   },
   "outputs": [],
   "source": [
    "q_emb = get_embedding(query)\n",
    "true_emb = get_embedding(response_content)\n",
    "false_emb = get_embedding(hall_answer)"
   ]
  },
  {
   "cell_type": "code",
   "execution_count": 14,
   "id": "9f047ef8c0c2f166",
   "metadata": {
    "collapsed": false,
    "ExecuteTime": {
     "end_time": "2024-02-12T23:19:29.508956800Z",
     "start_time": "2024-02-12T23:19:29.503363900Z"
    }
   },
   "outputs": [],
   "source": [
    "from sklearn.metrics.pairwise import cosine_similarity"
   ]
  },
  {
   "cell_type": "code",
   "execution_count": 15,
   "id": "df51b45d8931300a",
   "metadata": {
    "collapsed": false,
    "ExecuteTime": {
     "end_time": "2024-02-12T23:19:29.991327900Z",
     "start_time": "2024-02-12T23:19:29.977784400Z"
    }
   },
   "outputs": [
    {
     "name": "stdout",
     "output_type": "stream",
     "text": [
      "\n",
      "q and true similarity is: [[0.57505038]],\n",
      "q and false similarity is: [[0.51143003]],\n",
      "true and false similarity is: [[0.50097567]],\n"
     ]
    }
   ],
   "source": [
    "cos_q_t = cosine_similarity(q_emb.reshape(1, -1),true_emb.reshape(1, -1))\n",
    "cos_q_f = cosine_similarity(q_emb.reshape(1, -1),false_emb.reshape(1, -1))\n",
    "cos_t_f = cosine_similarity(true_emb.reshape(1, -1),false_emb.reshape(1, -1))\n",
    "print(f'''\n",
    "q and true similarity is: {cos_q_t},\n",
    "q and false similarity is: {cos_q_f},\n",
    "true and false similarity is: {cos_t_f},\n",
    "''')"
   ]
  },
  {
   "cell_type": "markdown",
   "id": "172c7f6d30680e83",
   "metadata": {
    "collapsed": false
   },
   "source": [
    "# Factor DF"
   ]
  },
  {
   "cell_type": "code",
   "execution_count": 71,
   "id": "a27f9943f528e738",
   "metadata": {
    "collapsed": false,
    "ExecuteTime": {
     "end_time": "2024-02-12T23:13:51.025323900Z",
     "start_time": "2024-02-12T23:13:50.871346900Z"
    }
   },
   "outputs": [],
   "source": [
    "expert_factor_df = pd.read_csv(os.path.join(DB_PATH,'Factor/expert_factor.csv'),delimiter=',')\n",
    "news_factor_df = pd.read_csv(os.path.join(DB_PATH,'Factor/news_factor.csv'),delimiter=',')\n",
    "wiki_factor_df = pd.read_csv(os.path.join(DB_PATH,'Factor/wiki_factor.csv'),delimiter=',')"
   ]
  },
  {
   "cell_type": "code",
   "execution_count": 72,
   "id": "8999b7d991cc99a6",
   "metadata": {
    "collapsed": false,
    "ExecuteTime": {
     "end_time": "2024-02-12T23:13:51.040104800Z",
     "start_time": "2024-02-12T23:13:51.029852700Z"
    }
   },
   "outputs": [
    {
     "data": {
      "text/plain": "Unnamed: 0.1                                                           1\nUnnamed: 0                                                             1\nfull_prefix            Question: How long does it take to become a re...\ncontext                Question: How long does it take to become a re...\ndoc_id                                                                 6\ncompletion             Becoming a real estate agent generally takes a...\ncontradiction_0        Becoming a real estate agent generally takes a...\ncontradiction_1        Becoming a real estate agent generally takes a...\ncontradiction_2        Becoming a real estate agent generally takes a...\nlongest_completions                                                 27.0\nturncated_prefixes     Question: How long does it take to become a re...\nName: 1, dtype: object"
     },
     "execution_count": 72,
     "metadata": {},
     "output_type": "execute_result"
    }
   ],
   "source": [
    "n = 1\n",
    "expert_factor_df.iloc[n]"
   ]
  },
  {
   "cell_type": "code",
   "execution_count": 73,
   "id": "9cf714d6-3705-480c-b094-9ed81cc0a17a",
   "metadata": {
    "ExecuteTime": {
     "end_time": "2024-02-12T23:13:51.125944700Z",
     "start_time": "2024-02-12T23:13:51.089511500Z"
    }
   },
   "outputs": [],
   "source": [
    "q = expert_factor_df.iloc[n].context"
   ]
  },
  {
   "cell_type": "code",
   "execution_count": 74,
   "id": "cc7023c2e8875256",
   "metadata": {
    "collapsed": false,
    "ExecuteTime": {
     "end_time": "2024-02-12T23:13:51.508524Z",
     "start_time": "2024-02-12T23:13:51.492377300Z"
    }
   },
   "outputs": [],
   "source": [
    "t = expert_factor_df.iloc[n].completion"
   ]
  },
  {
   "cell_type": "code",
   "execution_count": 75,
   "id": "ff36ca91031e39a4",
   "metadata": {
    "collapsed": false,
    "ExecuteTime": {
     "end_time": "2024-02-12T23:13:52.025362900Z",
     "start_time": "2024-02-12T23:13:52.008667200Z"
    }
   },
   "outputs": [],
   "source": [
    "f1 = expert_factor_df.iloc[n].contradiction_0"
   ]
  },
  {
   "cell_type": "code",
   "execution_count": 76,
   "id": "d4b12a01-128a-4e68-ba19-00c0614f6e17",
   "metadata": {
    "ExecuteTime": {
     "end_time": "2024-02-12T23:13:52.456305800Z",
     "start_time": "2024-02-12T23:13:52.442779Z"
    }
   },
   "outputs": [],
   "source": [
    "f2 = expert_factor_df.iloc[n].contradiction_1"
   ]
  },
  {
   "cell_type": "code",
   "execution_count": 77,
   "id": "e1ecab86-a684-4043-98f1-6ce5a64df980",
   "metadata": {
    "ExecuteTime": {
     "end_time": "2024-02-12T23:13:52.949583800Z",
     "start_time": "2024-02-12T23:13:52.931707200Z"
    }
   },
   "outputs": [],
   "source": [
    "f3 = expert_factor_df.iloc[n].contradiction_2"
   ]
  },
  {
   "cell_type": "code",
   "execution_count": 78,
   "id": "7963550b-c660-4278-99e6-40c0c063bc8e",
   "metadata": {
    "ExecuteTime": {
     "end_time": "2024-02-12T23:13:54.533721900Z",
     "start_time": "2024-02-12T23:13:53.319821Z"
    }
   },
   "outputs": [],
   "source": [
    "q_emb = get_embedding(q).reshape(1, -1)\n",
    "t_emb = get_embedding(t).reshape(1, -1)\n",
    "f1_emb = get_embedding(f1).reshape(1, -1)\n",
    "f2_emb = get_embedding(f2).reshape(1, -1)\n",
    "f3_emb = get_embedding(f3).reshape(1, -1)"
   ]
  },
  {
   "cell_type": "code",
   "execution_count": 79,
   "id": "f20cfa03-a295-4215-9fcd-d8e44841c815",
   "metadata": {
    "ExecuteTime": {
     "end_time": "2024-02-12T23:13:54.546470600Z",
     "start_time": "2024-02-12T23:13:54.539517500Z"
    }
   },
   "outputs": [
    {
     "name": "stdout",
     "output_type": "stream",
     "text": [
      "\n",
      "q and t similarity is: [[0.72715646]],\n",
      "q and false similarity is: [[0.73391262 0.72647    0.71169414]],\n",
      "true and false similarity is: [[0.86439275 0.90650554 0.89166153]],\n"
     ]
    }
   ],
   "source": [
    "cos_q_t = cosine_similarity(q_emb,t_emb)\n",
    "cos_q_f = cosine_similarity(q_emb,np.vstack([f1_emb,f2_emb,f3_emb]))\n",
    "cos_t_f = cosine_similarity(t_emb,np.vstack([f1_emb,f2_emb,f3_emb]))\n",
    "print(f'''\n",
    "q and t similarity is: {cos_q_t},\n",
    "q and false similarity is: {cos_q_f},\n",
    "true and false similarity is: {cos_t_f},\n",
    "''')"
   ]
  },
  {
   "cell_type": "code",
   "execution_count": 81,
   "id": "9d2a7bd8-52d8-4140-bceb-f7318cf6391a",
   "metadata": {
    "ExecuteTime": {
     "end_time": "2024-02-12T23:14:05.347822800Z",
     "start_time": "2024-02-12T23:14:05.330969500Z"
    }
   },
   "outputs": [
    {
     "data": {
      "text/plain": "'Becoming a real estate agent generally takes about 1-3 months according to the laws in the state where the student wishes to work .'"
     },
     "execution_count": 81,
     "metadata": {},
     "output_type": "execute_result"
    }
   ],
   "source": [
    "t"
   ]
  },
  {
   "cell_type": "code",
   "execution_count": 82,
   "outputs": [
    {
     "data": {
      "text/plain": "'Becoming a real estate agent generally takes at least one year according to the laws in the state where the student wishes to work.'"
     },
     "execution_count": 82,
     "metadata": {},
     "output_type": "execute_result"
    }
   ],
   "source": [
    "f2"
   ],
   "metadata": {
    "collapsed": false,
    "ExecuteTime": {
     "end_time": "2024-02-12T23:14:08.505529900Z",
     "start_time": "2024-02-12T23:14:08.479607700Z"
    }
   },
   "id": "5c254f85fb0037a"
  },
  {
   "cell_type": "code",
   "execution_count": 83,
   "outputs": [
    {
     "data": {
      "text/plain": "'Becoming a real estate agent generally takes about 2-4 years according to the laws in the state where the student wishes to work.'"
     },
     "execution_count": 83,
     "metadata": {},
     "output_type": "execute_result"
    }
   ],
   "source": [
    "f1"
   ],
   "metadata": {
    "collapsed": false,
    "ExecuteTime": {
     "end_time": "2024-02-12T23:14:27.251014300Z",
     "start_time": "2024-02-12T23:14:27.204645700Z"
    }
   },
   "id": "4ace517cf4118965"
  },
  {
   "cell_type": "code",
   "execution_count": 84,
   "outputs": [
    {
     "data": {
      "text/plain": "'Becoming a real estate agent generally takes a few weeks according to the laws in the state where the student wishes to work.'"
     },
     "execution_count": 84,
     "metadata": {},
     "output_type": "execute_result"
    }
   ],
   "source": [
    "f3"
   ],
   "metadata": {
    "collapsed": false,
    "ExecuteTime": {
     "end_time": "2024-02-12T23:14:38.495234100Z",
     "start_time": "2024-02-12T23:14:38.478812400Z"
    }
   },
   "id": "554de7816274e3f2"
  },
  {
   "cell_type": "markdown",
   "source": [
    "# HaluEval"
   ],
   "metadata": {
    "collapsed": false
   },
   "id": "f2bece250a71f8f2"
  },
  {
   "cell_type": "code",
   "execution_count": 98,
   "outputs": [],
   "source": [
    "def load_qa(filename):\n",
    "    text = []\n",
    "    right_answers = []\n",
    "    hall_answers = []\n",
    "    with open(filename, 'r', encoding='utf-8') as f:\n",
    "        for line in f:\n",
    "            sample = json.loads(line)\n",
    "            if \"knowledge\" in sample:\n",
    "                text.append(sample[\"knowledge\"] +\" \"+ sample[\"question\"])\n",
    "                right_answers.append(sample['right_answer'])\n",
    "                hall_answers.append(sample['hallucinated_answer'])\n",
    "    return text, right_answers,hall_answers"
   ],
   "metadata": {
    "collapsed": false,
    "ExecuteTime": {
     "end_time": "2024-02-13T22:26:05.928547700Z",
     "start_time": "2024-02-13T22:26:05.912861600Z"
    }
   },
   "id": "63aa001fc1687b1"
  },
  {
   "cell_type": "code",
   "execution_count": 99,
   "outputs": [],
   "source": [
    "qa_fp = os.path.join(DB_PATH,'HaluEval/qa_data.json')\n",
    "qa_save_fp = os.path.join(DB_PATH,'HaluEval/qa_emb_q_t_f.npy')"
   ],
   "metadata": {
    "collapsed": false,
    "ExecuteTime": {
     "end_time": "2024-02-13T22:26:06.331051700Z",
     "start_time": "2024-02-13T22:26:06.310177300Z"
    }
   },
   "id": "44dc19b14ecd704b"
  },
  {
   "cell_type": "code",
   "execution_count": 100,
   "outputs": [],
   "source": [
    "def save_emb(fp,save_fp):\n",
    "    q_embs = []\n",
    "    t_embs = []\n",
    "    f_embs = []\n",
    "    text, right_answers,hall_answers = load_qa(fp)\n",
    "    for q,t,f in zip(text, right_answers,hall_answers):\n",
    "        q_embs.append(get_embedding(q))\n",
    "        t_embs.append(get_embedding(t))\n",
    "        f_embs.append(get_embedding(f))\n",
    "    q_emb_arr = np.vstack(q_embs)\n",
    "    t_emb_arr = np.vstack(t_embs)\n",
    "    f_emb_arr = np.vstack(f_embs)\n",
    "    \n",
    "    overall_emb = np.stack((q_emb_arr, t_emb_arr, f_emb_arr), axis=0)\n",
    "    np.save(save_fp,overall_emb)\n",
    "    print(f'Saved at {save_fp}')"
   ],
   "metadata": {
    "collapsed": false,
    "ExecuteTime": {
     "end_time": "2024-02-13T22:26:08.980208900Z",
     "start_time": "2024-02-13T22:26:08.975979Z"
    }
   },
   "id": "36adfa8ad6ae3f90"
  },
  {
   "cell_type": "code",
   "execution_count": null,
   "outputs": [],
   "source": [
    "save_emb(qa_fp,qa_save_fp)"
   ],
   "metadata": {
    "collapsed": false,
    "is_executing": true,
    "ExecuteTime": {
     "start_time": "2024-02-13T22:26:10.408702900Z"
    }
   },
   "id": "157aa48b33c5d8c0"
  },
  {
   "cell_type": "code",
   "execution_count": null,
   "outputs": [],
   "source": [
    "emb = np.load(qa_save_fp)\n",
    "emb.shape"
   ],
   "metadata": {
    "collapsed": false,
    "is_executing": true
   },
   "id": "a9d5a5f5e551677f"
  },
  {
   "cell_type": "code",
   "execution_count": 53,
   "outputs": [],
   "source": [
    "a = df_test.q_emb.values"
   ],
   "metadata": {
    "collapsed": false,
    "ExecuteTime": {
     "end_time": "2024-02-13T21:52:58.146053900Z",
     "start_time": "2024-02-13T21:52:58.126014200Z"
    }
   },
   "id": "e411eb92390c1262"
  },
  {
   "cell_type": "code",
   "execution_count": 69,
   "outputs": [],
   "source": [
    "text, right_answers,hall_answers = load_qa(qa_fp)"
   ],
   "metadata": {
    "collapsed": false,
    "ExecuteTime": {
     "end_time": "2024-02-13T22:00:55.590381300Z",
     "start_time": "2024-02-13T22:00:55.559124500Z"
    }
   },
   "id": "4c1064275864c198"
  },
  {
   "cell_type": "code",
   "execution_count": 90,
   "outputs": [
    {
     "data": {
      "text/plain": "(3, 1, 1536)"
     },
     "execution_count": 90,
     "metadata": {},
     "output_type": "execute_result"
    }
   ],
   "source": [
    "a.shape"
   ],
   "metadata": {
    "collapsed": false,
    "ExecuteTime": {
     "end_time": "2024-02-13T22:22:06.375091Z",
     "start_time": "2024-02-13T22:22:06.359450Z"
    }
   },
   "id": "b2b30b502bc2c40"
  },
  {
   "cell_type": "code",
   "execution_count": 64,
   "outputs": [
    {
     "ename": "AttributeError",
     "evalue": "'list' object has no attribute 'replace'",
     "output_type": "error",
     "traceback": [
      "\u001B[1;31m---------------------------------------------------------------------------\u001B[0m",
      "\u001B[1;31mAttributeError\u001B[0m                            Traceback (most recent call last)",
      "Cell \u001B[1;32mIn[64], line 1\u001B[0m\n\u001B[1;32m----> 1\u001B[0m \u001B[43mget_embedding\u001B[49m\u001B[43m(\u001B[49m\u001B[43mtest_lines\u001B[49m\u001B[43m)\u001B[49m\n",
      "Cell \u001B[1;32mIn[3], line 2\u001B[0m, in \u001B[0;36mget_embedding\u001B[1;34m(text, model)\u001B[0m\n\u001B[0;32m      1\u001B[0m \u001B[38;5;28;01mdef\u001B[39;00m \u001B[38;5;21mget_embedding\u001B[39m(text, model\u001B[38;5;241m=\u001B[39m\u001B[38;5;124m\"\u001B[39m\u001B[38;5;124mtext-embedding-3-small\u001B[39m\u001B[38;5;124m\"\u001B[39m):\n\u001B[1;32m----> 2\u001B[0m    text \u001B[38;5;241m=\u001B[39m \u001B[43mtext\u001B[49m\u001B[38;5;241;43m.\u001B[39;49m\u001B[43mreplace\u001B[49m(\u001B[38;5;124m\"\u001B[39m\u001B[38;5;130;01m\\n\u001B[39;00m\u001B[38;5;124m\"\u001B[39m, \u001B[38;5;124m\"\u001B[39m\u001B[38;5;124m \u001B[39m\u001B[38;5;124m\"\u001B[39m)\n\u001B[0;32m      3\u001B[0m    \u001B[38;5;28;01mreturn\u001B[39;00m np\u001B[38;5;241m.\u001B[39marray(client\u001B[38;5;241m.\u001B[39membeddings\u001B[38;5;241m.\u001B[39mcreate(\u001B[38;5;28minput\u001B[39m \u001B[38;5;241m=\u001B[39m [text], model\u001B[38;5;241m=\u001B[39mmodel)\u001B[38;5;241m.\u001B[39mdata[\u001B[38;5;241m0\u001B[39m]\u001B[38;5;241m.\u001B[39membedding)\n",
      "\u001B[1;31mAttributeError\u001B[0m: 'list' object has no attribute 'replace'"
     ]
    }
   ],
   "source": [],
   "metadata": {
    "collapsed": false,
    "ExecuteTime": {
     "end_time": "2024-02-13T21:59:17.993781500Z",
     "start_time": "2024-02-13T21:59:17.962373700Z"
    }
   },
   "id": "d680552d1e679489"
  }
 ],
 "metadata": {
  "kernelspec": {
   "display_name": "llm_hall",
   "language": "python",
   "name": "llm_hall_project"
  },
  "language_info": {
   "codemirror_mode": {
    "name": "ipython",
    "version": 3
   },
   "file_extension": ".py",
   "mimetype": "text/x-python",
   "name": "python",
   "nbconvert_exporter": "python",
   "pygments_lexer": "ipython3",
   "version": "3.8.18"
  }
 },
 "nbformat": 4,
 "nbformat_minor": 5
}
