{
 "cells": [
  {
   "cell_type": "code",
   "execution_count": 1,
   "metadata": {},
   "outputs": [],
   "source": [
    "import pandas as pd\n",
    "df_raw = pd.read_csv('/home/yuqi/callm_multimodality/test/data_additional_exp.csv')"
   ]
  },
  {
   "cell_type": "code",
   "execution_count": 6,
   "metadata": {},
   "outputs": [
    {
     "data": {
      "text/plain": [
       "Index(['Unnamed: 0', 'Category', 'Question', 'Consistency', 'raw_cot',\n",
       "       'corrected_cot', 'Correct_Answer', 'Cot_random_answer', 'Smv_Answer',\n",
       "       'Output_Answer', 'Corrected COT Answer', 'MAD_Answer', 'Hallu Seq'],\n",
       "      dtype='object')"
      ]
     },
     "execution_count": 6,
     "metadata": {},
     "output_type": "execute_result"
    }
   ],
   "source": [
    "df_raw.columns"
   ]
  },
  {
   "cell_type": "code",
   "execution_count": 5,
   "metadata": {},
   "outputs": [
    {
     "data": {
      "text/plain": [
       "\"First, let's write down all the statements and relationships in the question with labels.\\n#1. a is a working partner and b is a sleeping partner in a business.\\n#2. a puts in $20,000 and b puts in $90,000.\\n#3. a gets 20% of the profit for managing the business.\\n#4. The rest of the profit is divided in proportion to their capitals.\\n#5. The total profit is $11,000.\\n#6. Find the share of b in the profit.\\n\\nNext, let's answer the question step by step with reference to the question and reasoning process:\\n\\n#7. (by #3) Step 1: Calculate a's share of the profit for managing the business.\\nTotal profit: $11,000\\na's share for managing: 20% of $11,000 = 0.20 * $11,000 = $2,200\\n\\n#8. (by #4) Step 2: Calculate the remaining profit after a's share.\\nRemaining profit after a's share: $11,000 - $2,200 = $8,800\\n\\n#9. (by #2) Step 3: Calculate the total capital invested by a and b.\\nTotal capital: a's investment + b's investment = $20,000 + $90,000 = $110,000\\n\\n#10. (by #2) Step 4: Calculate b's share of the profit based on their capital.\\nProportion of a's capital: a's investment / total capital = $20,000 / $110,000\\nProportion of b's capital: b's investment / total capital = $90,000 / $110,000\\n\\n#11. (by #10) Step 5: Calculate the share of the remaining profit for b.\\nb's share of remaining profit: (b's proportion) * (remaining profit)\\nb's proportion: $90,000 / $110,000 = 9/11\\nb's share: (9/11) * $8,800\\n\\n#12. (by #11) Calculate b's share:\\nb's share: (9/11) * $8,800 = $7,200\\n\\n#13. (by #6) The original question is #6. Find the share of b in the profit of $11,000. \\nSo, the answer to this question is b's share of the profit is $7,200.\\n\\nFinal Answer: b) 7200\""
      ]
     },
     "execution_count": 5,
     "metadata": {},
     "output_type": "execute_result"
    }
   ],
   "source": [
    "from langchain_openai import ChatOpenAI\n",
    "from langchain_core.prompts import ChatPromptTemplate\n",
    "model = ChatOpenAI(api_key='sk-None-gyvgud0r0HNGFPJnYbz5T3BlbkFJZ5liBnFBWxTeyB55sMIY',model=\"gpt-4o-mini\")\n",
    "\n",
    "system_template = '''\n",
    "Question:\\nAlice buys 5 apples. Each apple costs her $2. She gets them for 50% off. After she bought She decides she doesn't like 2 of them and sells them to her friends for 1. How much money was she out? \\n\\nAnswer:\\nFirst, let's write down all the statements and relationships in the question with labels.\\n#1. Alice gets 5 apples.\\n#2. Each apple costs $2, but Alice gets apples for 50% off.\\n#3. Alice sells 2 of 5 apples for 1.\\n#4. How much money was Alice out?\\n\\nNext, let's answer the question step by step with reference to the question and reasoning process:\\n\\n#5. (by #2) Step 1: Calculate the price per apple after a 50% discount.\\nOriginal price per apple: $2\\nDiscount: 50%\\nPrice per apple after discount: $2 * (1 - 0.50) = $2 * 0.50 = $1\\n\\n#6. (by#1 #5) Step 2: Calculate Alice's cost of the 5 apples after a 50% discount.\\nPrice per apple after discount: $1\\nTotal apples: 5\\nAlice's total cost of 5 apples: $1 * 5 = $5\\n\\n#7. (by #3) Step 3: Calculate the money Alice gets back from selling 2 apples. \\nMoney that Alice gets back from selling 2 apples: $1\\n\\n#8. (by #6 #7) Step 4: Calculate the total amount of money Alice is out. \\nAlice's total cost of 5 apples: $5\\nMoney that Alice gets back from selling 2 apples: $1\\nMoney that Alice is out: $5 - $1 = $4\\n\\n#9. (by #4 #8) The original question is #4. How much money was Alice out? We do not miss information on the rewritten labels. So the answer to this question is Alice is out $4.\\n\\nPlease answer the following question by following the above template. \n",
    "'''\n",
    "prompt_template = ChatPromptTemplate.from_messages(\n",
    "    [(\"system\", system_template), (\"user\", \"\\n\\nQuestion:\\n{question}\\n\\nAnswer:\\n\")]\n",
    ")\n",
    "\n",
    "chain = prompt_template | model "
   ]
  },
  {
   "cell_type": "code",
   "execution_count": 11,
   "metadata": {},
   "outputs": [
    {
     "name": "stderr",
     "output_type": "stream",
     "text": [
      "290it [3:09:15, 39.16s/it]\n"
     ]
    }
   ],
   "source": [
    "from tqdm import tqdm\n",
    "np_prompt = {\n",
    "    'question': [],\n",
    "    'answer': [],\n",
    "    'final_answer': [],\n",
    "    'example_idx': [],\n",
    "    'model_input': [],\n",
    "    'model_output': []\n",
    "}\n",
    "\n",
    "for row_idx, row in tqdm(df_raw.iterrows()):\n",
    "    np_prompt['question'].append(row['Question'])\n",
    "    np_prompt['answer'].append(row['Correct_Answer'])\n",
    "    np_prompt['final_answer'].append(row['Correct_Answer'])\n",
    "    np_prompt['example_idx'].append(row_idx)\n",
    "    np_prompt['model_input'].append(f'''\n",
    "Question:\\nAlice buys 5 apples. Each apple costs her $2. She gets them for 50% off. After she bought She decides she doesn't like 2 of them and sells them to her friends for 1. How much money was she out? \\n\\nAnswer:\\nFirst, let's write down all the statements and relationships in the question with labels.\\n#1. Alice gets 5 apples.\\n#2. Each apple costs $2, but Alice gets apples for 50% off.\\n#3. Alice sells 2 of 5 apples for 1.\\n#4. How much money was Alice out?\\n\\nNext, let's answer the question step by step with reference to the question and reasoning process:\\n\\n#5. (by #2) Step 1: Calculate the price per apple after a 50% discount.\\nOriginal price per apple: $2\\nDiscount: 50%\\nPrice per apple after discount: $2 * (1 - 0.50) = $2 * 0.50 = $1\\n\\n#6. (by#1 #5) Step 2: Calculate Alice's cost of the 5 apples after a 50% discount.\\nPrice per apple after discount: $1\\nTotal apples: 5\\nAlice's total cost of 5 apples: $1 * 5 = $5\\n\\n#7. (by #3) Step 3: Calculate the money Alice gets back from selling 2 apples. \\nMoney that Alice gets back from selling 2 apples: $1\\n\\n#8. (by #6 #7) Step 4: Calculate the total amount of money Alice is out. \\nAlice's total cost of 5 apples: $5\\nMoney that Alice gets back from selling 2 apples: $1\\nMoney that Alice is out: $5 - $1 = $4\\n\\n#9. (by #4 #8) The original question is #4. How much money was Alice out? We do not miss information on the rewritten labels. So the answer to this question is Alice is out $4.\\n\\nPlease answer the following question by following the above template. \\n\\nQuestion:\\n{row['Question']}\\n\\nAnswer:\\n   \n",
    "''')\n",
    "    temp_li = []\n",
    "    for i in range(10):\n",
    "        temp_li.append(chain.invoke({\"question\":row['Question']}))\n",
    "    np_prompt['model_output'].append(temp_li)"
   ]
  },
  {
   "cell_type": "code",
   "execution_count": 15,
   "metadata": {},
   "outputs": [],
   "source": [
    "sample = np_prompt['model_output'][0]"
   ]
  },
  {
   "cell_type": "code",
   "execution_count": 25,
   "metadata": {},
   "outputs": [],
   "source": [
    "deve_Answer = []\n",
    "deve_rp = []\n",
    "for sample in np_prompt['model_output']:\n",
    "    deve_rp.append(sample[0].content)\n",
    "    ans = sample[0].content.split('the answer')[-1]\n",
    "\n",
    "\n",
    "    deve_Answer.append(parse_answer(ans))\n",
    "np_prompt['deve_Answer'] = deve_Answer\n",
    "\n",
    "df_deve = pd.DataFrame({'deve_rp':deve_rp, 'deve_Answer':deve_Answer})\n",
    "df_deve.to_csv('deve.csv', index=False)"
   ]
  },
  {
   "cell_type": "code",
   "execution_count": 23,
   "metadata": {},
   "outputs": [],
   "source": [
    "import re \n",
    "def parse_answer(answer):\n",
    "    pattern = r'[a-z]\\)'\n",
    "    match = re.search(pattern, answer)\n",
    "    if match:\n",
    "        return match.group()[0]\n",
    "    else:\n",
    "        return answer"
   ]
  },
  {
   "cell_type": "code",
   "execution_count": null,
   "metadata": {},
   "outputs": [],
   "source": []
  }
 ],
 "metadata": {
  "kernelspec": {
   "display_name": "callm_multi",
   "language": "python",
   "name": "python3"
  },
  "language_info": {
   "codemirror_mode": {
    "name": "ipython",
    "version": 3
   },
   "file_extension": ".py",
   "mimetype": "text/x-python",
   "name": "python",
   "nbconvert_exporter": "python",
   "pygments_lexer": "ipython3",
   "version": "3.9.19"
  }
 },
 "nbformat": 4,
 "nbformat_minor": 2
}
