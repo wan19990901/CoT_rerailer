{
 "cells": [
  {
   "cell_type": "code",
   "execution_count": 1,
   "id": "1da6f911-75b8-4455-a772-fb3d5bc9d52d",
   "metadata": {
    "tags": []
   },
   "outputs": [
    {
     "name": "stdout",
     "output_type": "stream",
     "text": [
      "Defaulting to user installation because normal site-packages is not writeable\n",
      "Requirement already satisfied: datasets in /home/wxr9et/.local/lib/python3.11/site-packages (2.17.1)\n",
      "Requirement already satisfied: filelock in /home/wxr9et/.local/lib/python3.11/site-packages (from datasets) (3.13.1)\n",
      "Requirement already satisfied: numpy>=1.17 in /apps/software/standard/core/jupyterlab/3.6.3-py3.11/lib/python3.11/site-packages (from datasets) (1.24.4)\n",
      "Requirement already satisfied: pyarrow>=12.0.0 in /apps/software/standard/core/jupyterlab/3.6.3-py3.11/lib/python3.11/site-packages (from datasets) (12.0.1)\n",
      "Requirement already satisfied: pyarrow-hotfix in /home/wxr9et/.local/lib/python3.11/site-packages (from datasets) (0.6)\n",
      "Requirement already satisfied: dill<0.3.9,>=0.3.0 in /home/wxr9et/.local/lib/python3.11/site-packages (from datasets) (0.3.8)\n",
      "Requirement already satisfied: pandas in /apps/software/standard/core/jupyterlab/3.6.3-py3.11/lib/python3.11/site-packages (from datasets) (2.0.3)\n",
      "Requirement already satisfied: requests>=2.19.0 in /apps/software/standard/core/jupyterlab/3.6.3-py3.11/lib/python3.11/site-packages (from datasets) (2.31.0)\n",
      "Requirement already satisfied: tqdm>=4.62.1 in /home/wxr9et/.local/lib/python3.11/site-packages (from datasets) (4.66.1)\n",
      "Requirement already satisfied: xxhash in /home/wxr9et/.local/lib/python3.11/site-packages (from datasets) (3.4.1)\n",
      "Requirement already satisfied: multiprocess in /home/wxr9et/.local/lib/python3.11/site-packages (from datasets) (0.70.16)\n",
      "Requirement already satisfied: fsspec[http]<=2023.10.0,>=2023.1.0 in /home/wxr9et/.local/lib/python3.11/site-packages (from datasets) (2023.10.0)\n",
      "Requirement already satisfied: aiohttp in /apps/software/standard/core/jupyterlab/3.6.3-py3.11/lib/python3.11/site-packages (from datasets) (3.8.5)\n",
      "Requirement already satisfied: huggingface-hub>=0.19.4 in /home/wxr9et/.local/lib/python3.11/site-packages (from datasets) (0.20.3)\n",
      "Requirement already satisfied: packaging in /home/wxr9et/.local/lib/python3.11/site-packages (from datasets) (23.2)\n",
      "Requirement already satisfied: pyyaml>=5.1 in /apps/software/standard/core/jupyterlab/3.6.3-py3.11/lib/python3.11/site-packages (from datasets) (6.0.1)\n",
      "Requirement already satisfied: attrs>=17.3.0 in /apps/software/standard/core/jupyterlab/3.6.3-py3.11/lib/python3.11/site-packages (from aiohttp->datasets) (23.1.0)\n",
      "Requirement already satisfied: charset-normalizer<4.0,>=2.0 in /apps/software/standard/core/jupyterlab/3.6.3-py3.11/lib/python3.11/site-packages (from aiohttp->datasets) (3.2.0)\n",
      "Requirement already satisfied: multidict<7.0,>=4.5 in /apps/software/standard/core/jupyterlab/3.6.3-py3.11/lib/python3.11/site-packages (from aiohttp->datasets) (6.0.4)\n",
      "Requirement already satisfied: async-timeout<5.0,>=4.0.0a3 in /apps/software/standard/core/jupyterlab/3.6.3-py3.11/lib/python3.11/site-packages (from aiohttp->datasets) (4.0.3)\n",
      "Requirement already satisfied: yarl<2.0,>=1.0 in /apps/software/standard/core/jupyterlab/3.6.3-py3.11/lib/python3.11/site-packages (from aiohttp->datasets) (1.9.2)\n",
      "Requirement already satisfied: frozenlist>=1.1.1 in /apps/software/standard/core/jupyterlab/3.6.3-py3.11/lib/python3.11/site-packages (from aiohttp->datasets) (1.4.0)\n",
      "Requirement already satisfied: aiosignal>=1.1.2 in /apps/software/standard/core/jupyterlab/3.6.3-py3.11/lib/python3.11/site-packages (from aiohttp->datasets) (1.3.1)\n",
      "Requirement already satisfied: typing-extensions>=3.7.4.3 in /home/wxr9et/.local/lib/python3.11/site-packages (from huggingface-hub>=0.19.4->datasets) (4.9.0)\n",
      "Requirement already satisfied: idna<4,>=2.5 in /apps/software/standard/core/jupyterlab/3.6.3-py3.11/lib/python3.11/site-packages (from requests>=2.19.0->datasets) (3.4)\n",
      "Requirement already satisfied: urllib3<3,>=1.21.1 in /apps/software/standard/core/jupyterlab/3.6.3-py3.11/lib/python3.11/site-packages (from requests>=2.19.0->datasets) (2.0.4)\n",
      "Requirement already satisfied: certifi>=2017.4.17 in /apps/software/standard/core/jupyterlab/3.6.3-py3.11/lib/python3.11/site-packages (from requests>=2.19.0->datasets) (2023.7.22)\n",
      "Requirement already satisfied: python-dateutil>=2.8.2 in /apps/software/standard/core/jupyterlab/3.6.3-py3.11/lib/python3.11/site-packages (from pandas->datasets) (2.8.2)\n",
      "Requirement already satisfied: pytz>=2020.1 in /apps/software/standard/core/jupyterlab/3.6.3-py3.11/lib/python3.11/site-packages (from pandas->datasets) (2023.3)\n",
      "Requirement already satisfied: tzdata>=2022.1 in /apps/software/standard/core/jupyterlab/3.6.3-py3.11/lib/python3.11/site-packages (from pandas->datasets) (2023.3)\n",
      "Requirement already satisfied: six>=1.5 in /apps/software/standard/core/jupyterlab/3.6.3-py3.11/lib/python3.11/site-packages (from python-dateutil>=2.8.2->pandas->datasets) (1.16.0)\n"
     ]
    }
   ],
   "source": [
    "!pip install datasets"
   ]
  },
  {
   "cell_type": "code",
   "execution_count": 2,
   "id": "d3da87fe-73f9-4d9c-bc4c-f7334c01a903",
   "metadata": {
    "tags": []
   },
   "outputs": [
    {
     "data": {
      "application/vnd.jupyter.widget-view+json": {
       "model_id": "85f04cdbf68646ecaf26aab9850bac98",
       "version_major": 2,
       "version_minor": 0
      },
      "text/plain": [
       "Downloading readme:   0%|          | 0.00/53.2k [00:00<?, ?B/s]"
      ]
     },
     "metadata": {},
     "output_type": "display_data"
    },
    {
     "data": {
      "application/vnd.jupyter.widget-view+json": {
       "model_id": "7ee1d90170a3468bb988b511f68eb8e5",
       "version_major": 2,
       "version_minor": 0
      },
      "text/plain": [
       "Downloading metadata:   0%|          | 0.00/138k [00:00<?, ?B/s]"
      ]
     },
     "metadata": {},
     "output_type": "display_data"
    },
    {
     "data": {
      "application/vnd.jupyter.widget-view+json": {
       "model_id": "cde7b0a2cb8c4317b270631944e5e743",
       "version_major": 2,
       "version_minor": 0
      },
      "text/plain": [
       "Downloading data:   0%|          | 0.00/3.50M [00:00<?, ?B/s]"
      ]
     },
     "metadata": {},
     "output_type": "display_data"
    },
    {
     "data": {
      "application/vnd.jupyter.widget-view+json": {
       "model_id": "198d7bbabb76400fb0ac5c24aaa5dc68",
       "version_major": 2,
       "version_minor": 0
      },
      "text/plain": [
       "Downloading data:   0%|          | 0.00/408k [00:00<?, ?B/s]"
      ]
     },
     "metadata": {},
     "output_type": "display_data"
    },
    {
     "data": {
      "application/vnd.jupyter.widget-view+json": {
       "model_id": "c578dd9afe2b4b6bb1a70598bf607c33",
       "version_major": 2,
       "version_minor": 0
      },
      "text/plain": [
       "Downloading data:   0%|          | 0.00/76.5k [00:00<?, ?B/s]"
      ]
     },
     "metadata": {},
     "output_type": "display_data"
    },
    {
     "data": {
      "application/vnd.jupyter.widget-view+json": {
       "model_id": "f04bc608c63d47eda1f22ae03d35095a",
       "version_major": 2,
       "version_minor": 0
      },
      "text/plain": [
       "Downloading data:   0%|          | 0.00/47.5M [00:00<?, ?B/s]"
      ]
     },
     "metadata": {},
     "output_type": "display_data"
    },
    {
     "data": {
      "application/vnd.jupyter.widget-view+json": {
       "model_id": "1b2e190325254bbca61286efcd45cd10",
       "version_major": 2,
       "version_minor": 0
      },
      "text/plain": [
       "Generating test split:   0%|          | 0/14042 [00:00<?, ? examples/s]"
      ]
     },
     "metadata": {},
     "output_type": "display_data"
    },
    {
     "data": {
      "application/vnd.jupyter.widget-view+json": {
       "model_id": "6c166019b201408da70d2ab4771cf225",
       "version_major": 2,
       "version_minor": 0
      },
      "text/plain": [
       "Generating validation split:   0%|          | 0/1531 [00:00<?, ? examples/s]"
      ]
     },
     "metadata": {},
     "output_type": "display_data"
    },
    {
     "data": {
      "application/vnd.jupyter.widget-view+json": {
       "model_id": "202ce2c21fb74fbd80d84c4874a9b0db",
       "version_major": 2,
       "version_minor": 0
      },
      "text/plain": [
       "Generating dev split:   0%|          | 0/285 [00:00<?, ? examples/s]"
      ]
     },
     "metadata": {},
     "output_type": "display_data"
    },
    {
     "data": {
      "application/vnd.jupyter.widget-view+json": {
       "model_id": "e574c881f82f4414a3e5b6286359cff5",
       "version_major": 2,
       "version_minor": 0
      },
      "text/plain": [
       "Generating auxiliary_train split:   0%|          | 0/99842 [00:00<?, ? examples/s]"
      ]
     },
     "metadata": {},
     "output_type": "display_data"
    },
    {
     "name": "stdout",
     "output_type": "stream",
     "text": [
      "DatasetDict({\n",
      "    test: Dataset({\n",
      "        features: ['question', 'subject', 'choices', 'answer'],\n",
      "        num_rows: 14042\n",
      "    })\n",
      "    validation: Dataset({\n",
      "        features: ['question', 'subject', 'choices', 'answer'],\n",
      "        num_rows: 1531\n",
      "    })\n",
      "    dev: Dataset({\n",
      "        features: ['question', 'subject', 'choices', 'answer'],\n",
      "        num_rows: 285\n",
      "    })\n",
      "    auxiliary_train: Dataset({\n",
      "        features: ['question', 'subject', 'choices', 'answer'],\n",
      "        num_rows: 99842\n",
      "    })\n",
      "})\n"
     ]
    }
   ],
   "source": [
    "from datasets import load_dataset\n",
    "\n",
    "# Load the MMLU dataset\n",
    "dataset = load_dataset(\"cais/mmlu\",\"all\")\n",
    "\n",
    "# Explore the dataset\n",
    "print(dataset)\n"
   ]
  },
  {
   "cell_type": "code",
   "execution_count": 3,
   "id": "0a6532dc-f6f6-4d70-bff7-b8c13a28a2db",
   "metadata": {
    "tags": []
   },
   "outputs": [],
   "source": [
    "import pandas as pd\n",
    "test = pd.DataFrame(dataset['test'])"
   ]
  },
  {
   "cell_type": "code",
   "execution_count": 4,
   "id": "014ff198-831a-4e8e-bd12-22d8dadba143",
   "metadata": {
    "tags": []
   },
   "outputs": [],
   "source": [
    "test['Name'] = 'MMLU_test'"
   ]
  },
  {
   "cell_type": "code",
   "execution_count": 5,
   "id": "7dc3a5cb-50f1-49d2-88d7-b9effb847562",
   "metadata": {
    "tags": []
   },
   "outputs": [
    {
     "data": {
      "text/html": [
       "<div>\n",
       "<style scoped>\n",
       "    .dataframe tbody tr th:only-of-type {\n",
       "        vertical-align: middle;\n",
       "    }\n",
       "\n",
       "    .dataframe tbody tr th {\n",
       "        vertical-align: top;\n",
       "    }\n",
       "\n",
       "    .dataframe thead th {\n",
       "        text-align: right;\n",
       "    }\n",
       "</style>\n",
       "<table border=\"1\" class=\"dataframe\">\n",
       "  <thead>\n",
       "    <tr style=\"text-align: right;\">\n",
       "      <th></th>\n",
       "      <th>question</th>\n",
       "      <th>subject</th>\n",
       "      <th>choices</th>\n",
       "      <th>answer</th>\n",
       "      <th>Name</th>\n",
       "    </tr>\n",
       "  </thead>\n",
       "  <tbody>\n",
       "    <tr>\n",
       "      <th>0</th>\n",
       "      <td>Find the degree for the given field extension ...</td>\n",
       "      <td>abstract_algebra</td>\n",
       "      <td>[0, 4, 2, 6]</td>\n",
       "      <td>1</td>\n",
       "      <td>MMLU_test</td>\n",
       "    </tr>\n",
       "    <tr>\n",
       "      <th>1</th>\n",
       "      <td>Let p = (1, 2, 5, 4)(2, 3) in S_5 . Find the i...</td>\n",
       "      <td>abstract_algebra</td>\n",
       "      <td>[8, 2, 24, 120]</td>\n",
       "      <td>2</td>\n",
       "      <td>MMLU_test</td>\n",
       "    </tr>\n",
       "    <tr>\n",
       "      <th>2</th>\n",
       "      <td>Find all zeros in the indicated finite field o...</td>\n",
       "      <td>abstract_algebra</td>\n",
       "      <td>[0, 1, 0,1, 0,4]</td>\n",
       "      <td>3</td>\n",
       "      <td>MMLU_test</td>\n",
       "    </tr>\n",
       "    <tr>\n",
       "      <th>3</th>\n",
       "      <td>Statement 1 | A factor group of a non-Abelian ...</td>\n",
       "      <td>abstract_algebra</td>\n",
       "      <td>[True, True, False, False, True, False, False,...</td>\n",
       "      <td>1</td>\n",
       "      <td>MMLU_test</td>\n",
       "    </tr>\n",
       "    <tr>\n",
       "      <th>4</th>\n",
       "      <td>Find the product of the given polynomials in t...</td>\n",
       "      <td>abstract_algebra</td>\n",
       "      <td>[2x^2 + 5, 6x^2 + 4x + 6, 0, x^2 + 1]</td>\n",
       "      <td>1</td>\n",
       "      <td>MMLU_test</td>\n",
       "    </tr>\n",
       "  </tbody>\n",
       "</table>\n",
       "</div>"
      ],
      "text/plain": [
       "                                            question           subject  \\\n",
       "0  Find the degree for the given field extension ...  abstract_algebra   \n",
       "1  Let p = (1, 2, 5, 4)(2, 3) in S_5 . Find the i...  abstract_algebra   \n",
       "2  Find all zeros in the indicated finite field o...  abstract_algebra   \n",
       "3  Statement 1 | A factor group of a non-Abelian ...  abstract_algebra   \n",
       "4  Find the product of the given polynomials in t...  abstract_algebra   \n",
       "\n",
       "                                             choices  answer       Name  \n",
       "0                                       [0, 4, 2, 6]       1  MMLU_test  \n",
       "1                                    [8, 2, 24, 120]       2  MMLU_test  \n",
       "2                                   [0, 1, 0,1, 0,4]       3  MMLU_test  \n",
       "3  [True, True, False, False, True, False, False,...       1  MMLU_test  \n",
       "4              [2x^2 + 5, 6x^2 + 4x + 6, 0, x^2 + 1]       1  MMLU_test  "
      ]
     },
     "execution_count": 5,
     "metadata": {},
     "output_type": "execute_result"
    }
   ],
   "source": [
    "test.head()"
   ]
  },
  {
   "cell_type": "code",
   "execution_count": 6,
   "id": "74088b07-6a63-4957-bfe8-1455f6dcf9fb",
   "metadata": {
    "tags": []
   },
   "outputs": [
    {
     "name": "stdout",
     "output_type": "stream",
     "text": [
      "The Column name:question\n",
      "The Value:Statement 1 | If H is a subgroup of G and a belongs to G then |aH| = |Ha|. Statement 2 | If H is a subgroup of G and a and b belong to G, then aH and Hb are identical or disjoint.\n",
      "The Column name:subject\n",
      "The Value:abstract_algebra\n",
      "The Column name:choices\n",
      "The Value:['True, True', 'False, False', 'True, False', 'False, True']\n",
      "The Column name:answer\n",
      "The Value:2\n",
      "The Column name:Name\n",
      "The Value:MMLU_test\n"
     ]
    }
   ],
   "source": [
    "for k,v in test.iloc[10].items():\n",
    "    print(\"The Column name:\" + k)\n",
    "    print(\"The Value:\" + str(v))"
   ]
  },
  {
   "cell_type": "code",
   "execution_count": 7,
   "id": "7950a62a-4080-4cbc-934b-5c1db1454091",
   "metadata": {
    "tags": []
   },
   "outputs": [
    {
     "data": {
      "text/html": [
       "<div>\n",
       "<style scoped>\n",
       "    .dataframe tbody tr th:only-of-type {\n",
       "        vertical-align: middle;\n",
       "    }\n",
       "\n",
       "    .dataframe tbody tr th {\n",
       "        vertical-align: top;\n",
       "    }\n",
       "\n",
       "    .dataframe thead th {\n",
       "        text-align: right;\n",
       "    }\n",
       "</style>\n",
       "<table border=\"1\" class=\"dataframe\">\n",
       "  <thead>\n",
       "    <tr style=\"text-align: right;\">\n",
       "      <th></th>\n",
       "      <th>Name</th>\n",
       "      <th>Category</th>\n",
       "      <th>Question</th>\n",
       "      <th>Correct Answer</th>\n",
       "    </tr>\n",
       "  </thead>\n",
       "  <tbody>\n",
       "    <tr>\n",
       "      <th>0</th>\n",
       "      <td>MMLU_test</td>\n",
       "      <td>abstract_algebra</td>\n",
       "      <td>Find the degree for the given field extension ...</td>\n",
       "      <td>B</td>\n",
       "    </tr>\n",
       "    <tr>\n",
       "      <th>1</th>\n",
       "      <td>MMLU_test</td>\n",
       "      <td>abstract_algebra</td>\n",
       "      <td>Let p = (1, 2, 5, 4)(2, 3) in S_5 . Find the i...</td>\n",
       "      <td>C</td>\n",
       "    </tr>\n",
       "    <tr>\n",
       "      <th>2</th>\n",
       "      <td>MMLU_test</td>\n",
       "      <td>abstract_algebra</td>\n",
       "      <td>Find all zeros in the indicated finite field o...</td>\n",
       "      <td>D</td>\n",
       "    </tr>\n",
       "    <tr>\n",
       "      <th>3</th>\n",
       "      <td>MMLU_test</td>\n",
       "      <td>abstract_algebra</td>\n",
       "      <td>Statement 1 | A factor group of a non-Abelian ...</td>\n",
       "      <td>B</td>\n",
       "    </tr>\n",
       "    <tr>\n",
       "      <th>4</th>\n",
       "      <td>MMLU_test</td>\n",
       "      <td>abstract_algebra</td>\n",
       "      <td>Find the product of the given polynomials in t...</td>\n",
       "      <td>B</td>\n",
       "    </tr>\n",
       "    <tr>\n",
       "      <th>...</th>\n",
       "      <td>...</td>\n",
       "      <td>...</td>\n",
       "      <td>...</td>\n",
       "      <td>...</td>\n",
       "    </tr>\n",
       "    <tr>\n",
       "      <th>14037</th>\n",
       "      <td>MMLU_test</td>\n",
       "      <td>world_religions</td>\n",
       "      <td>What has been a central focus of religious tra...</td>\n",
       "      <td>A</td>\n",
       "    </tr>\n",
       "    <tr>\n",
       "      <th>14038</th>\n",
       "      <td>MMLU_test</td>\n",
       "      <td>world_religions</td>\n",
       "      <td>To whom did ordinary folk appeal during a dro...</td>\n",
       "      <td>C</td>\n",
       "    </tr>\n",
       "    <tr>\n",
       "      <th>14039</th>\n",
       "      <td>MMLU_test</td>\n",
       "      <td>world_religions</td>\n",
       "      <td>The theological term homoousios means which o...</td>\n",
       "      <td>B</td>\n",
       "    </tr>\n",
       "    <tr>\n",
       "      <th>14040</th>\n",
       "      <td>MMLU_test</td>\n",
       "      <td>world_religions</td>\n",
       "      <td>According to the Japanese origin myth, who giv...</td>\n",
       "      <td>B</td>\n",
       "    </tr>\n",
       "    <tr>\n",
       "      <th>14041</th>\n",
       "      <td>MMLU_test</td>\n",
       "      <td>world_religions</td>\n",
       "      <td>The numen of Augustus referred to which of th...</td>\n",
       "      <td>A</td>\n",
       "    </tr>\n",
       "  </tbody>\n",
       "</table>\n",
       "<p>14042 rows × 4 columns</p>\n",
       "</div>"
      ],
      "text/plain": [
       "            Name          Category  \\\n",
       "0      MMLU_test  abstract_algebra   \n",
       "1      MMLU_test  abstract_algebra   \n",
       "2      MMLU_test  abstract_algebra   \n",
       "3      MMLU_test  abstract_algebra   \n",
       "4      MMLU_test  abstract_algebra   \n",
       "...          ...               ...   \n",
       "14037  MMLU_test   world_religions   \n",
       "14038  MMLU_test   world_religions   \n",
       "14039  MMLU_test   world_religions   \n",
       "14040  MMLU_test   world_religions   \n",
       "14041  MMLU_test   world_religions   \n",
       "\n",
       "                                                Question Correct Answer  \n",
       "0      Find the degree for the given field extension ...              B  \n",
       "1      Let p = (1, 2, 5, 4)(2, 3) in S_5 . Find the i...              C  \n",
       "2      Find all zeros in the indicated finite field o...              D  \n",
       "3      Statement 1 | A factor group of a non-Abelian ...              B  \n",
       "4      Find the product of the given polynomials in t...              B  \n",
       "...                                                  ...            ...  \n",
       "14037  What has been a central focus of religious tra...              A  \n",
       "14038   To whom did ordinary folk appeal during a dro...              C  \n",
       "14039   The theological term homoousios means which o...              B  \n",
       "14040  According to the Japanese origin myth, who giv...              B  \n",
       "14041   The numen of Augustus referred to which of th...              A  \n",
       "\n",
       "[14042 rows x 4 columns]"
      ]
     },
     "execution_count": 7,
     "metadata": {},
     "output_type": "execute_result"
    }
   ],
   "source": [
    "# 1: Combine the question and choices into a single column 'Question'\n",
    "df = test\n",
    "df['Question'] = df.apply(lambda row: f\"{row['question']} The options are: \" + \n",
    "                          ', '.join([f\"{chr(65+i)}) {choice}\" for i, choice in enumerate(row['choices'])]), axis=1)\n",
    "\n",
    "# 2: Rename the columns\n",
    "df.rename(columns={'subject': 'Category', 'answer': 'Correct Answer'}, inplace=True)\n",
    "\n",
    "# 3: Change the value of 'Correct Answer' to A, B, C, D\n",
    "df['Correct Answer'] = df['Correct Answer'].apply(lambda x: chr(65 + x))\n",
    "\n",
    "# Selecting the required columns\n",
    "df_final = df[['Name', 'Category', 'Question', 'Correct Answer']]\n",
    "\n",
    "df_final"
   ]
  },
  {
   "cell_type": "code",
   "execution_count": 9,
   "id": "4dbf1e87-57dc-4902-b6d5-8f27caca621b",
   "metadata": {
    "tags": []
   },
   "outputs": [],
   "source": [
    "df_final.to_csv('../preprocessed/MMLU_test.csv',index = False)"
   ]
  },
  {
   "cell_type": "code",
   "execution_count": null,
   "id": "e9633fac-9415-4123-b9d4-01ada3ccb00f",
   "metadata": {},
   "outputs": [],
   "source": []
  }
 ],
 "metadata": {
  "kernelspec": {
   "display_name": "Python 3 (ipykernel)",
   "language": "python",
   "name": "python3"
  },
  "language_info": {
   "codemirror_mode": {
    "name": "ipython",
    "version": 3
   },
   "file_extension": ".py",
   "mimetype": "text/x-python",
   "name": "python",
   "nbconvert_exporter": "python",
   "pygments_lexer": "ipython3",
   "version": "3.11.4"
  }
 },
 "nbformat": 4,
 "nbformat_minor": 5
}
