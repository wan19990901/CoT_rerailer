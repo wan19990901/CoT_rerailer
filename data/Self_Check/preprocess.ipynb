{
 "cells": [
  {
   "cell_type": "code",
   "execution_count": 1,
   "id": "initial_id",
   "metadata": {
    "collapsed": true,
    "ExecuteTime": {
     "end_time": "2024-02-19T21:30:51.906216200Z",
     "start_time": "2024-02-19T21:30:51.417838800Z"
    }
   },
   "outputs": [],
   "source": [
    "import json\n",
    "import pandas as pd"
   ]
  },
  {
   "cell_type": "code",
   "execution_count": 2,
   "outputs": [],
   "source": [
    "filename = 'challenge_test.json'\n",
    "text = []\n",
    "right_answers = []\n",
    "\n",
    "with open(filename, 'r', encoding='utf-8') as f:\n",
    "    data = json.load(f)\n",
    "\n",
    "for sample in data:\n",
    "    text.append(sample['Problem'] + ' The options are: ' + sample['options'])\n",
    "    right_answers.append(sample['correct'])\n",
    " "
   ],
   "metadata": {
    "collapsed": false,
    "ExecuteTime": {
     "end_time": "2024-02-19T21:30:51.920282Z",
     "start_time": "2024-02-19T21:30:51.910228900Z"
    }
   },
   "id": "27e9313c5925d4fc"
  },
  {
   "cell_type": "code",
   "execution_count": 3,
   "outputs": [
    {
     "data": {
      "text/plain": "                          Name          Category  \\\n0    Self_Check_challenge_test  Challenging Math   \n1    Self_Check_challenge_test  Challenging Math   \n2    Self_Check_challenge_test  Challenging Math   \n3    Self_Check_challenge_test  Challenging Math   \n4    Self_Check_challenge_test  Challenging Math   \n..                         ...               ...   \n599  Self_Check_challenge_test  Challenging Math   \n600  Self_Check_challenge_test  Challenging Math   \n601  Self_Check_challenge_test  Challenging Math   \n602  Self_Check_challenge_test  Challenging Math   \n603  Self_Check_challenge_test  Challenging Math   \n\n                                              Question Correct Answer  \n0    there are 1000 buildings in a street . a sign ...              c  \n1    a man bought 20 shares of rs . 50 at 5 discoun...              c  \n2    ? % of 360 = 108 The options are: a ) 30 , b )...              a  \n3    a corporation double its annual bonus to 100 o...              a  \n4    a and b together do a work in 20 days . b and ...              b  \n..                                                 ...            ...  \n599  if a coin is flipped , the probability that th...              b  \n600  two brothers take the same route to school on ...              d  \n601  the ratio of the cost price and the selling pr...              c  \n602  what is the value of ( 44444445 * 88888885 * 4...              a  \n603  4 shepherds were watching over the flocks and ...              b  \n\n[604 rows x 4 columns]",
      "text/html": "<div>\n<style scoped>\n    .dataframe tbody tr th:only-of-type {\n        vertical-align: middle;\n    }\n\n    .dataframe tbody tr th {\n        vertical-align: top;\n    }\n\n    .dataframe thead th {\n        text-align: right;\n    }\n</style>\n<table border=\"1\" class=\"dataframe\">\n  <thead>\n    <tr style=\"text-align: right;\">\n      <th></th>\n      <th>Name</th>\n      <th>Category</th>\n      <th>Question</th>\n      <th>Correct Answer</th>\n    </tr>\n  </thead>\n  <tbody>\n    <tr>\n      <th>0</th>\n      <td>Self_Check_challenge_test</td>\n      <td>Challenging Math</td>\n      <td>there are 1000 buildings in a street . a sign ...</td>\n      <td>c</td>\n    </tr>\n    <tr>\n      <th>1</th>\n      <td>Self_Check_challenge_test</td>\n      <td>Challenging Math</td>\n      <td>a man bought 20 shares of rs . 50 at 5 discoun...</td>\n      <td>c</td>\n    </tr>\n    <tr>\n      <th>2</th>\n      <td>Self_Check_challenge_test</td>\n      <td>Challenging Math</td>\n      <td>? % of 360 = 108 The options are: a ) 30 , b )...</td>\n      <td>a</td>\n    </tr>\n    <tr>\n      <th>3</th>\n      <td>Self_Check_challenge_test</td>\n      <td>Challenging Math</td>\n      <td>a corporation double its annual bonus to 100 o...</td>\n      <td>a</td>\n    </tr>\n    <tr>\n      <th>4</th>\n      <td>Self_Check_challenge_test</td>\n      <td>Challenging Math</td>\n      <td>a and b together do a work in 20 days . b and ...</td>\n      <td>b</td>\n    </tr>\n    <tr>\n      <th>...</th>\n      <td>...</td>\n      <td>...</td>\n      <td>...</td>\n      <td>...</td>\n    </tr>\n    <tr>\n      <th>599</th>\n      <td>Self_Check_challenge_test</td>\n      <td>Challenging Math</td>\n      <td>if a coin is flipped , the probability that th...</td>\n      <td>b</td>\n    </tr>\n    <tr>\n      <th>600</th>\n      <td>Self_Check_challenge_test</td>\n      <td>Challenging Math</td>\n      <td>two brothers take the same route to school on ...</td>\n      <td>d</td>\n    </tr>\n    <tr>\n      <th>601</th>\n      <td>Self_Check_challenge_test</td>\n      <td>Challenging Math</td>\n      <td>the ratio of the cost price and the selling pr...</td>\n      <td>c</td>\n    </tr>\n    <tr>\n      <th>602</th>\n      <td>Self_Check_challenge_test</td>\n      <td>Challenging Math</td>\n      <td>what is the value of ( 44444445 * 88888885 * 4...</td>\n      <td>a</td>\n    </tr>\n    <tr>\n      <th>603</th>\n      <td>Self_Check_challenge_test</td>\n      <td>Challenging Math</td>\n      <td>4 shepherds were watching over the flocks and ...</td>\n      <td>b</td>\n    </tr>\n  </tbody>\n</table>\n<p>604 rows × 4 columns</p>\n</div>"
     },
     "execution_count": 3,
     "metadata": {},
     "output_type": "execute_result"
    }
   ],
   "source": [
    "data = {\n",
    "    'Question':text,\n",
    "    'Correct Answer':right_answers\n",
    "}\n",
    "df_challenge = pd.DataFrame(data)\n",
    "df_challenge.insert(0,'Name','Self_Check_challenge_test')\n",
    "df_challenge.insert(1,'Category','Challenging Math')\n",
    "df_challenge"
   ],
   "metadata": {
    "collapsed": false,
    "ExecuteTime": {
     "end_time": "2024-02-19T21:30:51.943856300Z",
     "start_time": "2024-02-19T21:30:51.927295400Z"
    }
   },
   "id": "980d412c831a61c4"
  },
  {
   "cell_type": "code",
   "execution_count": 4,
   "outputs": [],
   "source": [
    "filename = 'dev.json'\n",
    "text = []\n",
    "right_answers = []\n",
    "\n",
    "with open(filename, 'r', encoding='utf-8') as f:\n",
    "    data = json.load(f)\n",
    "\n",
    "for sample in data:\n",
    "    text.append(sample['Problem'] + ' The options are: ' + sample['options'])\n",
    "    right_answers.append(sample['correct'])\n",
    " "
   ],
   "metadata": {
    "collapsed": false,
    "ExecuteTime": {
     "end_time": "2024-02-19T21:30:52.002278300Z",
     "start_time": "2024-02-19T21:30:51.938819200Z"
    }
   },
   "id": "ddc65c8c05ae21b2"
  },
  {
   "cell_type": "code",
   "execution_count": 5,
   "outputs": [
    {
     "data": {
      "text/plain": "                Name Category  \\\n0     Self_Check_dev     Math   \n1     Self_Check_dev     Math   \n2     Self_Check_dev     Math   \n3     Self_Check_dev     Math   \n4     Self_Check_dev     Math   \n...              ...      ...   \n4470  Self_Check_dev     Math   \n4471  Self_Check_dev     Math   \n4472  Self_Check_dev     Math   \n4473  Self_Check_dev     Math   \n4474  Self_Check_dev     Math   \n\n                                               Question Correct Answer  \n0     a multiple choice test consists of 4 questions...              c  \n1     a 3 - digit positive integer is chosen at rand...              b  \n2     if x and y are positive integers and 7 + x + y...              c  \n3     the hcf and lcm of two numbers m and n are res...              d  \n4     in a kilometer race , a beats b by 48 meters o...              a  \n...                                                 ...            ...  \n4470  how many figures are required for numbering th...              c  \n4471  if the length of the longest chord of a certai...              b  \n4472  in how many ways 2 boys and 2 girls can be sea...              b  \n4473  for what value of x , is | x – 3 | + | x + 1 |...              e  \n4474  the ratio of number of boys and girls in a sch...              d  \n\n[4475 rows x 4 columns]",
      "text/html": "<div>\n<style scoped>\n    .dataframe tbody tr th:only-of-type {\n        vertical-align: middle;\n    }\n\n    .dataframe tbody tr th {\n        vertical-align: top;\n    }\n\n    .dataframe thead th {\n        text-align: right;\n    }\n</style>\n<table border=\"1\" class=\"dataframe\">\n  <thead>\n    <tr style=\"text-align: right;\">\n      <th></th>\n      <th>Name</th>\n      <th>Category</th>\n      <th>Question</th>\n      <th>Correct Answer</th>\n    </tr>\n  </thead>\n  <tbody>\n    <tr>\n      <th>0</th>\n      <td>Self_Check_dev</td>\n      <td>Math</td>\n      <td>a multiple choice test consists of 4 questions...</td>\n      <td>c</td>\n    </tr>\n    <tr>\n      <th>1</th>\n      <td>Self_Check_dev</td>\n      <td>Math</td>\n      <td>a 3 - digit positive integer is chosen at rand...</td>\n      <td>b</td>\n    </tr>\n    <tr>\n      <th>2</th>\n      <td>Self_Check_dev</td>\n      <td>Math</td>\n      <td>if x and y are positive integers and 7 + x + y...</td>\n      <td>c</td>\n    </tr>\n    <tr>\n      <th>3</th>\n      <td>Self_Check_dev</td>\n      <td>Math</td>\n      <td>the hcf and lcm of two numbers m and n are res...</td>\n      <td>d</td>\n    </tr>\n    <tr>\n      <th>4</th>\n      <td>Self_Check_dev</td>\n      <td>Math</td>\n      <td>in a kilometer race , a beats b by 48 meters o...</td>\n      <td>a</td>\n    </tr>\n    <tr>\n      <th>...</th>\n      <td>...</td>\n      <td>...</td>\n      <td>...</td>\n      <td>...</td>\n    </tr>\n    <tr>\n      <th>4470</th>\n      <td>Self_Check_dev</td>\n      <td>Math</td>\n      <td>how many figures are required for numbering th...</td>\n      <td>c</td>\n    </tr>\n    <tr>\n      <th>4471</th>\n      <td>Self_Check_dev</td>\n      <td>Math</td>\n      <td>if the length of the longest chord of a certai...</td>\n      <td>b</td>\n    </tr>\n    <tr>\n      <th>4472</th>\n      <td>Self_Check_dev</td>\n      <td>Math</td>\n      <td>in how many ways 2 boys and 2 girls can be sea...</td>\n      <td>b</td>\n    </tr>\n    <tr>\n      <th>4473</th>\n      <td>Self_Check_dev</td>\n      <td>Math</td>\n      <td>for what value of x , is | x – 3 | + | x + 1 |...</td>\n      <td>e</td>\n    </tr>\n    <tr>\n      <th>4474</th>\n      <td>Self_Check_dev</td>\n      <td>Math</td>\n      <td>the ratio of number of boys and girls in a sch...</td>\n      <td>d</td>\n    </tr>\n  </tbody>\n</table>\n<p>4475 rows × 4 columns</p>\n</div>"
     },
     "execution_count": 5,
     "metadata": {},
     "output_type": "execute_result"
    }
   ],
   "source": [
    "data = {\n",
    "    'Question':text,\n",
    "    'Correct Answer':right_answers\n",
    "}\n",
    "df_dev = pd.DataFrame(data)\n",
    "df_dev.insert(0,'Name','Self_Check_dev')\n",
    "df_dev.insert(1,'Category','Math')\n",
    "df_dev"
   ],
   "metadata": {
    "collapsed": false,
    "ExecuteTime": {
     "end_time": "2024-02-19T21:30:52.003278200Z",
     "start_time": "2024-02-19T21:30:51.971814600Z"
    }
   },
   "id": "987445e5565f3895"
  },
  {
   "cell_type": "code",
   "execution_count": 6,
   "outputs": [],
   "source": [
    "filename = 'MATH_np.json'\n",
    "text = []\n",
    "right_answers = []\n",
    "\n",
    "with open(filename, 'r', encoding='utf-8') as f:\n",
    "    data = json.load(f)\n",
    "\n",
    "for sample in data:\n",
    "    text.append(sample['question'])\n",
    "    right_answers.append(sample['final_answer'])\n",
    " "
   ],
   "metadata": {
    "collapsed": false,
    "ExecuteTime": {
     "end_time": "2024-02-19T21:30:52.090422400Z",
     "start_time": "2024-02-19T21:30:51.988209800Z"
    }
   },
   "id": "37fbef42775a396e"
  },
  {
   "cell_type": "code",
   "execution_count": 7,
   "outputs": [
    {
     "data": {
      "text/plain": "                   Name Category  \\\n0    Self_Check_MATH_np     Math   \n1    Self_Check_MATH_np     Math   \n2    Self_Check_MATH_np     Math   \n3    Self_Check_MATH_np     Math   \n4    Self_Check_MATH_np     Math   \n..                  ...      ...   \n695  Self_Check_MATH_np     Math   \n696  Self_Check_MATH_np     Math   \n697  Self_Check_MATH_np     Math   \n698  Self_Check_MATH_np     Math   \n699  Self_Check_MATH_np     Math   \n\n                                              Question  \\\n0    What is the length of the segment of the numbe...   \n1    John is 31 years younger than his dad. The sum...   \n2    At Central Middle School the $108$ students wh...   \n3    Suppose that $h(x)=f^{-1}(x)$. If $h(2)=10$, $...   \n4    What is the sum of all integer values of $x$ s...   \n..                                                 ...   \n695  A line has slope $-\\frac{7}{4}.$  Which of the...   \n696  Let $a = 5 - 8i$ and $b = 30 + 48i$. Find $|ab|$.   \n697  Below is the graph of $y = a \\cos bx$ for some...   \n698  Compute\\n\\[\\begin{vmatrix} 0 & 1 \\\\ 3 & 5 \\end...   \n699  Compute $\\begin{pmatrix} 5 \\\\ -4 \\end{pmatrix}...   \n\n                            Correct Answer  \n0                                        6  \n1                                       42  \n2                                        6  \n3                                        1  \n4                                       26  \n..                                     ...  \n695                         \\text{C, F, H}  \n696                                    534  \n697                                      4  \n698                                     -3  \n699  \\begin{pmatrix} -6 \\\\ 6 \\end{pmatrix}  \n\n[700 rows x 4 columns]",
      "text/html": "<div>\n<style scoped>\n    .dataframe tbody tr th:only-of-type {\n        vertical-align: middle;\n    }\n\n    .dataframe tbody tr th {\n        vertical-align: top;\n    }\n\n    .dataframe thead th {\n        text-align: right;\n    }\n</style>\n<table border=\"1\" class=\"dataframe\">\n  <thead>\n    <tr style=\"text-align: right;\">\n      <th></th>\n      <th>Name</th>\n      <th>Category</th>\n      <th>Question</th>\n      <th>Correct Answer</th>\n    </tr>\n  </thead>\n  <tbody>\n    <tr>\n      <th>0</th>\n      <td>Self_Check_MATH_np</td>\n      <td>Math</td>\n      <td>What is the length of the segment of the numbe...</td>\n      <td>6</td>\n    </tr>\n    <tr>\n      <th>1</th>\n      <td>Self_Check_MATH_np</td>\n      <td>Math</td>\n      <td>John is 31 years younger than his dad. The sum...</td>\n      <td>42</td>\n    </tr>\n    <tr>\n      <th>2</th>\n      <td>Self_Check_MATH_np</td>\n      <td>Math</td>\n      <td>At Central Middle School the $108$ students wh...</td>\n      <td>6</td>\n    </tr>\n    <tr>\n      <th>3</th>\n      <td>Self_Check_MATH_np</td>\n      <td>Math</td>\n      <td>Suppose that $h(x)=f^{-1}(x)$. If $h(2)=10$, $...</td>\n      <td>1</td>\n    </tr>\n    <tr>\n      <th>4</th>\n      <td>Self_Check_MATH_np</td>\n      <td>Math</td>\n      <td>What is the sum of all integer values of $x$ s...</td>\n      <td>26</td>\n    </tr>\n    <tr>\n      <th>...</th>\n      <td>...</td>\n      <td>...</td>\n      <td>...</td>\n      <td>...</td>\n    </tr>\n    <tr>\n      <th>695</th>\n      <td>Self_Check_MATH_np</td>\n      <td>Math</td>\n      <td>A line has slope $-\\frac{7}{4}.$  Which of the...</td>\n      <td>\\text{C, F, H}</td>\n    </tr>\n    <tr>\n      <th>696</th>\n      <td>Self_Check_MATH_np</td>\n      <td>Math</td>\n      <td>Let $a = 5 - 8i$ and $b = 30 + 48i$. Find $|ab|$.</td>\n      <td>534</td>\n    </tr>\n    <tr>\n      <th>697</th>\n      <td>Self_Check_MATH_np</td>\n      <td>Math</td>\n      <td>Below is the graph of $y = a \\cos bx$ for some...</td>\n      <td>4</td>\n    </tr>\n    <tr>\n      <th>698</th>\n      <td>Self_Check_MATH_np</td>\n      <td>Math</td>\n      <td>Compute\\n\\[\\begin{vmatrix} 0 &amp; 1 \\\\ 3 &amp; 5 \\end...</td>\n      <td>-3</td>\n    </tr>\n    <tr>\n      <th>699</th>\n      <td>Self_Check_MATH_np</td>\n      <td>Math</td>\n      <td>Compute $\\begin{pmatrix} 5 \\\\ -4 \\end{pmatrix}...</td>\n      <td>\\begin{pmatrix} -6 \\\\ 6 \\end{pmatrix}</td>\n    </tr>\n  </tbody>\n</table>\n<p>700 rows × 4 columns</p>\n</div>"
     },
     "execution_count": 7,
     "metadata": {},
     "output_type": "execute_result"
    }
   ],
   "source": [
    "data = {\n",
    "    'Question':text,\n",
    "    'Correct Answer':right_answers\n",
    "}\n",
    "df_MATH_np = pd.DataFrame(data)\n",
    "df_MATH_np.insert(0,'Name','Self_Check_MATH_np')\n",
    "df_MATH_np.insert(1,'Category','Math')\n",
    "df_MATH_np"
   ],
   "metadata": {
    "collapsed": false,
    "ExecuteTime": {
     "end_time": "2024-02-19T21:30:52.094441900Z",
     "start_time": "2024-02-19T21:30:52.067002500Z"
    }
   },
   "id": "be78b277c0bb8f5e"
  },
  {
   "cell_type": "code",
   "execution_count": 8,
   "outputs": [],
   "source": [
    "filename = 'test.json'\n",
    "text = []\n",
    "right_answers = []\n",
    "\n",
    "with open(filename, 'r', encoding='utf-8') as f:\n",
    "    data = json.load(f)\n",
    "\n",
    "for sample in data:\n",
    "    text.append(sample['Problem'] + ' The options are: ' + sample['options'])\n",
    "    right_answers.append(sample['correct'])\n",
    " "
   ],
   "metadata": {
    "collapsed": false,
    "ExecuteTime": {
     "end_time": "2024-02-19T21:30:52.095438500Z",
     "start_time": "2024-02-19T21:30:52.079996Z"
    }
   },
   "id": "9c9aaa8026504dd6"
  },
  {
   "cell_type": "code",
   "execution_count": 9,
   "outputs": [
    {
     "data": {
      "text/plain": "                 Name Category  \\\n0     Self_Check_test     Math   \n1     Self_Check_test     Math   \n2     Self_Check_test     Math   \n3     Self_Check_test     Math   \n4     Self_Check_test     Math   \n...               ...      ...   \n2980  Self_Check_test     Math   \n2981  Self_Check_test     Math   \n2982  Self_Check_test     Math   \n2983  Self_Check_test     Math   \n2984  Self_Check_test     Math   \n\n                                               Question Correct Answer  \n0     a shopkeeper sold an article offering a discou...              a  \n1     what will be the difference between simple and...              a  \n2     there are 28 stations between hyderabad and ba...              c  \n3     the present population of a town is 3888 . pop...              e  \n4     the triplicate ratio of 1 : 9 is ? The options...              e  \n...                                                 ...            ...  \n2980  find the area of a parallelogram with base 20 ...              c  \n2981  in a garden , there are 10 rows and 14 columns...              e  \n2982  a can do a piece of work in 6 hours ; b and c ...              d  \n2983  a train 250 m long running at 72 kmph crosses ...              a  \n2984  4 shepherds were watching over the flocks and ...              b  \n\n[2985 rows x 4 columns]",
      "text/html": "<div>\n<style scoped>\n    .dataframe tbody tr th:only-of-type {\n        vertical-align: middle;\n    }\n\n    .dataframe tbody tr th {\n        vertical-align: top;\n    }\n\n    .dataframe thead th {\n        text-align: right;\n    }\n</style>\n<table border=\"1\" class=\"dataframe\">\n  <thead>\n    <tr style=\"text-align: right;\">\n      <th></th>\n      <th>Name</th>\n      <th>Category</th>\n      <th>Question</th>\n      <th>Correct Answer</th>\n    </tr>\n  </thead>\n  <tbody>\n    <tr>\n      <th>0</th>\n      <td>Self_Check_test</td>\n      <td>Math</td>\n      <td>a shopkeeper sold an article offering a discou...</td>\n      <td>a</td>\n    </tr>\n    <tr>\n      <th>1</th>\n      <td>Self_Check_test</td>\n      <td>Math</td>\n      <td>what will be the difference between simple and...</td>\n      <td>a</td>\n    </tr>\n    <tr>\n      <th>2</th>\n      <td>Self_Check_test</td>\n      <td>Math</td>\n      <td>there are 28 stations between hyderabad and ba...</td>\n      <td>c</td>\n    </tr>\n    <tr>\n      <th>3</th>\n      <td>Self_Check_test</td>\n      <td>Math</td>\n      <td>the present population of a town is 3888 . pop...</td>\n      <td>e</td>\n    </tr>\n    <tr>\n      <th>4</th>\n      <td>Self_Check_test</td>\n      <td>Math</td>\n      <td>the triplicate ratio of 1 : 9 is ? The options...</td>\n      <td>e</td>\n    </tr>\n    <tr>\n      <th>...</th>\n      <td>...</td>\n      <td>...</td>\n      <td>...</td>\n      <td>...</td>\n    </tr>\n    <tr>\n      <th>2980</th>\n      <td>Self_Check_test</td>\n      <td>Math</td>\n      <td>find the area of a parallelogram with base 20 ...</td>\n      <td>c</td>\n    </tr>\n    <tr>\n      <th>2981</th>\n      <td>Self_Check_test</td>\n      <td>Math</td>\n      <td>in a garden , there are 10 rows and 14 columns...</td>\n      <td>e</td>\n    </tr>\n    <tr>\n      <th>2982</th>\n      <td>Self_Check_test</td>\n      <td>Math</td>\n      <td>a can do a piece of work in 6 hours ; b and c ...</td>\n      <td>d</td>\n    </tr>\n    <tr>\n      <th>2983</th>\n      <td>Self_Check_test</td>\n      <td>Math</td>\n      <td>a train 250 m long running at 72 kmph crosses ...</td>\n      <td>a</td>\n    </tr>\n    <tr>\n      <th>2984</th>\n      <td>Self_Check_test</td>\n      <td>Math</td>\n      <td>4 shepherds were watching over the flocks and ...</td>\n      <td>b</td>\n    </tr>\n  </tbody>\n</table>\n<p>2985 rows × 4 columns</p>\n</div>"
     },
     "execution_count": 9,
     "metadata": {},
     "output_type": "execute_result"
    }
   ],
   "source": [
    "data = {\n",
    "    'Question':text,\n",
    "    'Correct Answer':right_answers\n",
    "}\n",
    "df_test = pd.DataFrame(data)\n",
    "df_test.insert(0,'Name','Self_Check_test')\n",
    "df_test.insert(1,'Category','Math')\n",
    "df_test"
   ],
   "metadata": {
    "collapsed": false,
    "ExecuteTime": {
     "end_time": "2024-02-19T21:30:52.108623200Z",
     "start_time": "2024-02-19T21:30:52.098433300Z"
    }
   },
   "id": "f9566ca8b715c67b"
  },
  {
   "cell_type": "code",
   "execution_count": 10,
   "outputs": [],
   "source": [
    "filename = 'test.jsonl.txt'\n",
    "text = []\n",
    "right_answers = []\n",
    "\n",
    "with open(filename, 'r', encoding='utf-8') as f:\n",
    "    for line in f:\n",
    "        sample = json.loads(line)\n",
    "        text.append(sample[\"question\"])\n",
    "        full_answer = sample['answer']\n",
    "        answer = full_answer.split('#### ')\n",
    "        right_answers.append(answer[1]) "
   ],
   "metadata": {
    "collapsed": false,
    "ExecuteTime": {
     "end_time": "2024-02-19T21:30:52.133159700Z",
     "start_time": "2024-02-19T21:30:52.111596Z"
    }
   },
   "id": "9c5c9cccb229acfd"
  },
  {
   "cell_type": "code",
   "execution_count": 11,
   "outputs": [
    {
     "data": {
      "text/plain": "                       Name Category  \\\n0     Self_Check_test_jsonl     Math   \n1     Self_Check_test_jsonl     Math   \n2     Self_Check_test_jsonl     Math   \n3     Self_Check_test_jsonl     Math   \n4     Self_Check_test_jsonl     Math   \n...                     ...      ...   \n1314  Self_Check_test_jsonl     Math   \n1315  Self_Check_test_jsonl     Math   \n1316  Self_Check_test_jsonl     Math   \n1317  Self_Check_test_jsonl     Math   \n1318  Self_Check_test_jsonl     Math   \n\n                                               Question Correct Answer  \n0     Janet’s ducks lay 16 eggs per day. She eats th...             18  \n1     A robe takes 2 bolts of blue fiber and half th...              3  \n2     Josh decides to try flipping a house.  He buys...          70000  \n3     James decides to run 3 sprints 3 times a week....            540  \n4     Every day, Wendi feeds each of her chickens th...             20  \n...                                                 ...            ...  \n1314  John had a son James when he was 19.  James is...              8  \n1315  There are some oranges in a basket. Ana spends...              5  \n1316  Mark's car breaks down and he needs to get a n...            230  \n1317  Farmer Brown has 20 animals on his farm, all e...              5  \n1318  Henry and 3 of his friends order 7 pizzas for ...             14  \n\n[1319 rows x 4 columns]",
      "text/html": "<div>\n<style scoped>\n    .dataframe tbody tr th:only-of-type {\n        vertical-align: middle;\n    }\n\n    .dataframe tbody tr th {\n        vertical-align: top;\n    }\n\n    .dataframe thead th {\n        text-align: right;\n    }\n</style>\n<table border=\"1\" class=\"dataframe\">\n  <thead>\n    <tr style=\"text-align: right;\">\n      <th></th>\n      <th>Name</th>\n      <th>Category</th>\n      <th>Question</th>\n      <th>Correct Answer</th>\n    </tr>\n  </thead>\n  <tbody>\n    <tr>\n      <th>0</th>\n      <td>Self_Check_test_jsonl</td>\n      <td>Math</td>\n      <td>Janet’s ducks lay 16 eggs per day. She eats th...</td>\n      <td>18</td>\n    </tr>\n    <tr>\n      <th>1</th>\n      <td>Self_Check_test_jsonl</td>\n      <td>Math</td>\n      <td>A robe takes 2 bolts of blue fiber and half th...</td>\n      <td>3</td>\n    </tr>\n    <tr>\n      <th>2</th>\n      <td>Self_Check_test_jsonl</td>\n      <td>Math</td>\n      <td>Josh decides to try flipping a house.  He buys...</td>\n      <td>70000</td>\n    </tr>\n    <tr>\n      <th>3</th>\n      <td>Self_Check_test_jsonl</td>\n      <td>Math</td>\n      <td>James decides to run 3 sprints 3 times a week....</td>\n      <td>540</td>\n    </tr>\n    <tr>\n      <th>4</th>\n      <td>Self_Check_test_jsonl</td>\n      <td>Math</td>\n      <td>Every day, Wendi feeds each of her chickens th...</td>\n      <td>20</td>\n    </tr>\n    <tr>\n      <th>...</th>\n      <td>...</td>\n      <td>...</td>\n      <td>...</td>\n      <td>...</td>\n    </tr>\n    <tr>\n      <th>1314</th>\n      <td>Self_Check_test_jsonl</td>\n      <td>Math</td>\n      <td>John had a son James when he was 19.  James is...</td>\n      <td>8</td>\n    </tr>\n    <tr>\n      <th>1315</th>\n      <td>Self_Check_test_jsonl</td>\n      <td>Math</td>\n      <td>There are some oranges in a basket. Ana spends...</td>\n      <td>5</td>\n    </tr>\n    <tr>\n      <th>1316</th>\n      <td>Self_Check_test_jsonl</td>\n      <td>Math</td>\n      <td>Mark's car breaks down and he needs to get a n...</td>\n      <td>230</td>\n    </tr>\n    <tr>\n      <th>1317</th>\n      <td>Self_Check_test_jsonl</td>\n      <td>Math</td>\n      <td>Farmer Brown has 20 animals on his farm, all e...</td>\n      <td>5</td>\n    </tr>\n    <tr>\n      <th>1318</th>\n      <td>Self_Check_test_jsonl</td>\n      <td>Math</td>\n      <td>Henry and 3 of his friends order 7 pizzas for ...</td>\n      <td>14</td>\n    </tr>\n  </tbody>\n</table>\n<p>1319 rows × 4 columns</p>\n</div>"
     },
     "execution_count": 11,
     "metadata": {},
     "output_type": "execute_result"
    }
   ],
   "source": [
    "data = {\n",
    "    'Question':text,\n",
    "    'Correct Answer':right_answers\n",
    "}\n",
    "df_test_jsonl = pd.DataFrame(data)\n",
    "df_test_jsonl.insert(0,'Name','Self_Check_test_jsonl')\n",
    "df_test_jsonl.insert(1,'Category','Math')\n",
    "df_test_jsonl"
   ],
   "metadata": {
    "collapsed": false,
    "ExecuteTime": {
     "end_time": "2024-02-19T21:30:52.195844800Z",
     "start_time": "2024-02-19T21:30:52.126604400Z"
    }
   },
   "id": "a7ee3afb1bb148b1"
  },
  {
   "cell_type": "code",
   "execution_count": 12,
   "outputs": [],
   "source": [
    "filename = 'train.json'\n",
    "text = []\n",
    "right_answers = []\n",
    "\n",
    "with open(filename, 'r', encoding='utf-8') as f:\n",
    "    data = json.load(f)\n",
    "\n",
    "for sample in data:\n",
    "    text.append(sample['Problem'] + ' The options are: ' + sample['options'])\n",
    "    right_answers.append(sample['correct'])\n",
    " "
   ],
   "metadata": {
    "collapsed": false,
    "ExecuteTime": {
     "end_time": "2024-02-19T21:30:52.271572400Z",
     "start_time": "2024-02-19T21:30:52.141530700Z"
    }
   },
   "id": "e8ee33a00b54d4fe"
  },
  {
   "cell_type": "code",
   "execution_count": 13,
   "outputs": [
    {
     "data": {
      "text/plain": "                   Name Category  \\\n0      Self_Check_train     Math   \n1      Self_Check_train     Math   \n2      Self_Check_train     Math   \n3      Self_Check_train     Math   \n4      Self_Check_train     Math   \n...                 ...      ...   \n29832  Self_Check_train     Math   \n29833  Self_Check_train     Math   \n29834  Self_Check_train     Math   \n29835  Self_Check_train     Math   \n29836  Self_Check_train     Math   \n\n                                                Question Correct Answer  \n0      the banker ' s gain of a certain sum due 3 yea...              a  \n1      average age of students of an adult school is ...              d  \n2      sophia finished 2 / 3 of a book . she calculat...              b  \n3      120 is what percent of 50 ? The options are: a...              b  \n4      there are 10 girls and 20 boys in a classroom ...              a  \n...                                                  ...            ...  \n29832  a man invests some money partly in 10 % stock ...              a  \n29833  average of 10 matches is 32 , how many runs on...              d  \n29834  solve below question 2 x + 1 = - 23 The option...              c  \n29835  calculate 85184 ÷ ? = 352 The options are: a )...              b  \n29836  7.51 8.22 7.86 8.36 8.09 7.83 8.30 8.01 7.73 8...              e  \n\n[29837 rows x 4 columns]",
      "text/html": "<div>\n<style scoped>\n    .dataframe tbody tr th:only-of-type {\n        vertical-align: middle;\n    }\n\n    .dataframe tbody tr th {\n        vertical-align: top;\n    }\n\n    .dataframe thead th {\n        text-align: right;\n    }\n</style>\n<table border=\"1\" class=\"dataframe\">\n  <thead>\n    <tr style=\"text-align: right;\">\n      <th></th>\n      <th>Name</th>\n      <th>Category</th>\n      <th>Question</th>\n      <th>Correct Answer</th>\n    </tr>\n  </thead>\n  <tbody>\n    <tr>\n      <th>0</th>\n      <td>Self_Check_train</td>\n      <td>Math</td>\n      <td>the banker ' s gain of a certain sum due 3 yea...</td>\n      <td>a</td>\n    </tr>\n    <tr>\n      <th>1</th>\n      <td>Self_Check_train</td>\n      <td>Math</td>\n      <td>average age of students of an adult school is ...</td>\n      <td>d</td>\n    </tr>\n    <tr>\n      <th>2</th>\n      <td>Self_Check_train</td>\n      <td>Math</td>\n      <td>sophia finished 2 / 3 of a book . she calculat...</td>\n      <td>b</td>\n    </tr>\n    <tr>\n      <th>3</th>\n      <td>Self_Check_train</td>\n      <td>Math</td>\n      <td>120 is what percent of 50 ? The options are: a...</td>\n      <td>b</td>\n    </tr>\n    <tr>\n      <th>4</th>\n      <td>Self_Check_train</td>\n      <td>Math</td>\n      <td>there are 10 girls and 20 boys in a classroom ...</td>\n      <td>a</td>\n    </tr>\n    <tr>\n      <th>...</th>\n      <td>...</td>\n      <td>...</td>\n      <td>...</td>\n      <td>...</td>\n    </tr>\n    <tr>\n      <th>29832</th>\n      <td>Self_Check_train</td>\n      <td>Math</td>\n      <td>a man invests some money partly in 10 % stock ...</td>\n      <td>a</td>\n    </tr>\n    <tr>\n      <th>29833</th>\n      <td>Self_Check_train</td>\n      <td>Math</td>\n      <td>average of 10 matches is 32 , how many runs on...</td>\n      <td>d</td>\n    </tr>\n    <tr>\n      <th>29834</th>\n      <td>Self_Check_train</td>\n      <td>Math</td>\n      <td>solve below question 2 x + 1 = - 23 The option...</td>\n      <td>c</td>\n    </tr>\n    <tr>\n      <th>29835</th>\n      <td>Self_Check_train</td>\n      <td>Math</td>\n      <td>calculate 85184 ÷ ? = 352 The options are: a )...</td>\n      <td>b</td>\n    </tr>\n    <tr>\n      <th>29836</th>\n      <td>Self_Check_train</td>\n      <td>Math</td>\n      <td>7.51 8.22 7.86 8.36 8.09 7.83 8.30 8.01 7.73 8...</td>\n      <td>e</td>\n    </tr>\n  </tbody>\n</table>\n<p>29837 rows × 4 columns</p>\n</div>"
     },
     "execution_count": 13,
     "metadata": {},
     "output_type": "execute_result"
    }
   ],
   "source": [
    "data = {\n",
    "    'Question':text,\n",
    "    'Correct Answer':right_answers\n",
    "}\n",
    "df_train = pd.DataFrame(data)\n",
    "df_train.insert(0,'Name','Self_Check_train')\n",
    "df_train.insert(1,'Category','Math')\n",
    "df_train"
   ],
   "metadata": {
    "collapsed": false,
    "ExecuteTime": {
     "end_time": "2024-02-19T21:30:52.292772700Z",
     "start_time": "2024-02-19T21:30:52.268166Z"
    }
   },
   "id": "6456b9f3c19f6c5d"
  },
  {
   "cell_type": "code",
   "execution_count": 14,
   "outputs": [],
   "source": [
    "filename = 'train_socratic.jsonl.txt'\n",
    "text = []\n",
    "right_answers = []\n",
    "\n",
    "with open(filename, 'r', encoding='utf-8') as f:\n",
    "    for line in f:\n",
    "        sample = json.loads(line)\n",
    "        text.append(sample[\"question\"])\n",
    "        full_answer = sample['answer']\n",
    "        answer = full_answer.split('#### ')\n",
    "        right_answers.append(answer[1]) "
   ],
   "metadata": {
    "collapsed": false,
    "ExecuteTime": {
     "end_time": "2024-02-19T21:30:52.387818100Z",
     "start_time": "2024-02-19T21:30:52.283654400Z"
    }
   },
   "id": "443e33223b6ce53"
  },
  {
   "cell_type": "code",
   "execution_count": 15,
   "outputs": [
    {
     "data": {
      "text/plain": "                           Name Category  \\\n0     Self_Check_train_socratic     Math   \n1     Self_Check_train_socratic     Math   \n2     Self_Check_train_socratic     Math   \n3     Self_Check_train_socratic     Math   \n4     Self_Check_train_socratic     Math   \n...                         ...      ...   \n7468  Self_Check_train_socratic     Math   \n7469  Self_Check_train_socratic     Math   \n7470  Self_Check_train_socratic     Math   \n7471  Self_Check_train_socratic     Math   \n7472  Self_Check_train_socratic     Math   \n\n                                               Question Correct Answer  \n0     Natalia sold clips to 48 of her friends in Apr...             72  \n1     Weng earns $12 an hour for babysitting. Yester...             10  \n2     Betty is saving money for a new wallet which c...              5  \n3     Julie is reading a 120-page book. Yesterday, s...             42  \n4     James writes a 3-page letter to 2 different fr...            624  \n...                                                 ...            ...  \n7468  Very early this morning, Elise left home in a ...              5  \n7469  Josh is saving up for a box of cookies. To rai...              3  \n7470  Colin can skip at six times the speed that Bra...              4  \n7471  Janet, a third grade teacher, is picking up th...            308  \n7472  At 30, Anika is 4/3 the age of Maddie. What wo...             50  \n\n[7473 rows x 4 columns]",
      "text/html": "<div>\n<style scoped>\n    .dataframe tbody tr th:only-of-type {\n        vertical-align: middle;\n    }\n\n    .dataframe tbody tr th {\n        vertical-align: top;\n    }\n\n    .dataframe thead th {\n        text-align: right;\n    }\n</style>\n<table border=\"1\" class=\"dataframe\">\n  <thead>\n    <tr style=\"text-align: right;\">\n      <th></th>\n      <th>Name</th>\n      <th>Category</th>\n      <th>Question</th>\n      <th>Correct Answer</th>\n    </tr>\n  </thead>\n  <tbody>\n    <tr>\n      <th>0</th>\n      <td>Self_Check_train_socratic</td>\n      <td>Math</td>\n      <td>Natalia sold clips to 48 of her friends in Apr...</td>\n      <td>72</td>\n    </tr>\n    <tr>\n      <th>1</th>\n      <td>Self_Check_train_socratic</td>\n      <td>Math</td>\n      <td>Weng earns $12 an hour for babysitting. Yester...</td>\n      <td>10</td>\n    </tr>\n    <tr>\n      <th>2</th>\n      <td>Self_Check_train_socratic</td>\n      <td>Math</td>\n      <td>Betty is saving money for a new wallet which c...</td>\n      <td>5</td>\n    </tr>\n    <tr>\n      <th>3</th>\n      <td>Self_Check_train_socratic</td>\n      <td>Math</td>\n      <td>Julie is reading a 120-page book. Yesterday, s...</td>\n      <td>42</td>\n    </tr>\n    <tr>\n      <th>4</th>\n      <td>Self_Check_train_socratic</td>\n      <td>Math</td>\n      <td>James writes a 3-page letter to 2 different fr...</td>\n      <td>624</td>\n    </tr>\n    <tr>\n      <th>...</th>\n      <td>...</td>\n      <td>...</td>\n      <td>...</td>\n      <td>...</td>\n    </tr>\n    <tr>\n      <th>7468</th>\n      <td>Self_Check_train_socratic</td>\n      <td>Math</td>\n      <td>Very early this morning, Elise left home in a ...</td>\n      <td>5</td>\n    </tr>\n    <tr>\n      <th>7469</th>\n      <td>Self_Check_train_socratic</td>\n      <td>Math</td>\n      <td>Josh is saving up for a box of cookies. To rai...</td>\n      <td>3</td>\n    </tr>\n    <tr>\n      <th>7470</th>\n      <td>Self_Check_train_socratic</td>\n      <td>Math</td>\n      <td>Colin can skip at six times the speed that Bra...</td>\n      <td>4</td>\n    </tr>\n    <tr>\n      <th>7471</th>\n      <td>Self_Check_train_socratic</td>\n      <td>Math</td>\n      <td>Janet, a third grade teacher, is picking up th...</td>\n      <td>308</td>\n    </tr>\n    <tr>\n      <th>7472</th>\n      <td>Self_Check_train_socratic</td>\n      <td>Math</td>\n      <td>At 30, Anika is 4/3 the age of Maddie. What wo...</td>\n      <td>50</td>\n    </tr>\n  </tbody>\n</table>\n<p>7473 rows × 4 columns</p>\n</div>"
     },
     "execution_count": 15,
     "metadata": {},
     "output_type": "execute_result"
    }
   ],
   "source": [
    "data = {\n",
    "    'Question':text,\n",
    "    'Correct Answer':right_answers\n",
    "}\n",
    "df_train_socratic = pd.DataFrame(data)\n",
    "df_train_socratic.insert(0,'Name','Self_Check_train_socratic')\n",
    "df_train_socratic.insert(1,'Category','Math')\n",
    "df_train_socratic"
   ],
   "metadata": {
    "collapsed": false,
    "ExecuteTime": {
     "end_time": "2024-02-19T21:30:52.387818100Z",
     "start_time": "2024-02-19T21:30:52.331787300Z"
    }
   },
   "id": "d3f50cdf67ad928e"
  },
  {
   "cell_type": "code",
   "execution_count": 16,
   "outputs": [
    {
     "data": {
      "text/plain": "                            Name          Category  \\\n0      Self_Check_challenge_test  Challenging Math   \n1      Self_Check_challenge_test  Challenging Math   \n2      Self_Check_challenge_test  Challenging Math   \n3      Self_Check_challenge_test  Challenging Math   \n4      Self_Check_challenge_test  Challenging Math   \n...                          ...               ...   \n47388  Self_Check_train_socratic              Math   \n47389  Self_Check_train_socratic              Math   \n47390  Self_Check_train_socratic              Math   \n47391  Self_Check_train_socratic              Math   \n47392  Self_Check_train_socratic              Math   \n\n                                                Question Correct Answer  \n0      there are 1000 buildings in a street . a sign ...              c  \n1      a man bought 20 shares of rs . 50 at 5 discoun...              c  \n2      ? % of 360 = 108 The options are: a ) 30 , b )...              a  \n3      a corporation double its annual bonus to 100 o...              a  \n4      a and b together do a work in 20 days . b and ...              b  \n...                                                  ...            ...  \n47388  Very early this morning, Elise left home in a ...              5  \n47389  Josh is saving up for a box of cookies. To rai...              3  \n47390  Colin can skip at six times the speed that Bra...              4  \n47391  Janet, a third grade teacher, is picking up th...            308  \n47392  At 30, Anika is 4/3 the age of Maddie. What wo...             50  \n\n[47393 rows x 4 columns]",
      "text/html": "<div>\n<style scoped>\n    .dataframe tbody tr th:only-of-type {\n        vertical-align: middle;\n    }\n\n    .dataframe tbody tr th {\n        vertical-align: top;\n    }\n\n    .dataframe thead th {\n        text-align: right;\n    }\n</style>\n<table border=\"1\" class=\"dataframe\">\n  <thead>\n    <tr style=\"text-align: right;\">\n      <th></th>\n      <th>Name</th>\n      <th>Category</th>\n      <th>Question</th>\n      <th>Correct Answer</th>\n    </tr>\n  </thead>\n  <tbody>\n    <tr>\n      <th>0</th>\n      <td>Self_Check_challenge_test</td>\n      <td>Challenging Math</td>\n      <td>there are 1000 buildings in a street . a sign ...</td>\n      <td>c</td>\n    </tr>\n    <tr>\n      <th>1</th>\n      <td>Self_Check_challenge_test</td>\n      <td>Challenging Math</td>\n      <td>a man bought 20 shares of rs . 50 at 5 discoun...</td>\n      <td>c</td>\n    </tr>\n    <tr>\n      <th>2</th>\n      <td>Self_Check_challenge_test</td>\n      <td>Challenging Math</td>\n      <td>? % of 360 = 108 The options are: a ) 30 , b )...</td>\n      <td>a</td>\n    </tr>\n    <tr>\n      <th>3</th>\n      <td>Self_Check_challenge_test</td>\n      <td>Challenging Math</td>\n      <td>a corporation double its annual bonus to 100 o...</td>\n      <td>a</td>\n    </tr>\n    <tr>\n      <th>4</th>\n      <td>Self_Check_challenge_test</td>\n      <td>Challenging Math</td>\n      <td>a and b together do a work in 20 days . b and ...</td>\n      <td>b</td>\n    </tr>\n    <tr>\n      <th>...</th>\n      <td>...</td>\n      <td>...</td>\n      <td>...</td>\n      <td>...</td>\n    </tr>\n    <tr>\n      <th>47388</th>\n      <td>Self_Check_train_socratic</td>\n      <td>Math</td>\n      <td>Very early this morning, Elise left home in a ...</td>\n      <td>5</td>\n    </tr>\n    <tr>\n      <th>47389</th>\n      <td>Self_Check_train_socratic</td>\n      <td>Math</td>\n      <td>Josh is saving up for a box of cookies. To rai...</td>\n      <td>3</td>\n    </tr>\n    <tr>\n      <th>47390</th>\n      <td>Self_Check_train_socratic</td>\n      <td>Math</td>\n      <td>Colin can skip at six times the speed that Bra...</td>\n      <td>4</td>\n    </tr>\n    <tr>\n      <th>47391</th>\n      <td>Self_Check_train_socratic</td>\n      <td>Math</td>\n      <td>Janet, a third grade teacher, is picking up th...</td>\n      <td>308</td>\n    </tr>\n    <tr>\n      <th>47392</th>\n      <td>Self_Check_train_socratic</td>\n      <td>Math</td>\n      <td>At 30, Anika is 4/3 the age of Maddie. What wo...</td>\n      <td>50</td>\n    </tr>\n  </tbody>\n</table>\n<p>47393 rows × 4 columns</p>\n</div>"
     },
     "execution_count": 16,
     "metadata": {},
     "output_type": "execute_result"
    }
   ],
   "source": [
    "df_all = pd.concat([df_challenge,df_dev,df_MATH_np,df_test,df_test_jsonl,df_train,df_train_socratic],ignore_index=True)\n",
    "df_all"
   ],
   "metadata": {
    "collapsed": false,
    "ExecuteTime": {
     "end_time": "2024-02-19T21:30:52.404817400Z",
     "start_time": "2024-02-19T21:30:52.346347300Z"
    }
   },
   "id": "923da43ede79cda1"
  },
  {
   "cell_type": "code",
   "execution_count": 17,
   "outputs": [],
   "source": [
    "df_all.to_csv('../preprocessed/Self_Check.csv',index=False)"
   ],
   "metadata": {
    "collapsed": false,
    "ExecuteTime": {
     "end_time": "2024-02-19T21:31:44.881508500Z",
     "start_time": "2024-02-19T21:31:44.695573500Z"
    }
   },
   "id": "5cbcfb16fe78c2c6"
  },
  {
   "cell_type": "code",
   "execution_count": null,
   "outputs": [],
   "source": [],
   "metadata": {
    "collapsed": false
   },
   "id": "71599d7ceab59e9a"
  }
 ],
 "metadata": {
  "kernelspec": {
   "name": "llm_hall_project",
   "language": "python",
   "display_name": "llm_hall"
  },
  "language_info": {
   "codemirror_mode": {
    "name": "ipython",
    "version": 2
   },
   "file_extension": ".py",
   "mimetype": "text/x-python",
   "name": "python",
   "nbconvert_exporter": "python",
   "pygments_lexer": "ipython2",
   "version": "2.7.6"
  }
 },
 "nbformat": 4,
 "nbformat_minor": 5
}
