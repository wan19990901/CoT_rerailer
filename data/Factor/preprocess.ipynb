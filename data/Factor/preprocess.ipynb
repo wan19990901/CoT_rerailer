{
 "cells": [
  {
   "cell_type": "code",
   "execution_count": 26,
   "id": "initial_id",
   "metadata": {
    "collapsed": true,
    "ExecuteTime": {
     "end_time": "2024-02-19T21:36:15.500853700Z",
     "start_time": "2024-02-19T21:36:15.497881300Z"
    }
   },
   "outputs": [],
   "source": [
    "import pandas as pd\n",
    "import re"
   ]
  },
  {
   "cell_type": "code",
   "execution_count": 27,
   "outputs": [
    {
     "data": {
      "text/plain": "     Unnamed: 0.1  Unnamed: 0  \\\n0               0           0   \n1               1           1   \n2               2           2   \n3               3           3   \n4               4           4   \n..            ...         ...   \n231           231         231   \n232           232         232   \n233           233         233   \n234           234         234   \n235           235         235   \n\n                                           full_prefix  \\\n0    Question: How would you approach a customer to...   \n1    Question: How long does it take to become a re...   \n2    Question: What is the role of Total Quality Ma...   \n3    Question: Will employees understand that Artif...   \n4    Question: Are incentives aligned with business...   \n..                                                 ...   \n231  Question: A thief has been caught trying to br...   \n232  Question: Should the Royal Navy implement dron...   \n233  Question: How powerful is the Russian Navy?\\nA...   \n234  Question: I have an unknown space whose fundam...   \n235  Question: Describe mob justice in the case of ...   \n\n                                               context  doc_id  \\\n0    Asnwer:To approach a customer to influence the...       5   \n1    Question: How long does it take to become a re...       6   \n2    Organizations can work collaboratively with th...       7   \n3    Asnwer:Yes, with proper education and communic...       8   \n4    Question: Are incentives aligned with business...       9   \n..                                                 ...     ...   \n231  This may involve conducting an initial hearing...     199   \n232  Question: Should the Royal Navy implement dron...     200   \n233  It currently ranks as the fourth-strongest nav...     201   \n234  Such a topological space has a simple, closed ...     203   \n235  Mob justice usually arises in situations where...     204   \n\n                                            completion  \\\n0    Involve the customers in the decision-making p...   \n1    Becoming a real estate agent generally takes a...   \n2    Encouraging employee involvement and investing...   \n3    By highlighting the benefits of AI, such as in...   \n4    Incentives in the field of business are genera...   \n..                                                 ...   \n231  Additionally, it is important to follow the pr...   \n232  The Royal Navy should consider implementing dr...   \n233  The Russian Navy has demonstrated significant ...   \n234  In the case of the two-dimensional torus, ther...   \n235  The reasons behind mob justice are not entirel...   \n\n                                       contradiction_0  \\\n0    Involve you in the decision-making process by ...   \n1    Becoming a real estate agent generally takes a...   \n2    Discouraging employee involvement and investin...   \n3    By highlighting the benefits of AI, such as in...   \n4    Incentives in the field of business are rarely...   \n..                                                 ...   \n231  Additionally, it is important to not follow th...   \n232  The Royal Navy should abstain from implementin...   \n233  The Russian Navy has demonstrated significant ...   \n234  In the case of the two-dimensional torus, ther...   \n235  The reasons behind mob justice are completely ...   \n\n                                       contradiction_1  \\\n0    Disengage the customers from the decision-maki...   \n1    Becoming a real estate agent generally takes a...   \n2    Ignoring employee involvement and investing in...   \n3    By highlighting the benefits of AI, such as in...   \n4    Incentives in the field of business are genera...   \n..                                                 ...   \n231  Additionally, it is important to follow the pr...   \n232  The Royal Navy should refrain from implementin...   \n233  The United States Navy has demonstrated signif...   \n234  In the case of the two-dimensional torus, ther...   \n235  The reasons behind mob justice are completely ...   \n\n                                       contradiction_2  longest_completions  \\\n0    Involve yourself in the decision-making proces...                 34.0   \n1    Becoming a real estate agent generally takes a...                 27.0   \n2    Encouraging employee involvement and withholdi...                 36.0   \n3    By highlighting the benefits of AI, such as in...                 46.0   \n4    Incentives in the field of business are genera...                 29.0   \n..                                                 ...                  ...   \n231  Additionally, it is important to follow the pr...                 49.0   \n232  The Royal Navy should consider implementing dr...                 31.0   \n233  The Russian Navy has demonstrated limited capa...                 28.0   \n234  In the case of the two-dimensional torus, ther...                 65.0   \n235  The reasons behind mob justice are fully justi...                 35.0   \n\n                                    turncated_prefixes  \n0    Question: How would you approach a customer to...  \n1    Question: How long does it take to become a re...  \n2    Question: What is the role of Total Quality Ma...  \n3    Question: Will employees understand that Artif...  \n4    Question: Are incentives aligned with business...  \n..                                                 ...  \n231  Question: A thief has been caught trying to br...  \n232  Question: Should the Royal Navy implement dron...  \n233  Question: How powerful is the Russian Navy?\\nA...  \n234  Question: I have an unknown space whose fundam...  \n235  Question: Describe mob justice in the case of ...  \n\n[236 rows x 11 columns]",
      "text/html": "<div>\n<style scoped>\n    .dataframe tbody tr th:only-of-type {\n        vertical-align: middle;\n    }\n\n    .dataframe tbody tr th {\n        vertical-align: top;\n    }\n\n    .dataframe thead th {\n        text-align: right;\n    }\n</style>\n<table border=\"1\" class=\"dataframe\">\n  <thead>\n    <tr style=\"text-align: right;\">\n      <th></th>\n      <th>Unnamed: 0.1</th>\n      <th>Unnamed: 0</th>\n      <th>full_prefix</th>\n      <th>context</th>\n      <th>doc_id</th>\n      <th>completion</th>\n      <th>contradiction_0</th>\n      <th>contradiction_1</th>\n      <th>contradiction_2</th>\n      <th>longest_completions</th>\n      <th>turncated_prefixes</th>\n    </tr>\n  </thead>\n  <tbody>\n    <tr>\n      <th>0</th>\n      <td>0</td>\n      <td>0</td>\n      <td>Question: How would you approach a customer to...</td>\n      <td>Asnwer:To approach a customer to influence the...</td>\n      <td>5</td>\n      <td>Involve the customers in the decision-making p...</td>\n      <td>Involve you in the decision-making process by ...</td>\n      <td>Disengage the customers from the decision-maki...</td>\n      <td>Involve yourself in the decision-making proces...</td>\n      <td>34.0</td>\n      <td>Question: How would you approach a customer to...</td>\n    </tr>\n    <tr>\n      <th>1</th>\n      <td>1</td>\n      <td>1</td>\n      <td>Question: How long does it take to become a re...</td>\n      <td>Question: How long does it take to become a re...</td>\n      <td>6</td>\n      <td>Becoming a real estate agent generally takes a...</td>\n      <td>Becoming a real estate agent generally takes a...</td>\n      <td>Becoming a real estate agent generally takes a...</td>\n      <td>Becoming a real estate agent generally takes a...</td>\n      <td>27.0</td>\n      <td>Question: How long does it take to become a re...</td>\n    </tr>\n    <tr>\n      <th>2</th>\n      <td>2</td>\n      <td>2</td>\n      <td>Question: What is the role of Total Quality Ma...</td>\n      <td>Organizations can work collaboratively with th...</td>\n      <td>7</td>\n      <td>Encouraging employee involvement and investing...</td>\n      <td>Discouraging employee involvement and investin...</td>\n      <td>Ignoring employee involvement and investing in...</td>\n      <td>Encouraging employee involvement and withholdi...</td>\n      <td>36.0</td>\n      <td>Question: What is the role of Total Quality Ma...</td>\n    </tr>\n    <tr>\n      <th>3</th>\n      <td>3</td>\n      <td>3</td>\n      <td>Question: Will employees understand that Artif...</td>\n      <td>Asnwer:Yes, with proper education and communic...</td>\n      <td>8</td>\n      <td>By highlighting the benefits of AI, such as in...</td>\n      <td>By highlighting the benefits of AI, such as in...</td>\n      <td>By highlighting the benefits of AI, such as in...</td>\n      <td>By highlighting the benefits of AI, such as in...</td>\n      <td>46.0</td>\n      <td>Question: Will employees understand that Artif...</td>\n    </tr>\n    <tr>\n      <th>4</th>\n      <td>4</td>\n      <td>4</td>\n      <td>Question: Are incentives aligned with business...</td>\n      <td>Question: Are incentives aligned with business...</td>\n      <td>9</td>\n      <td>Incentives in the field of business are genera...</td>\n      <td>Incentives in the field of business are rarely...</td>\n      <td>Incentives in the field of business are genera...</td>\n      <td>Incentives in the field of business are genera...</td>\n      <td>29.0</td>\n      <td>Question: Are incentives aligned with business...</td>\n    </tr>\n    <tr>\n      <th>...</th>\n      <td>...</td>\n      <td>...</td>\n      <td>...</td>\n      <td>...</td>\n      <td>...</td>\n      <td>...</td>\n      <td>...</td>\n      <td>...</td>\n      <td>...</td>\n      <td>...</td>\n      <td>...</td>\n    </tr>\n    <tr>\n      <th>231</th>\n      <td>231</td>\n      <td>231</td>\n      <td>Question: A thief has been caught trying to br...</td>\n      <td>This may involve conducting an initial hearing...</td>\n      <td>199</td>\n      <td>Additionally, it is important to follow the pr...</td>\n      <td>Additionally, it is important to not follow th...</td>\n      <td>Additionally, it is important to follow the pr...</td>\n      <td>Additionally, it is important to follow the pr...</td>\n      <td>49.0</td>\n      <td>Question: A thief has been caught trying to br...</td>\n    </tr>\n    <tr>\n      <th>232</th>\n      <td>232</td>\n      <td>232</td>\n      <td>Question: Should the Royal Navy implement dron...</td>\n      <td>Question: Should the Royal Navy implement dron...</td>\n      <td>200</td>\n      <td>The Royal Navy should consider implementing dr...</td>\n      <td>The Royal Navy should abstain from implementin...</td>\n      <td>The Royal Navy should refrain from implementin...</td>\n      <td>The Royal Navy should consider implementing dr...</td>\n      <td>31.0</td>\n      <td>Question: Should the Royal Navy implement dron...</td>\n    </tr>\n    <tr>\n      <th>233</th>\n      <td>233</td>\n      <td>233</td>\n      <td>Question: How powerful is the Russian Navy?\\nA...</td>\n      <td>It currently ranks as the fourth-strongest nav...</td>\n      <td>201</td>\n      <td>The Russian Navy has demonstrated significant ...</td>\n      <td>The Russian Navy has demonstrated significant ...</td>\n      <td>The United States Navy has demonstrated signif...</td>\n      <td>The Russian Navy has demonstrated limited capa...</td>\n      <td>28.0</td>\n      <td>Question: How powerful is the Russian Navy?\\nA...</td>\n    </tr>\n    <tr>\n      <th>234</th>\n      <td>234</td>\n      <td>234</td>\n      <td>Question: I have an unknown space whose fundam...</td>\n      <td>Such a topological space has a simple, closed ...</td>\n      <td>203</td>\n      <td>In the case of the two-dimensional torus, ther...</td>\n      <td>In the case of the two-dimensional torus, ther...</td>\n      <td>In the case of the two-dimensional torus, ther...</td>\n      <td>In the case of the two-dimensional torus, ther...</td>\n      <td>65.0</td>\n      <td>Question: I have an unknown space whose fundam...</td>\n    </tr>\n    <tr>\n      <th>235</th>\n      <td>235</td>\n      <td>235</td>\n      <td>Question: Describe mob justice in the case of ...</td>\n      <td>Mob justice usually arises in situations where...</td>\n      <td>204</td>\n      <td>The reasons behind mob justice are not entirel...</td>\n      <td>The reasons behind mob justice are completely ...</td>\n      <td>The reasons behind mob justice are completely ...</td>\n      <td>The reasons behind mob justice are fully justi...</td>\n      <td>35.0</td>\n      <td>Question: Describe mob justice in the case of ...</td>\n    </tr>\n  </tbody>\n</table>\n<p>236 rows × 11 columns</p>\n</div>"
     },
     "execution_count": 27,
     "metadata": {},
     "output_type": "execute_result"
    }
   ],
   "source": [
    "df_expert = pd.read_csv('expert_factor.csv')\n",
    "df_expert"
   ],
   "metadata": {
    "collapsed": false,
    "ExecuteTime": {
     "end_time": "2024-02-19T21:36:17.779227600Z",
     "start_time": "2024-02-19T21:36:17.720140200Z"
    }
   },
   "id": "ffffe510da2c7dd8"
  },
  {
   "cell_type": "code",
   "execution_count": 28,
   "outputs": [
    {
     "data": {
      "text/plain": "              Name      Category  \\\n0    expert_factor  expert facts   \n1    expert_factor  expert facts   \n2    expert_factor  expert facts   \n3    expert_factor  expert facts   \n4    expert_factor  expert facts   \n..             ...           ...   \n231  expert_factor  expert facts   \n232  expert_factor  expert facts   \n233  expert_factor  expert facts   \n234  expert_factor  expert facts   \n235  expert_factor  expert facts   \n\n                                              Question  \\\n0    How would you approach a customer to influence...   \n1    How long does it take to become a real estate ...   \n2    What is the role of Total Quality Management i...   \n3    Will employees understand that Artificial Inte...   \n4          Are incentives aligned with business goals?   \n..                                                 ...   \n231  A thief has been caught trying to break into t...   \n232  Should the Royal Navy implement drone technology?   \n233                  How powerful is the Russian Navy?   \n234  I have an unknown space whose fundamental grou...   \n235  Describe mob justice in the case of a response...   \n\n                                        Correct Answer  \n0    Involve the customers in the decision-making p...  \n1    Becoming a real estate agent generally takes a...  \n2    Encouraging employee involvement and investing...  \n3    By highlighting the benefits of AI, such as in...  \n4    Incentives in the field of business are genera...  \n..                                                 ...  \n231  Additionally, it is important to follow the pr...  \n232  The Royal Navy should consider implementing dr...  \n233  The Russian Navy has demonstrated significant ...  \n234  In the case of the two-dimensional torus, ther...  \n235  The reasons behind mob justice are not entirel...  \n\n[236 rows x 4 columns]",
      "text/html": "<div>\n<style scoped>\n    .dataframe tbody tr th:only-of-type {\n        vertical-align: middle;\n    }\n\n    .dataframe tbody tr th {\n        vertical-align: top;\n    }\n\n    .dataframe thead th {\n        text-align: right;\n    }\n</style>\n<table border=\"1\" class=\"dataframe\">\n  <thead>\n    <tr style=\"text-align: right;\">\n      <th></th>\n      <th>Name</th>\n      <th>Category</th>\n      <th>Question</th>\n      <th>Correct Answer</th>\n    </tr>\n  </thead>\n  <tbody>\n    <tr>\n      <th>0</th>\n      <td>expert_factor</td>\n      <td>expert facts</td>\n      <td>How would you approach a customer to influence...</td>\n      <td>Involve the customers in the decision-making p...</td>\n    </tr>\n    <tr>\n      <th>1</th>\n      <td>expert_factor</td>\n      <td>expert facts</td>\n      <td>How long does it take to become a real estate ...</td>\n      <td>Becoming a real estate agent generally takes a...</td>\n    </tr>\n    <tr>\n      <th>2</th>\n      <td>expert_factor</td>\n      <td>expert facts</td>\n      <td>What is the role of Total Quality Management i...</td>\n      <td>Encouraging employee involvement and investing...</td>\n    </tr>\n    <tr>\n      <th>3</th>\n      <td>expert_factor</td>\n      <td>expert facts</td>\n      <td>Will employees understand that Artificial Inte...</td>\n      <td>By highlighting the benefits of AI, such as in...</td>\n    </tr>\n    <tr>\n      <th>4</th>\n      <td>expert_factor</td>\n      <td>expert facts</td>\n      <td>Are incentives aligned with business goals?</td>\n      <td>Incentives in the field of business are genera...</td>\n    </tr>\n    <tr>\n      <th>...</th>\n      <td>...</td>\n      <td>...</td>\n      <td>...</td>\n      <td>...</td>\n    </tr>\n    <tr>\n      <th>231</th>\n      <td>expert_factor</td>\n      <td>expert facts</td>\n      <td>A thief has been caught trying to break into t...</td>\n      <td>Additionally, it is important to follow the pr...</td>\n    </tr>\n    <tr>\n      <th>232</th>\n      <td>expert_factor</td>\n      <td>expert facts</td>\n      <td>Should the Royal Navy implement drone technology?</td>\n      <td>The Royal Navy should consider implementing dr...</td>\n    </tr>\n    <tr>\n      <th>233</th>\n      <td>expert_factor</td>\n      <td>expert facts</td>\n      <td>How powerful is the Russian Navy?</td>\n      <td>The Russian Navy has demonstrated significant ...</td>\n    </tr>\n    <tr>\n      <th>234</th>\n      <td>expert_factor</td>\n      <td>expert facts</td>\n      <td>I have an unknown space whose fundamental grou...</td>\n      <td>In the case of the two-dimensional torus, ther...</td>\n    </tr>\n    <tr>\n      <th>235</th>\n      <td>expert_factor</td>\n      <td>expert facts</td>\n      <td>Describe mob justice in the case of a response...</td>\n      <td>The reasons behind mob justice are not entirel...</td>\n    </tr>\n  </tbody>\n</table>\n<p>236 rows × 4 columns</p>\n</div>"
     },
     "execution_count": 28,
     "metadata": {},
     "output_type": "execute_result"
    }
   ],
   "source": [
    "df_expert_dict = {\n",
    "    'Question':[],\n",
    "    'Correct Answer':[],\n",
    "}\n",
    "full_prefix_li = df_expert.full_prefix.tolist()\n",
    "completion_li = df_expert.completion.tolist()\n",
    "pattern = r\"Question: (.*)\\nAsnwer:\"\n",
    "for (full_prefix,completion) in (zip(full_prefix_li,completion_li)):\n",
    "    extracted_contents = re.findall(pattern, full_prefix)\n",
    "    df_expert_dict['Question'].append(extracted_contents[0])\n",
    "    df_expert_dict['Correct Answer'].append(completion)\n",
    "df_expert_p = pd.DataFrame.from_dict(df_expert_dict)\n",
    "df_expert_p.insert(0,'Name','expert_factor')\n",
    "df_expert_p.insert(1,'Category','expert facts')\n",
    "df_expert_p"
   ],
   "metadata": {
    "collapsed": false,
    "ExecuteTime": {
     "end_time": "2024-02-19T21:36:19.966052800Z",
     "start_time": "2024-02-19T21:36:19.941273Z"
    }
   },
   "id": "cbd4d26ca2a4985"
  },
  {
   "cell_type": "code",
   "execution_count": 29,
   "outputs": [],
   "source": [
    "df_expert_p.to_csv('../preprocessed/Factor_expert.csv',index=False)"
   ],
   "metadata": {
    "collapsed": false,
    "ExecuteTime": {
     "end_time": "2024-02-19T21:36:28.257193Z",
     "start_time": "2024-02-19T21:36:28.242160900Z"
    }
   },
   "id": "d0d819c762b44e99"
  },
  {
   "cell_type": "code",
   "execution_count": 3,
   "outputs": [
    {
     "data": {
      "text/plain": "      Unnamed: 0                                        full_prefix  doc_id  \\\n0              0  As streaming television services continue to g...       0   \n1              1  World stocks rally, dollar dips as investors w...       2   \n2              2  Tales of tornado survival: Mayfield, Kentucky ...       3   \n3              3  Mexico core price inflation at 20-year high, u...       5   \n4              4  Greece's Alpha Bank posts Q3 losses on higher ...       6   \n...          ...                                                ...     ...   \n1031        1031  China’s real estate renovation is too cosmetic...    1825   \n1032        1032  (Reuters) - Chinese ride-hailing giant Didi Gl...    1826   \n1033        1033  WASHINGTON, Jan 10 (Reuters) - U.S. Senate Dem...    1829   \n1034        1034  U.S. imposes sanctions on two Lebanese busines...    1830   \n1035        1035  Africa's first chief heat officer - on a missi...    1831   \n\n                                             completion  \\\n0     Whether or not it gets a second season of The ...   \n1     In Europe, German 10-year yields fell 11 bps t...   \n2     There he was shocked to see a framed oil paint...   \n3     Annual core inflation accelerated to 6.52%, be...   \n4     Alpha Bank and Davidson Kempner signed earlier...   \n...                                                 ...   \n1031  - Residential property sales fell 32% in the f...   \n1032  Didi, which last month set the EGM on May 23 t...   \n1033  Under the proposal, at least another 2 million...   \n1034  The allegations come amid an unprecedented eco...   \n1035  She joins Jane Gilbert and Eleni Myrivili, wom...   \n\n                                        contradiction_0  \\\n0     Whether or not it gets a second season of Stra...   \n1     In Europe, German 10-year yields fell 11 bps t...   \n2     There she was shocked to see a framed oil pain...   \n3     Annual core inflation slowed to 6.52%, beating...   \n4     Alpha Bank and Davidson Kempner signed last ye...   \n...                                                 ...   \n1031  Residential property sales fell 32% in the fir...   \n1032  Didi, which last month set the EGM on June 15 ...   \n1033  Under the proposal, at least another 200,000 i...   \n1034  The allegations come amid an unprecedented eco...   \n1035  She joins Jane Gilbert and Eleni Myrivili, wom...   \n\n                                        contradiction_1  \\\n0     Whether or not it gets a fifth season of The W...   \n1     In Europe, German 10-year yields surged 11 bps...   \n2     There he was shocked to see a framed oil paint...   \n3     Annual core inflation accelerated to 5.33%, be...   \n4     Alpha Bank and Davidson Kempner failed to sign...   \n...                                                 ...   \n1031  Residential property sales increased 32% in th...   \n1032  Green Hill Capital, which last month set the E...   \n1033  Despite the proposal, at least another 2 milli...   \n1034  The allegations come amid a common economic cr...   \n1035  She joins Jane Gilbert and Eleni Myrivili, wom...   \n\n                                        contradiction_2  longest_completions  \\\n0     Whether or not it gets a second season of Blac...                 15.0   \n1     In Europe, Irish 10-year yields fell 11 bps to...                 34.0   \n2     There he was shocked to see a framed oil paint...                 33.0   \n3     Annual core inflation accelerated to 4.90%, be...                 20.0   \n4     Alpha Bank and Davidson Kempner signed earlier...                 35.0   \n...                                                 ...                  ...   \n1031  Residential property sales fell 32% in the fir...                 36.0   \n1032  The Chinese government, which last month set t...                 48.0   \n1033  Under the proposal, at least another 2 million...                 42.0   \n1034  The allegations come amid a longstanding econo...                 39.0   \n1035  She joins Jane Gilbert and Eleni Myrivili, wom...                 34.0   \n\n                                     turncated_prefixes  \n0     As streaming television services continue to g...  \n1     World stocks rally, dollar dips as investors w...  \n2     Tales of tornado survival: Mayfield, Kentucky ...  \n3     Mexico core price inflation at 20-year high, u...  \n4     Greece's Alpha Bank posts Q3 losses on higher ...  \n...                                                 ...  \n1031  China’s real estate renovation is too cosmetic...  \n1032  (Reuters) - Chinese ride-hailing giant Didi Gl...  \n1033  WASHINGTON, Jan 10 (Reuters) - U.S. Senate Dem...  \n1034  U.S. imposes sanctions on two Lebanese busines...  \n1035  Africa's first chief heat officer - on a missi...  \n\n[1036 rows x 9 columns]",
      "text/html": "<div>\n<style scoped>\n    .dataframe tbody tr th:only-of-type {\n        vertical-align: middle;\n    }\n\n    .dataframe tbody tr th {\n        vertical-align: top;\n    }\n\n    .dataframe thead th {\n        text-align: right;\n    }\n</style>\n<table border=\"1\" class=\"dataframe\">\n  <thead>\n    <tr style=\"text-align: right;\">\n      <th></th>\n      <th>Unnamed: 0</th>\n      <th>full_prefix</th>\n      <th>doc_id</th>\n      <th>completion</th>\n      <th>contradiction_0</th>\n      <th>contradiction_1</th>\n      <th>contradiction_2</th>\n      <th>longest_completions</th>\n      <th>turncated_prefixes</th>\n    </tr>\n  </thead>\n  <tbody>\n    <tr>\n      <th>0</th>\n      <td>0</td>\n      <td>As streaming television services continue to g...</td>\n      <td>0</td>\n      <td>Whether or not it gets a second season of The ...</td>\n      <td>Whether or not it gets a second season of Stra...</td>\n      <td>Whether or not it gets a fifth season of The W...</td>\n      <td>Whether or not it gets a second season of Blac...</td>\n      <td>15.0</td>\n      <td>As streaming television services continue to g...</td>\n    </tr>\n    <tr>\n      <th>1</th>\n      <td>1</td>\n      <td>World stocks rally, dollar dips as investors w...</td>\n      <td>2</td>\n      <td>In Europe, German 10-year yields fell 11 bps t...</td>\n      <td>In Europe, German 10-year yields fell 11 bps t...</td>\n      <td>In Europe, German 10-year yields surged 11 bps...</td>\n      <td>In Europe, Irish 10-year yields fell 11 bps to...</td>\n      <td>34.0</td>\n      <td>World stocks rally, dollar dips as investors w...</td>\n    </tr>\n    <tr>\n      <th>2</th>\n      <td>2</td>\n      <td>Tales of tornado survival: Mayfield, Kentucky ...</td>\n      <td>3</td>\n      <td>There he was shocked to see a framed oil paint...</td>\n      <td>There she was shocked to see a framed oil pain...</td>\n      <td>There he was shocked to see a framed oil paint...</td>\n      <td>There he was shocked to see a framed oil paint...</td>\n      <td>33.0</td>\n      <td>Tales of tornado survival: Mayfield, Kentucky ...</td>\n    </tr>\n    <tr>\n      <th>3</th>\n      <td>3</td>\n      <td>Mexico core price inflation at 20-year high, u...</td>\n      <td>5</td>\n      <td>Annual core inflation accelerated to 6.52%, be...</td>\n      <td>Annual core inflation slowed to 6.52%, beating...</td>\n      <td>Annual core inflation accelerated to 5.33%, be...</td>\n      <td>Annual core inflation accelerated to 4.90%, be...</td>\n      <td>20.0</td>\n      <td>Mexico core price inflation at 20-year high, u...</td>\n    </tr>\n    <tr>\n      <th>4</th>\n      <td>4</td>\n      <td>Greece's Alpha Bank posts Q3 losses on higher ...</td>\n      <td>6</td>\n      <td>Alpha Bank and Davidson Kempner signed earlier...</td>\n      <td>Alpha Bank and Davidson Kempner signed last ye...</td>\n      <td>Alpha Bank and Davidson Kempner failed to sign...</td>\n      <td>Alpha Bank and Davidson Kempner signed earlier...</td>\n      <td>35.0</td>\n      <td>Greece's Alpha Bank posts Q3 losses on higher ...</td>\n    </tr>\n    <tr>\n      <th>...</th>\n      <td>...</td>\n      <td>...</td>\n      <td>...</td>\n      <td>...</td>\n      <td>...</td>\n      <td>...</td>\n      <td>...</td>\n      <td>...</td>\n      <td>...</td>\n    </tr>\n    <tr>\n      <th>1031</th>\n      <td>1031</td>\n      <td>China’s real estate renovation is too cosmetic...</td>\n      <td>1825</td>\n      <td>- Residential property sales fell 32% in the f...</td>\n      <td>Residential property sales fell 32% in the fir...</td>\n      <td>Residential property sales increased 32% in th...</td>\n      <td>Residential property sales fell 32% in the fir...</td>\n      <td>36.0</td>\n      <td>China’s real estate renovation is too cosmetic...</td>\n    </tr>\n    <tr>\n      <th>1032</th>\n      <td>1032</td>\n      <td>(Reuters) - Chinese ride-hailing giant Didi Gl...</td>\n      <td>1826</td>\n      <td>Didi, which last month set the EGM on May 23 t...</td>\n      <td>Didi, which last month set the EGM on June 15 ...</td>\n      <td>Green Hill Capital, which last month set the E...</td>\n      <td>The Chinese government, which last month set t...</td>\n      <td>48.0</td>\n      <td>(Reuters) - Chinese ride-hailing giant Didi Gl...</td>\n    </tr>\n    <tr>\n      <th>1033</th>\n      <td>1033</td>\n      <td>WASHINGTON, Jan 10 (Reuters) - U.S. Senate Dem...</td>\n      <td>1829</td>\n      <td>Under the proposal, at least another 2 million...</td>\n      <td>Under the proposal, at least another 200,000 i...</td>\n      <td>Despite the proposal, at least another 2 milli...</td>\n      <td>Under the proposal, at least another 2 million...</td>\n      <td>42.0</td>\n      <td>WASHINGTON, Jan 10 (Reuters) - U.S. Senate Dem...</td>\n    </tr>\n    <tr>\n      <th>1034</th>\n      <td>1034</td>\n      <td>U.S. imposes sanctions on two Lebanese busines...</td>\n      <td>1830</td>\n      <td>The allegations come amid an unprecedented eco...</td>\n      <td>The allegations come amid an unprecedented eco...</td>\n      <td>The allegations come amid a common economic cr...</td>\n      <td>The allegations come amid a longstanding econo...</td>\n      <td>39.0</td>\n      <td>U.S. imposes sanctions on two Lebanese busines...</td>\n    </tr>\n    <tr>\n      <th>1035</th>\n      <td>1035</td>\n      <td>Africa's first chief heat officer - on a missi...</td>\n      <td>1831</td>\n      <td>She joins Jane Gilbert and Eleni Myrivili, wom...</td>\n      <td>She joins Jane Gilbert and Eleni Myrivili, wom...</td>\n      <td>She joins Jane Gilbert and Eleni Myrivili, wom...</td>\n      <td>She joins Jane Gilbert and Eleni Myrivili, wom...</td>\n      <td>34.0</td>\n      <td>Africa's first chief heat officer - on a missi...</td>\n    </tr>\n  </tbody>\n</table>\n<p>1036 rows × 9 columns</p>\n</div>"
     },
     "execution_count": 3,
     "metadata": {},
     "output_type": "execute_result"
    }
   ],
   "source": [
    "df_news = pd.read_csv('news_factor.csv')\n",
    "df_news"
   ],
   "metadata": {
    "collapsed": false,
    "ExecuteTime": {
     "end_time": "2024-02-19T18:51:04.049136600Z",
     "start_time": "2024-02-19T18:51:03.992559500Z"
    }
   },
   "id": "42dd8d023e0fe57d"
  },
  {
   "cell_type": "code",
   "execution_count": 24,
   "outputs": [
    {
     "data": {
      "text/plain": "('Tales of tornado survival: Mayfield, Kentucky residents waited and prayed\\nMAYFIELD, Ky., Dec 12 (Reuters) - Until the power went out on Friday night, Rick Foley was closely tracking the storm system with the help of radar and television news. But when his house in Mayfield, Kentucky, went dark, all he could do was sit tight and wait. Finally he heard the roar.\\n\"My ears popped, and debris started coming through the doorway and I just dropped down on my knees, covered my head, and it was gone in 30 seconds,” the 70-year-old retired boat carpenter said of the moment one of the most powerful tornados in Kentucky history slammed into his home.\\nIn what felt like less than a minute, the facade of the house was completely gone, leaving his living room fireplace exposed and surrounded by a field of rubble.\\nStunned and having nowhere else to go, Foley stumbled to his bedroom. ',\n 'There he was shocked to see a framed oil painting of his late wife, Mary Ellen, lying on the ground nearly untouched, illustrating the randomness of the destruction.',\n 'There she was shocked to see a framed oil painting of her late wife, Mary Ellen, lying on the ground nearly untouched, illustrating the randomness of the destruction.')"
     },
     "execution_count": 24,
     "metadata": {},
     "output_type": "execute_result"
    }
   ],
   "source": [
    "df_news.iloc[2]['full_prefix'],df_news.iloc[2]['completion'],df_news.iloc[2]['contradiction_0']"
   ],
   "metadata": {
    "collapsed": false,
    "ExecuteTime": {
     "end_time": "2024-02-19T19:28:50.566861700Z",
     "start_time": "2024-02-19T19:28:50.553822200Z"
    }
   },
   "id": "c7dd1c7175129725"
  },
  {
   "cell_type": "code",
   "execution_count": null,
   "outputs": [],
   "source": [
    "df_news_dict = {\n",
    "    'Question':[],\n",
    "    'Correct Answer':[],\n",
    "}\n",
    "full_prefix_li = df_news.full_prefix.tolist()\n",
    "completion_li = df_news.completion.tolist()\n",
    "pattern = r\"Question: (.*)\\nAsnwer:\"\n",
    "for (full_prefix,completion) in (zip(full_prefix_li,completion_li)):\n",
    "    extracted_contents = re.findall(pattern, full_prefix)\n",
    "    df_news_dict['Question'].append(extracted_contents[0])\n",
    "    df_news_dict['Correct Answer'].append(completion)\n",
    "df_news_p = pd.DataFrame.from_dict(df_expert_dict)\n",
    "df_news_p.insert(0,'Name','expert_factor')\n",
    "df_news_p.insert(1,'Category','expert facts')\n",
    "df_news_p"
   ],
   "metadata": {
    "collapsed": false
   },
   "id": "59553cea359e0730"
  },
  {
   "cell_type": "code",
   "execution_count": 4,
   "outputs": [
    {
     "data": {
      "text/plain": "      Unnamed: 0  doc_id                                            context  \\\n0              0       5  MSZP has lost half of its supporters during th...   \n1              1       8  Definitions\\n\\nLet  be a second countable loca...   \n2              2      23  From 1927-1930 Ballif served with his wife as ...   \n3              3      45  In the course of the quintet, Sbigoli's charac...   \n4              4      54  In December 2010 it was announced that naming ...   \n...          ...     ...                                                ...   \n2989        2989   17456  Sadie died at his home in Cossington, Somerset...   \n2990        2990   17461  Descendants\\nVarious junior branches of the Da...   \n2991        2991   17465  Note the close relationship between the result...   \n2992        2992   17469  Function\\nThe Regional Darul Ifta of Bangsamor...   \n2993        2993   17470  Notable artists for Girls' Love Stories includ...   \n\n                                            full_prefix  \\\n0     Hungarian Socialist Party\\n\\nThe Hungarian Soc...   \n1     Haagerup property\\n\\nIn mathematics, the Haage...   \n2     Ariel S. Ballif\\n\\nAriel Smith Ballif, Sr. (De...   \n3     Americo Sbigoli\\n\\nAmerico (Amerigo) Sbigoli (...   \n4     Athletic Grounds\\n\\nThe Athletic Grounds () is...   \n...                                                 ...   \n2989  Stanley Sadie\\n\\nStanley John Sadie  (; 30 Oct...   \n2990  Robert of Aumale\\n\\nRobert of Aumale (fl. 1086...   \n2991  Rotational energy\\n\\nRotational energy or angu...   \n2992  Regional Darul Ifta’ of Bangsamoro\\n\\nThe Regi...   \n2993  Girls' Love Stories\\n\\nGirls' Love Stories was...   \n\n                                             completion  \\\n0     The Hungarian Socialist Party suffered a heavy...   \n1     has the Haagerup approximation property, also ...   \n2     He also served as president of the New Zealand...   \n3     While tragic in and of itself, this incident a...   \n4     The stadium was known from May 2011 as the Mor...   \n...                                                 ...   \n2989  His first wife, Adèle Sadie (née Bloom; 1931–1...   \n2990  Sir William Pole (d.1635) wrote that in his ti...   \n2991  As the Earth has a period of about 23.93 hours...   \n2992  Republic Act 9054 tackles the expansion of the...   \n2993  Editor, Zena Brody began working on Girls' Lov...   \n\n                                        contradiction_0  \\\n0     The Hungarian Socialist Party suffered a heavy...   \n1     has the Haagerup approximation property, also ...   \n2     He also served as president of the New Zealand...   \n3     While tragic in and of itself, this incident a...   \n4     The stadium was known from May 2011 as the Mor...   \n...                                                 ...   \n2989  His second wife, Adèle Sadie (née Bloom; 1931–...   \n2990  Sir William Pole (d.1635) wrote that in his ti...   \n2991  As the Earth has a period of about 23.93 hours...   \n2992  Republic Act 9054 ignores the expansion of the...   \n2993  Editor, Zena Brody began working on Girls' Lov...   \n\n                                        contradiction_1  \\\n0     The Hungarian Socialist Party achieved a heavy...   \n1     has the Haagerup approximation property, also ...   \n2     His wife also served as president of the New Z...   \n3     While tragic in and of itself, this incident a...   \n4     The stadium was known from May 2011 as the Mor...   \n...                                                 ...   \n2989  His first wife, Adèle Sadie (née Bloom; 1931–1...   \n2990  Sir William Pole (d.1635) wrote that in his ti...   \n2991  As the Earth's moon has a period of about 23.9...   \n2992  Republic Act 9054 overrides the expansion of t...   \n2993  Editor, Robert Kanigher began working on Girls...   \n\n                                        contradiction_2  longest_completions  \\\n0     The Hungarian Socialist Party suffered a heavy...                 42.0   \n1     has the Haagerup approximation property, also ...                 45.0   \n2     He also served as president of the New Zealand...                 31.0   \n3     While tragic in and of itself, this incident a...                 64.0   \n4     The stadium was known from May 2011 as the Arm...                 53.0   \n...                                                 ...                  ...   \n2989  His first wife, Adele Brown (née Bloom; 1931–1...                 42.0   \n2990  Sir William Pole (d.1635) wrote that in his ti...                 30.0   \n2991  As the Earth has a period of about 23.93 hours...                 32.0   \n2992  Republic Act 9054 violates the expansion of th...                 18.0   \n2993  Editor, Geraldine Weis began working on Girls'...                 16.0   \n\n                                     turncated_prefixes  \n0      of Hungary.\\n\\nAt a party congress on 7 Octob...  \n1     Haagerup property\\n\\nIn mathematics, the Haage...  \n2     Ariel S. Ballif\\n\\nAriel Smith Ballif, Sr. (De...  \n3     Americo Sbigoli\\n\\nAmerico (Amerigo) Sbigoli (...  \n4     Athletic Grounds\\n\\nThe Athletic Grounds () is...  \n...                                                 ...  \n2989  Stanley Sadie\\n\\nStanley John Sadie  (; 30 Oct...  \n2990  Robert of Aumale\\n\\nRobert of Aumale (fl. 1086...  \n2991  Rotational energy\\n\\nRotational energy or angu...  \n2992  Regional Darul Ifta’ of Bangsamoro\\n\\nThe Regi...  \n2993  Girls' Love Stories\\n\\nGirls' Love Stories was...  \n\n[2994 rows x 10 columns]",
      "text/html": "<div>\n<style scoped>\n    .dataframe tbody tr th:only-of-type {\n        vertical-align: middle;\n    }\n\n    .dataframe tbody tr th {\n        vertical-align: top;\n    }\n\n    .dataframe thead th {\n        text-align: right;\n    }\n</style>\n<table border=\"1\" class=\"dataframe\">\n  <thead>\n    <tr style=\"text-align: right;\">\n      <th></th>\n      <th>Unnamed: 0</th>\n      <th>doc_id</th>\n      <th>context</th>\n      <th>full_prefix</th>\n      <th>completion</th>\n      <th>contradiction_0</th>\n      <th>contradiction_1</th>\n      <th>contradiction_2</th>\n      <th>longest_completions</th>\n      <th>turncated_prefixes</th>\n    </tr>\n  </thead>\n  <tbody>\n    <tr>\n      <th>0</th>\n      <td>0</td>\n      <td>5</td>\n      <td>MSZP has lost half of its supporters during th...</td>\n      <td>Hungarian Socialist Party\\n\\nThe Hungarian Soc...</td>\n      <td>The Hungarian Socialist Party suffered a heavy...</td>\n      <td>The Hungarian Socialist Party suffered a heavy...</td>\n      <td>The Hungarian Socialist Party achieved a heavy...</td>\n      <td>The Hungarian Socialist Party suffered a heavy...</td>\n      <td>42.0</td>\n      <td>of Hungary.\\n\\nAt a party congress on 7 Octob...</td>\n    </tr>\n    <tr>\n      <th>1</th>\n      <td>1</td>\n      <td>8</td>\n      <td>Definitions\\n\\nLet  be a second countable loca...</td>\n      <td>Haagerup property\\n\\nIn mathematics, the Haage...</td>\n      <td>has the Haagerup approximation property, also ...</td>\n      <td>has the Haagerup approximation property, also ...</td>\n      <td>has the Haagerup approximation property, also ...</td>\n      <td>has the Haagerup approximation property, also ...</td>\n      <td>45.0</td>\n      <td>Haagerup property\\n\\nIn mathematics, the Haage...</td>\n    </tr>\n    <tr>\n      <th>2</th>\n      <td>2</td>\n      <td>23</td>\n      <td>From 1927-1930 Ballif served with his wife as ...</td>\n      <td>Ariel S. Ballif\\n\\nAriel Smith Ballif, Sr. (De...</td>\n      <td>He also served as president of the New Zealand...</td>\n      <td>He also served as president of the New Zealand...</td>\n      <td>His wife also served as president of the New Z...</td>\n      <td>He also served as president of the New Zealand...</td>\n      <td>31.0</td>\n      <td>Ariel S. Ballif\\n\\nAriel Smith Ballif, Sr. (De...</td>\n    </tr>\n    <tr>\n      <th>3</th>\n      <td>3</td>\n      <td>45</td>\n      <td>In the course of the quintet, Sbigoli's charac...</td>\n      <td>Americo Sbigoli\\n\\nAmerico (Amerigo) Sbigoli (...</td>\n      <td>While tragic in and of itself, this incident a...</td>\n      <td>While tragic in and of itself, this incident a...</td>\n      <td>While tragic in and of itself, this incident a...</td>\n      <td>While tragic in and of itself, this incident a...</td>\n      <td>64.0</td>\n      <td>Americo Sbigoli\\n\\nAmerico (Amerigo) Sbigoli (...</td>\n    </tr>\n    <tr>\n      <th>4</th>\n      <td>4</td>\n      <td>54</td>\n      <td>In December 2010 it was announced that naming ...</td>\n      <td>Athletic Grounds\\n\\nThe Athletic Grounds () is...</td>\n      <td>The stadium was known from May 2011 as the Mor...</td>\n      <td>The stadium was known from May 2011 as the Mor...</td>\n      <td>The stadium was known from May 2011 as the Mor...</td>\n      <td>The stadium was known from May 2011 as the Arm...</td>\n      <td>53.0</td>\n      <td>Athletic Grounds\\n\\nThe Athletic Grounds () is...</td>\n    </tr>\n    <tr>\n      <th>...</th>\n      <td>...</td>\n      <td>...</td>\n      <td>...</td>\n      <td>...</td>\n      <td>...</td>\n      <td>...</td>\n      <td>...</td>\n      <td>...</td>\n      <td>...</td>\n      <td>...</td>\n    </tr>\n    <tr>\n      <th>2989</th>\n      <td>2989</td>\n      <td>17456</td>\n      <td>Sadie died at his home in Cossington, Somerset...</td>\n      <td>Stanley Sadie\\n\\nStanley John Sadie  (; 30 Oct...</td>\n      <td>His first wife, Adèle Sadie (née Bloom; 1931–1...</td>\n      <td>His second wife, Adèle Sadie (née Bloom; 1931–...</td>\n      <td>His first wife, Adèle Sadie (née Bloom; 1931–1...</td>\n      <td>His first wife, Adele Brown (née Bloom; 1931–1...</td>\n      <td>42.0</td>\n      <td>Stanley Sadie\\n\\nStanley John Sadie  (; 30 Oct...</td>\n    </tr>\n    <tr>\n      <th>2990</th>\n      <td>2990</td>\n      <td>17461</td>\n      <td>Descendants\\nVarious junior branches of the Da...</td>\n      <td>Robert of Aumale\\n\\nRobert of Aumale (fl. 1086...</td>\n      <td>Sir William Pole (d.1635) wrote that in his ti...</td>\n      <td>Sir William Pole (d.1635) wrote that in his ti...</td>\n      <td>Sir William Pole (d.1635) wrote that in his ti...</td>\n      <td>Sir William Pole (d.1635) wrote that in his ti...</td>\n      <td>30.0</td>\n      <td>Robert of Aumale\\n\\nRobert of Aumale (fl. 1086...</td>\n    </tr>\n    <tr>\n      <th>2991</th>\n      <td>2991</td>\n      <td>17465</td>\n      <td>Note the close relationship between the result...</td>\n      <td>Rotational energy\\n\\nRotational energy or angu...</td>\n      <td>As the Earth has a period of about 23.93 hours...</td>\n      <td>As the Earth has a period of about 23.93 hours...</td>\n      <td>As the Earth's moon has a period of about 23.9...</td>\n      <td>As the Earth has a period of about 23.93 hours...</td>\n      <td>32.0</td>\n      <td>Rotational energy\\n\\nRotational energy or angu...</td>\n    </tr>\n    <tr>\n      <th>2992</th>\n      <td>2992</td>\n      <td>17469</td>\n      <td>Function\\nThe Regional Darul Ifta of Bangsamor...</td>\n      <td>Regional Darul Ifta’ of Bangsamoro\\n\\nThe Regi...</td>\n      <td>Republic Act 9054 tackles the expansion of the...</td>\n      <td>Republic Act 9054 ignores the expansion of the...</td>\n      <td>Republic Act 9054 overrides the expansion of t...</td>\n      <td>Republic Act 9054 violates the expansion of th...</td>\n      <td>18.0</td>\n      <td>Regional Darul Ifta’ of Bangsamoro\\n\\nThe Regi...</td>\n    </tr>\n    <tr>\n      <th>2993</th>\n      <td>2993</td>\n      <td>17470</td>\n      <td>Notable artists for Girls' Love Stories includ...</td>\n      <td>Girls' Love Stories\\n\\nGirls' Love Stories was...</td>\n      <td>Editor, Zena Brody began working on Girls' Lov...</td>\n      <td>Editor, Zena Brody began working on Girls' Lov...</td>\n      <td>Editor, Robert Kanigher began working on Girls...</td>\n      <td>Editor, Geraldine Weis began working on Girls'...</td>\n      <td>16.0</td>\n      <td>Girls' Love Stories\\n\\nGirls' Love Stories was...</td>\n    </tr>\n  </tbody>\n</table>\n<p>2994 rows × 10 columns</p>\n</div>"
     },
     "execution_count": 4,
     "metadata": {},
     "output_type": "execute_result"
    }
   ],
   "source": [
    "df_wiki = pd.read_csv('wiki_factor.csv')\n",
    "df_wiki"
   ],
   "metadata": {
    "collapsed": false,
    "ExecuteTime": {
     "end_time": "2024-02-19T18:51:18.324222500Z",
     "start_time": "2024-02-19T18:51:18.168445500Z"
    }
   },
   "id": "52d3398920492d4a"
  },
  {
   "cell_type": "code",
   "execution_count": null,
   "outputs": [],
   "source": [],
   "metadata": {
    "collapsed": false
   },
   "id": "7cc7b58778a0d396"
  }
 ],
 "metadata": {
  "kernelspec": {
   "name": "llm_hall_project",
   "language": "python",
   "display_name": "llm_hall"
  },
  "language_info": {
   "codemirror_mode": {
    "name": "ipython",
    "version": 2
   },
   "file_extension": ".py",
   "mimetype": "text/x-python",
   "name": "python",
   "nbconvert_exporter": "python",
   "pygments_lexer": "ipython2",
   "version": "2.7.6"
  }
 },
 "nbformat": 4,
 "nbformat_minor": 5
}
