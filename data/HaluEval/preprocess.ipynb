{
 "cells": [
  {
   "cell_type": "code",
   "execution_count": 1,
   "id": "initial_id",
   "metadata": {
    "collapsed": true,
    "ExecuteTime": {
     "end_time": "2024-02-19T20:04:16.587390600Z",
     "start_time": "2024-02-19T20:04:14.731601900Z"
    }
   },
   "outputs": [],
   "source": [
    "import json\n",
    "import pandas as pd\n"
   ]
  },
  {
   "cell_type": "code",
   "execution_count": 2,
   "outputs": [],
   "source": [
    "filename = 'qa_data.json'\n",
    "text = []\n",
    "right_answers = []\n",
    "\n",
    "with open(filename, 'r', encoding='utf-8') as f:\n",
    "    for line in f:\n",
    "        sample = json.loads(line)\n",
    "        if \"knowledge\" in sample:\n",
    "            text.append(sample[\"knowledge\"] +\" \"+ sample[\"question\"])\n",
    "            right_answers.append(sample['right_answer'])\n",
    "\n",
    " "
   ],
   "metadata": {
    "collapsed": false,
    "ExecuteTime": {
     "end_time": "2024-02-19T20:06:05.296281900Z",
     "start_time": "2024-02-19T20:06:05.215936600Z"
    }
   },
   "id": "acf590da12020c3f"
  },
  {
   "cell_type": "code",
   "execution_count": 6,
   "outputs": [
    {
     "data": {
      "text/plain": "                  Name Category  \\\n0     HaluEval_qa_data   Trivia   \n1     HaluEval_qa_data   Trivia   \n2     HaluEval_qa_data   Trivia   \n3     HaluEval_qa_data   Trivia   \n4     HaluEval_qa_data   Trivia   \n...                ...      ...   \n9995  HaluEval_qa_data   Trivia   \n9996  HaluEval_qa_data   Trivia   \n9997  HaluEval_qa_data   Trivia   \n9998  HaluEval_qa_data   Trivia   \n9999  HaluEval_qa_data   Trivia   \n\n                                               Question  \\\n0     Arthur's Magazine (1844–1846) was an American ...   \n1     The Oberoi family is an Indian family that is ...   \n2     Allison Beth \"Allie\" Goertz (born March 2, 199...   \n3     Margaret \"Peggy\" Seeger (born June 17, 1935) i...   \n4      It is a hygroscopic solid that is highly solu...   \n...                                                 ...   \n9995  James Norman Hall (22 April 1887 – 5 July 1951...   \n9996  Love in the Time of Money is a 2002 American r...   \n9997  Ape Escape, known in Japan as Excited Saru Get...   \n9998   An accomplished full-forward, Capper kicked 3...   \n9999   The title is a corruption of \"melodrama\", tho...   \n\n               Correct Answer  \n0           Arthur's Magazine  \n1                       Delhi  \n2     President Richard Nixon  \n3                    American  \n4                     alcohol  \n...                       ...  \n9995                      yes  \n9996                     1979  \n9997                   shorts  \n9998             full forward  \n9999                     1852  \n\n[10000 rows x 4 columns]",
      "text/html": "<div>\n<style scoped>\n    .dataframe tbody tr th:only-of-type {\n        vertical-align: middle;\n    }\n\n    .dataframe tbody tr th {\n        vertical-align: top;\n    }\n\n    .dataframe thead th {\n        text-align: right;\n    }\n</style>\n<table border=\"1\" class=\"dataframe\">\n  <thead>\n    <tr style=\"text-align: right;\">\n      <th></th>\n      <th>Name</th>\n      <th>Category</th>\n      <th>Question</th>\n      <th>Correct Answer</th>\n    </tr>\n  </thead>\n  <tbody>\n    <tr>\n      <th>0</th>\n      <td>HaluEval_qa_data</td>\n      <td>Trivia</td>\n      <td>Arthur's Magazine (1844–1846) was an American ...</td>\n      <td>Arthur's Magazine</td>\n    </tr>\n    <tr>\n      <th>1</th>\n      <td>HaluEval_qa_data</td>\n      <td>Trivia</td>\n      <td>The Oberoi family is an Indian family that is ...</td>\n      <td>Delhi</td>\n    </tr>\n    <tr>\n      <th>2</th>\n      <td>HaluEval_qa_data</td>\n      <td>Trivia</td>\n      <td>Allison Beth \"Allie\" Goertz (born March 2, 199...</td>\n      <td>President Richard Nixon</td>\n    </tr>\n    <tr>\n      <th>3</th>\n      <td>HaluEval_qa_data</td>\n      <td>Trivia</td>\n      <td>Margaret \"Peggy\" Seeger (born June 17, 1935) i...</td>\n      <td>American</td>\n    </tr>\n    <tr>\n      <th>4</th>\n      <td>HaluEval_qa_data</td>\n      <td>Trivia</td>\n      <td>It is a hygroscopic solid that is highly solu...</td>\n      <td>alcohol</td>\n    </tr>\n    <tr>\n      <th>...</th>\n      <td>...</td>\n      <td>...</td>\n      <td>...</td>\n      <td>...</td>\n    </tr>\n    <tr>\n      <th>9995</th>\n      <td>HaluEval_qa_data</td>\n      <td>Trivia</td>\n      <td>James Norman Hall (22 April 1887 – 5 July 1951...</td>\n      <td>yes</td>\n    </tr>\n    <tr>\n      <th>9996</th>\n      <td>HaluEval_qa_data</td>\n      <td>Trivia</td>\n      <td>Love in the Time of Money is a 2002 American r...</td>\n      <td>1979</td>\n    </tr>\n    <tr>\n      <th>9997</th>\n      <td>HaluEval_qa_data</td>\n      <td>Trivia</td>\n      <td>Ape Escape, known in Japan as Excited Saru Get...</td>\n      <td>shorts</td>\n    </tr>\n    <tr>\n      <th>9998</th>\n      <td>HaluEval_qa_data</td>\n      <td>Trivia</td>\n      <td>An accomplished full-forward, Capper kicked 3...</td>\n      <td>full forward</td>\n    </tr>\n    <tr>\n      <th>9999</th>\n      <td>HaluEval_qa_data</td>\n      <td>Trivia</td>\n      <td>The title is a corruption of \"melodrama\", tho...</td>\n      <td>1852</td>\n    </tr>\n  </tbody>\n</table>\n<p>10000 rows × 4 columns</p>\n</div>"
     },
     "execution_count": 6,
     "metadata": {},
     "output_type": "execute_result"
    }
   ],
   "source": [
    "data = {\n",
    "    'Question':text,\n",
    "    'Correct Answer':right_answers\n",
    "}\n",
    "df_qa = pd.DataFrame(data)\n",
    "df_qa.insert(0,'Name','HaluEval_qa_data')\n",
    "df_qa.insert(1,'Category','Trivia')\n",
    "df_qa"
   ],
   "metadata": {
    "collapsed": false,
    "ExecuteTime": {
     "end_time": "2024-02-19T20:13:37.262247200Z",
     "start_time": "2024-02-19T20:13:37.237222900Z"
    }
   },
   "id": "d307f2d8e80fae40"
  },
  {
   "cell_type": "code",
   "execution_count": 9,
   "outputs": [],
   "source": [
    "filename = 'dialogue_data.json'\n",
    "text = []\n",
    "right_answers = []\n",
    "\n",
    "with open(filename, 'r', encoding='utf-8') as f:\n",
    "    for line in f:\n",
    "        sample = json.loads(line)\n",
    "        if \"knowledge\" in sample:\n",
    "            text.append(sample[\"knowledge\"] +\" \"+ sample[\"dialogue_history\"])\n",
    "            right_answers.append(sample['right_response'])\n",
    "\n",
    " "
   ],
   "metadata": {
    "collapsed": false,
    "ExecuteTime": {
     "end_time": "2024-02-19T20:19:32.054777500Z",
     "start_time": "2024-02-19T20:19:31.999699900Z"
    }
   },
   "id": "3f3962e8b8b5b9aa"
  },
  {
   "cell_type": "code",
   "execution_count": 14,
   "outputs": [
    {
     "data": {
      "text/plain": "                        Name       Category  \\\n0     HaluEval_dialogue_data  Communication   \n1     HaluEval_dialogue_data  Communication   \n2     HaluEval_dialogue_data  Communication   \n3     HaluEval_dialogue_data  Communication   \n4     HaluEval_dialogue_data  Communication   \n...                      ...            ...   \n9995  HaluEval_dialogue_data  Communication   \n9996  HaluEval_dialogue_data  Communication   \n9997  HaluEval_dialogue_data  Communication   \n9998  HaluEval_dialogue_data  Communication   \n9999  HaluEval_dialogue_data  Communication   \n\n                                               Question  \\\n0     Iron Man is starring Robert Downey Jr.Robert D...   \n1     The Secret Life of Bees has genre Teen drama. ...   \n2     Michael Jackson wrote Dancing the DreamDancing...   \n3     Dead to the World is written by Charlaine Harr...   \n4     Ryan Reynolds starred in TurboTurbo is starrin...   \n...                                                 ...   \n9995  Lionel Messi : `~Player statistics`: Argentina...   \n9996  Carrie has genre Romance Film [Human]: I like ...   \n9997  L.M. Montgomery wrote The Blue CastleThe Blue ...   \n9998  Marco Reus : `Sport played`: Football [Human]:...   \n9999  Michelle Wie : `~Sponsorship`: Omega SAOmega S...   \n\n                                         Correct Answer  \n0     I like crime fiction! Didn't know RDJ was in t...  \n1     yes and he also produced White Oleander and it...  \n2     Yes, Healing the World is one of my favorite s...  \n3     Do you like this book because of it's author C...  \n4                          Yep. As well as Ben Schwartz  \n...                                                 ...  \n9995  I am not a big soccer fan so I don't know much...  \n9996  I can tell you some more romance titles like W...  \n9997                                            In 1926  \n9998         I like hockey and baseball. How about you?  \n9999  That sounds about right. I don't really know a...  \n\n[10000 rows x 4 columns]",
      "text/html": "<div>\n<style scoped>\n    .dataframe tbody tr th:only-of-type {\n        vertical-align: middle;\n    }\n\n    .dataframe tbody tr th {\n        vertical-align: top;\n    }\n\n    .dataframe thead th {\n        text-align: right;\n    }\n</style>\n<table border=\"1\" class=\"dataframe\">\n  <thead>\n    <tr style=\"text-align: right;\">\n      <th></th>\n      <th>Name</th>\n      <th>Category</th>\n      <th>Question</th>\n      <th>Correct Answer</th>\n    </tr>\n  </thead>\n  <tbody>\n    <tr>\n      <th>0</th>\n      <td>HaluEval_dialogue_data</td>\n      <td>Communication</td>\n      <td>Iron Man is starring Robert Downey Jr.Robert D...</td>\n      <td>I like crime fiction! Didn't know RDJ was in t...</td>\n    </tr>\n    <tr>\n      <th>1</th>\n      <td>HaluEval_dialogue_data</td>\n      <td>Communication</td>\n      <td>The Secret Life of Bees has genre Teen drama. ...</td>\n      <td>yes and he also produced White Oleander and it...</td>\n    </tr>\n    <tr>\n      <th>2</th>\n      <td>HaluEval_dialogue_data</td>\n      <td>Communication</td>\n      <td>Michael Jackson wrote Dancing the DreamDancing...</td>\n      <td>Yes, Healing the World is one of my favorite s...</td>\n    </tr>\n    <tr>\n      <th>3</th>\n      <td>HaluEval_dialogue_data</td>\n      <td>Communication</td>\n      <td>Dead to the World is written by Charlaine Harr...</td>\n      <td>Do you like this book because of it's author C...</td>\n    </tr>\n    <tr>\n      <th>4</th>\n      <td>HaluEval_dialogue_data</td>\n      <td>Communication</td>\n      <td>Ryan Reynolds starred in TurboTurbo is starrin...</td>\n      <td>Yep. As well as Ben Schwartz</td>\n    </tr>\n    <tr>\n      <th>...</th>\n      <td>...</td>\n      <td>...</td>\n      <td>...</td>\n      <td>...</td>\n    </tr>\n    <tr>\n      <th>9995</th>\n      <td>HaluEval_dialogue_data</td>\n      <td>Communication</td>\n      <td>Lionel Messi : `~Player statistics`: Argentina...</td>\n      <td>I am not a big soccer fan so I don't know much...</td>\n    </tr>\n    <tr>\n      <th>9996</th>\n      <td>HaluEval_dialogue_data</td>\n      <td>Communication</td>\n      <td>Carrie has genre Romance Film [Human]: I like ...</td>\n      <td>I can tell you some more romance titles like W...</td>\n    </tr>\n    <tr>\n      <th>9997</th>\n      <td>HaluEval_dialogue_data</td>\n      <td>Communication</td>\n      <td>L.M. Montgomery wrote The Blue CastleThe Blue ...</td>\n      <td>In 1926</td>\n    </tr>\n    <tr>\n      <th>9998</th>\n      <td>HaluEval_dialogue_data</td>\n      <td>Communication</td>\n      <td>Marco Reus : `Sport played`: Football [Human]:...</td>\n      <td>I like hockey and baseball. How about you?</td>\n    </tr>\n    <tr>\n      <th>9999</th>\n      <td>HaluEval_dialogue_data</td>\n      <td>Communication</td>\n      <td>Michelle Wie : `~Sponsorship`: Omega SAOmega S...</td>\n      <td>That sounds about right. I don't really know a...</td>\n    </tr>\n  </tbody>\n</table>\n<p>10000 rows × 4 columns</p>\n</div>"
     },
     "execution_count": 14,
     "metadata": {},
     "output_type": "execute_result"
    }
   ],
   "source": [
    "data = {\n",
    "    'Question':text,\n",
    "    'Correct Answer':right_answers\n",
    "}\n",
    "df_dialogue = pd.DataFrame(data)\n",
    "df_dialogue.insert(0,'Name','HaluEval_dialogue_data')\n",
    "df_dialogue.insert(1,'Category','Communication')\n",
    "df_dialogue"
   ],
   "metadata": {
    "collapsed": false,
    "ExecuteTime": {
     "end_time": "2024-02-19T20:21:05.584350Z",
     "start_time": "2024-02-19T20:21:05.567347900Z"
    }
   },
   "id": "d9a51e4e57dcd9b0"
  },
  {
   "cell_type": "code",
   "execution_count": 15,
   "outputs": [],
   "source": [
    "filename = 'general_data.json'\n",
    "text = []\n",
    "right_answers = []\n",
    "\n",
    "with open(filename, 'r', encoding='utf-8') as f:\n",
    "    for line in f:\n",
    "        sample = json.loads(line)\n",
    "\n",
    "        text.append(sample[\"user_query\"])\n",
    "        right_answers.append(sample['chatgpt_response'])\n",
    "\n",
    " "
   ],
   "metadata": {
    "collapsed": false,
    "ExecuteTime": {
     "end_time": "2024-02-19T20:22:51.279126400Z",
     "start_time": "2024-02-19T20:22:51.226974500Z"
    }
   },
   "id": "d13b3d4d40755ac6"
  },
  {
   "cell_type": "code",
   "execution_count": 16,
   "outputs": [
    {
     "data": {
      "text/plain": "                       Name            Category  \\\n0     HaluEval_general_data  General Assistance   \n1     HaluEval_general_data  General Assistance   \n2     HaluEval_general_data  General Assistance   \n3     HaluEval_general_data  General Assistance   \n4     HaluEval_general_data  General Assistance   \n...                     ...                 ...   \n4502  HaluEval_general_data  General Assistance   \n4503  HaluEval_general_data  General Assistance   \n4504  HaluEval_general_data  General Assistance   \n4505  HaluEval_general_data  General Assistance   \n4506  HaluEval_general_data  General Assistance   \n\n                                               Question  \\\n0     Produce a list of common words in the English ...   \n1                 Provide a few examples of homophones.   \n2     Create a chart outlining the world's populatio...   \n3            Design a shape with 10 vertices (corners).   \n4     Automatically generate a 10 by 10 multiplicati...   \n...                                                 ...   \n4502  Brainstorm a list of 10 possible headlines to ...   \n4503  Generate an example input to an instruction th...   \n4504               Do the following equation: 8 + 4 / 2   \n4505    Predict the 2021 wildfire season in California.   \n4506  Summarize what you think is the importance of ...   \n\n                                         Correct Answer  \n0     the, a, and, to, in, that, is, it, of, for, wi...  \n1     1. allowed (permitted) and aloud (out loud)\\n2...  \n2     Unfortunately, as an AI language model, I cann...  \n3     Here is an example of a shape with 10 vertices...  \n4     Sure, here is a 10 by 10 multiplication table:...  \n...                                                 ...  \n4502  1. \"China's cutting-edge facial recognition so...  \n4503  \"Hey assistant, please write a report on the c...  \n4504  The answer is 10. \\n\\nTo solve the equation, y...  \n4505  As an AI language model, I do not have the cap...  \n4506  As an AI language model, I cannot have persona...  \n\n[4507 rows x 4 columns]",
      "text/html": "<div>\n<style scoped>\n    .dataframe tbody tr th:only-of-type {\n        vertical-align: middle;\n    }\n\n    .dataframe tbody tr th {\n        vertical-align: top;\n    }\n\n    .dataframe thead th {\n        text-align: right;\n    }\n</style>\n<table border=\"1\" class=\"dataframe\">\n  <thead>\n    <tr style=\"text-align: right;\">\n      <th></th>\n      <th>Name</th>\n      <th>Category</th>\n      <th>Question</th>\n      <th>Correct Answer</th>\n    </tr>\n  </thead>\n  <tbody>\n    <tr>\n      <th>0</th>\n      <td>HaluEval_general_data</td>\n      <td>General Assistance</td>\n      <td>Produce a list of common words in the English ...</td>\n      <td>the, a, and, to, in, that, is, it, of, for, wi...</td>\n    </tr>\n    <tr>\n      <th>1</th>\n      <td>HaluEval_general_data</td>\n      <td>General Assistance</td>\n      <td>Provide a few examples of homophones.</td>\n      <td>1. allowed (permitted) and aloud (out loud)\\n2...</td>\n    </tr>\n    <tr>\n      <th>2</th>\n      <td>HaluEval_general_data</td>\n      <td>General Assistance</td>\n      <td>Create a chart outlining the world's populatio...</td>\n      <td>Unfortunately, as an AI language model, I cann...</td>\n    </tr>\n    <tr>\n      <th>3</th>\n      <td>HaluEval_general_data</td>\n      <td>General Assistance</td>\n      <td>Design a shape with 10 vertices (corners).</td>\n      <td>Here is an example of a shape with 10 vertices...</td>\n    </tr>\n    <tr>\n      <th>4</th>\n      <td>HaluEval_general_data</td>\n      <td>General Assistance</td>\n      <td>Automatically generate a 10 by 10 multiplicati...</td>\n      <td>Sure, here is a 10 by 10 multiplication table:...</td>\n    </tr>\n    <tr>\n      <th>...</th>\n      <td>...</td>\n      <td>...</td>\n      <td>...</td>\n      <td>...</td>\n    </tr>\n    <tr>\n      <th>4502</th>\n      <td>HaluEval_general_data</td>\n      <td>General Assistance</td>\n      <td>Brainstorm a list of 10 possible headlines to ...</td>\n      <td>1. \"China's cutting-edge facial recognition so...</td>\n    </tr>\n    <tr>\n      <th>4503</th>\n      <td>HaluEval_general_data</td>\n      <td>General Assistance</td>\n      <td>Generate an example input to an instruction th...</td>\n      <td>\"Hey assistant, please write a report on the c...</td>\n    </tr>\n    <tr>\n      <th>4504</th>\n      <td>HaluEval_general_data</td>\n      <td>General Assistance</td>\n      <td>Do the following equation: 8 + 4 / 2</td>\n      <td>The answer is 10. \\n\\nTo solve the equation, y...</td>\n    </tr>\n    <tr>\n      <th>4505</th>\n      <td>HaluEval_general_data</td>\n      <td>General Assistance</td>\n      <td>Predict the 2021 wildfire season in California.</td>\n      <td>As an AI language model, I do not have the cap...</td>\n    </tr>\n    <tr>\n      <th>4506</th>\n      <td>HaluEval_general_data</td>\n      <td>General Assistance</td>\n      <td>Summarize what you think is the importance of ...</td>\n      <td>As an AI language model, I cannot have persona...</td>\n    </tr>\n  </tbody>\n</table>\n<p>4507 rows × 4 columns</p>\n</div>"
     },
     "execution_count": 16,
     "metadata": {},
     "output_type": "execute_result"
    }
   ],
   "source": [
    "data = {\n",
    "    'Question':text,\n",
    "    'Correct Answer':right_answers\n",
    "}\n",
    "df_general = pd.DataFrame(data)\n",
    "df_general.insert(0,'Name','HaluEval_general_data')\n",
    "df_general.insert(1,'Category','General Assistance')\n",
    "df_general"
   ],
   "metadata": {
    "collapsed": false,
    "ExecuteTime": {
     "end_time": "2024-02-19T20:23:25.566073700Z",
     "start_time": "2024-02-19T20:23:25.551074900Z"
    }
   },
   "id": "1de917e3812b92b8"
  },
  {
   "cell_type": "code",
   "execution_count": 20,
   "outputs": [],
   "source": [
    "filename = 'summarization_data.json'\n",
    "text = []\n",
    "right_answers = []\n",
    "\n",
    "with open(filename, 'r', encoding='utf-8') as f:\n",
    "    for line in f:\n",
    "        sample = json.loads(line)\n",
    "        text.append(sample[\"document\"] + ' What is a good summarization of the document?')\n",
    "        right_answers.append(sample['right_summary'])\n",
    "\n",
    " "
   ],
   "metadata": {
    "collapsed": false,
    "ExecuteTime": {
     "end_time": "2024-02-19T20:26:50.241983400Z",
     "start_time": "2024-02-19T20:26:50.038941700Z"
    }
   },
   "id": "ca07ecf05f943038"
  },
  {
   "cell_type": "code",
   "execution_count": 21,
   "outputs": [
    {
     "data": {
      "text/plain": "                             Name                  Category  \\\n0     HaluEval_summarization_data  Literature Summarization   \n1     HaluEval_summarization_data  Literature Summarization   \n2     HaluEval_summarization_data  Literature Summarization   \n3     HaluEval_summarization_data  Literature Summarization   \n4     HaluEval_summarization_data  Literature Summarization   \n...                           ...                       ...   \n9995  HaluEval_summarization_data  Literature Summarization   \n9996  HaluEval_summarization_data  Literature Summarization   \n9997  HaluEval_summarization_data  Literature Summarization   \n9998  HaluEval_summarization_data  Literature Summarization   \n9999  HaluEval_summarization_data  Literature Summarization   \n\n                                               Question  \\\n0     Marseille, France (CNN)The French prosecutor l...   \n1     The Palestinian Authority officially became th...   \n2     Governments around the world are using the thr...   \n3     On May 28, 2014, some 7,000 people gathered in...   \n4     Seventy years ago, Anne Frank died of typhus i...   \n...                                                 ...   \n9995  Fired: Major General James Post III was fired ...   \n9996  American Apparel, the controversial retailer k...   \n9997  Angelina Jolie may have made the character wor...   \n9998  The disabled pensioner who received donations ...   \n9999  Cameron Hooker, who kept a hitchhiker as sex s...   \n\n                                         Correct Answer  \n0     Marseille prosecutor says \"so far no videos we...  \n1     Membership gives the ICC jurisdiction over all...  \n2     Amnesty's annual death penalty report catalogs...  \n3     Amnesty International releases its annual revi...  \n4     Museum: Anne Frank died earlier than previousl...  \n...                                                 ...  \n9995  Major General James Post III was fired for say...  \n9996  The print ad ran in the most recent issue of V...  \n9997  Bonnie's skill at playing Call Of Duty has gai...  \n9998  Alan Barnes, who is partially sighted and just...  \n9999  Cameron Hooker had kidnapped young hitchhiker ...  \n\n[10000 rows x 4 columns]",
      "text/html": "<div>\n<style scoped>\n    .dataframe tbody tr th:only-of-type {\n        vertical-align: middle;\n    }\n\n    .dataframe tbody tr th {\n        vertical-align: top;\n    }\n\n    .dataframe thead th {\n        text-align: right;\n    }\n</style>\n<table border=\"1\" class=\"dataframe\">\n  <thead>\n    <tr style=\"text-align: right;\">\n      <th></th>\n      <th>Name</th>\n      <th>Category</th>\n      <th>Question</th>\n      <th>Correct Answer</th>\n    </tr>\n  </thead>\n  <tbody>\n    <tr>\n      <th>0</th>\n      <td>HaluEval_summarization_data</td>\n      <td>Literature Summarization</td>\n      <td>Marseille, France (CNN)The French prosecutor l...</td>\n      <td>Marseille prosecutor says \"so far no videos we...</td>\n    </tr>\n    <tr>\n      <th>1</th>\n      <td>HaluEval_summarization_data</td>\n      <td>Literature Summarization</td>\n      <td>The Palestinian Authority officially became th...</td>\n      <td>Membership gives the ICC jurisdiction over all...</td>\n    </tr>\n    <tr>\n      <th>2</th>\n      <td>HaluEval_summarization_data</td>\n      <td>Literature Summarization</td>\n      <td>Governments around the world are using the thr...</td>\n      <td>Amnesty's annual death penalty report catalogs...</td>\n    </tr>\n    <tr>\n      <th>3</th>\n      <td>HaluEval_summarization_data</td>\n      <td>Literature Summarization</td>\n      <td>On May 28, 2014, some 7,000 people gathered in...</td>\n      <td>Amnesty International releases its annual revi...</td>\n    </tr>\n    <tr>\n      <th>4</th>\n      <td>HaluEval_summarization_data</td>\n      <td>Literature Summarization</td>\n      <td>Seventy years ago, Anne Frank died of typhus i...</td>\n      <td>Museum: Anne Frank died earlier than previousl...</td>\n    </tr>\n    <tr>\n      <th>...</th>\n      <td>...</td>\n      <td>...</td>\n      <td>...</td>\n      <td>...</td>\n    </tr>\n    <tr>\n      <th>9995</th>\n      <td>HaluEval_summarization_data</td>\n      <td>Literature Summarization</td>\n      <td>Fired: Major General James Post III was fired ...</td>\n      <td>Major General James Post III was fired for say...</td>\n    </tr>\n    <tr>\n      <th>9996</th>\n      <td>HaluEval_summarization_data</td>\n      <td>Literature Summarization</td>\n      <td>American Apparel, the controversial retailer k...</td>\n      <td>The print ad ran in the most recent issue of V...</td>\n    </tr>\n    <tr>\n      <th>9997</th>\n      <td>HaluEval_summarization_data</td>\n      <td>Literature Summarization</td>\n      <td>Angelina Jolie may have made the character wor...</td>\n      <td>Bonnie's skill at playing Call Of Duty has gai...</td>\n    </tr>\n    <tr>\n      <th>9998</th>\n      <td>HaluEval_summarization_data</td>\n      <td>Literature Summarization</td>\n      <td>The disabled pensioner who received donations ...</td>\n      <td>Alan Barnes, who is partially sighted and just...</td>\n    </tr>\n    <tr>\n      <th>9999</th>\n      <td>HaluEval_summarization_data</td>\n      <td>Literature Summarization</td>\n      <td>Cameron Hooker, who kept a hitchhiker as sex s...</td>\n      <td>Cameron Hooker had kidnapped young hitchhiker ...</td>\n    </tr>\n  </tbody>\n</table>\n<p>10000 rows × 4 columns</p>\n</div>"
     },
     "execution_count": 21,
     "metadata": {},
     "output_type": "execute_result"
    }
   ],
   "source": [
    "data = {\n",
    "    'Question':text,\n",
    "    'Correct Answer':right_answers\n",
    "}\n",
    "df_summ = pd.DataFrame(data)\n",
    "df_summ.insert(0,'Name','HaluEval_summarization_data')\n",
    "df_summ.insert(1,'Category','Literature Summarization')\n",
    "df_summ"
   ],
   "metadata": {
    "collapsed": false,
    "ExecuteTime": {
     "end_time": "2024-02-19T20:27:24.449241800Z",
     "start_time": "2024-02-19T20:27:24.436160700Z"
    }
   },
   "id": "9c0fdf1f5574679d"
  },
  {
   "cell_type": "code",
   "execution_count": 22,
   "outputs": [
    {
     "data": {
      "text/plain": "                         Name       Category  \\\n0            HaluEval_qa_data         Trivia   \n1            HaluEval_qa_data         Trivia   \n2            HaluEval_qa_data         Trivia   \n3            HaluEval_qa_data         Trivia   \n4            HaluEval_qa_data         Trivia   \n...                       ...            ...   \n34502  HaluEval_dialogue_data  Communication   \n34503  HaluEval_dialogue_data  Communication   \n34504  HaluEval_dialogue_data  Communication   \n34505  HaluEval_dialogue_data  Communication   \n34506  HaluEval_dialogue_data  Communication   \n\n                                                Question  \\\n0      Arthur's Magazine (1844–1846) was an American ...   \n1      The Oberoi family is an Indian family that is ...   \n2      Allison Beth \"Allie\" Goertz (born March 2, 199...   \n3      Margaret \"Peggy\" Seeger (born June 17, 1935) i...   \n4       It is a hygroscopic solid that is highly solu...   \n...                                                  ...   \n34502  Lionel Messi : `~Player statistics`: Argentina...   \n34503  Carrie has genre Romance Film [Human]: I like ...   \n34504  L.M. Montgomery wrote The Blue CastleThe Blue ...   \n34505  Marco Reus : `Sport played`: Football [Human]:...   \n34506  Michelle Wie : `~Sponsorship`: Omega SAOmega S...   \n\n                                          Correct Answer  \n0                                      Arthur's Magazine  \n1                                                  Delhi  \n2                                President Richard Nixon  \n3                                               American  \n4                                                alcohol  \n...                                                  ...  \n34502  I am not a big soccer fan so I don't know much...  \n34503  I can tell you some more romance titles like W...  \n34504                                            In 1926  \n34505         I like hockey and baseball. How about you?  \n34506  That sounds about right. I don't really know a...  \n\n[34507 rows x 4 columns]",
      "text/html": "<div>\n<style scoped>\n    .dataframe tbody tr th:only-of-type {\n        vertical-align: middle;\n    }\n\n    .dataframe tbody tr th {\n        vertical-align: top;\n    }\n\n    .dataframe thead th {\n        text-align: right;\n    }\n</style>\n<table border=\"1\" class=\"dataframe\">\n  <thead>\n    <tr style=\"text-align: right;\">\n      <th></th>\n      <th>Name</th>\n      <th>Category</th>\n      <th>Question</th>\n      <th>Correct Answer</th>\n    </tr>\n  </thead>\n  <tbody>\n    <tr>\n      <th>0</th>\n      <td>HaluEval_qa_data</td>\n      <td>Trivia</td>\n      <td>Arthur's Magazine (1844–1846) was an American ...</td>\n      <td>Arthur's Magazine</td>\n    </tr>\n    <tr>\n      <th>1</th>\n      <td>HaluEval_qa_data</td>\n      <td>Trivia</td>\n      <td>The Oberoi family is an Indian family that is ...</td>\n      <td>Delhi</td>\n    </tr>\n    <tr>\n      <th>2</th>\n      <td>HaluEval_qa_data</td>\n      <td>Trivia</td>\n      <td>Allison Beth \"Allie\" Goertz (born March 2, 199...</td>\n      <td>President Richard Nixon</td>\n    </tr>\n    <tr>\n      <th>3</th>\n      <td>HaluEval_qa_data</td>\n      <td>Trivia</td>\n      <td>Margaret \"Peggy\" Seeger (born June 17, 1935) i...</td>\n      <td>American</td>\n    </tr>\n    <tr>\n      <th>4</th>\n      <td>HaluEval_qa_data</td>\n      <td>Trivia</td>\n      <td>It is a hygroscopic solid that is highly solu...</td>\n      <td>alcohol</td>\n    </tr>\n    <tr>\n      <th>...</th>\n      <td>...</td>\n      <td>...</td>\n      <td>...</td>\n      <td>...</td>\n    </tr>\n    <tr>\n      <th>34502</th>\n      <td>HaluEval_dialogue_data</td>\n      <td>Communication</td>\n      <td>Lionel Messi : `~Player statistics`: Argentina...</td>\n      <td>I am not a big soccer fan so I don't know much...</td>\n    </tr>\n    <tr>\n      <th>34503</th>\n      <td>HaluEval_dialogue_data</td>\n      <td>Communication</td>\n      <td>Carrie has genre Romance Film [Human]: I like ...</td>\n      <td>I can tell you some more romance titles like W...</td>\n    </tr>\n    <tr>\n      <th>34504</th>\n      <td>HaluEval_dialogue_data</td>\n      <td>Communication</td>\n      <td>L.M. Montgomery wrote The Blue CastleThe Blue ...</td>\n      <td>In 1926</td>\n    </tr>\n    <tr>\n      <th>34505</th>\n      <td>HaluEval_dialogue_data</td>\n      <td>Communication</td>\n      <td>Marco Reus : `Sport played`: Football [Human]:...</td>\n      <td>I like hockey and baseball. How about you?</td>\n    </tr>\n    <tr>\n      <th>34506</th>\n      <td>HaluEval_dialogue_data</td>\n      <td>Communication</td>\n      <td>Michelle Wie : `~Sponsorship`: Omega SAOmega S...</td>\n      <td>That sounds about right. I don't really know a...</td>\n    </tr>\n  </tbody>\n</table>\n<p>34507 rows × 4 columns</p>\n</div>"
     },
     "execution_count": 22,
     "metadata": {},
     "output_type": "execute_result"
    }
   ],
   "source": [
    "df_all = pd.concat([df_qa,df_summ,df_general,df_dialogue],ignore_index=True)\n",
    "df_all"
   ],
   "metadata": {
    "collapsed": false,
    "ExecuteTime": {
     "end_time": "2024-02-19T20:28:18.953233600Z",
     "start_time": "2024-02-19T20:28:18.933236300Z"
    }
   },
   "id": "c9b582fd36249c91"
  },
  {
   "cell_type": "code",
   "execution_count": 23,
   "outputs": [],
   "source": [
    "df_all.to_csv('../preprocessed/HaluEval.csv',index= False)"
   ],
   "metadata": {
    "collapsed": false,
    "ExecuteTime": {
     "end_time": "2024-02-19T20:29:06.021123400Z",
     "start_time": "2024-02-19T20:29:05.269143900Z"
    }
   },
   "id": "8153ebf074972f9f"
  },
  {
   "cell_type": "code",
   "execution_count": null,
   "outputs": [],
   "source": [],
   "metadata": {
    "collapsed": false
   },
   "id": "aa5a4e2e03d87f11"
  }
 ],
 "metadata": {
  "kernelspec": {
   "name": "llm_hall_project",
   "language": "python",
   "display_name": "llm_hall"
  },
  "language_info": {
   "codemirror_mode": {
    "name": "ipython",
    "version": 2
   },
   "file_extension": ".py",
   "mimetype": "text/x-python",
   "name": "python",
   "nbconvert_exporter": "python",
   "pygments_lexer": "ipython2",
   "version": "2.7.6"
  }
 },
 "nbformat": 4,
 "nbformat_minor": 5
}
