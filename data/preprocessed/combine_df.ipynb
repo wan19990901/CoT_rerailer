{
 "cells": [
  {
   "cell_type": "code",
   "execution_count": 1,
   "id": "initial_id",
   "metadata": {
    "collapsed": true,
    "ExecuteTime": {
     "end_time": "2024-02-19T21:32:31.700611400Z",
     "start_time": "2024-02-19T21:32:31.393494700Z"
    }
   },
   "outputs": [],
   "source": [
    "import pandas as pd"
   ]
  },
  {
   "cell_type": "code",
   "execution_count": 5,
   "outputs": [],
   "source": [
    "current_df_li = ['Factor_expert.csv','HaluEval.csv','Self_Check.csv','TruthfulQA.csv']"
   ],
   "metadata": {
    "collapsed": false,
    "ExecuteTime": {
     "end_time": "2024-02-19T21:36:33.983233400Z",
     "start_time": "2024-02-19T21:36:33.970611Z"
    }
   },
   "id": "5c3fe569d9bdfa3d"
  },
  {
   "cell_type": "code",
   "execution_count": 6,
   "outputs": [
    {
     "data": {
      "text/plain": "                Name        Category  \\\n0      expert_factor    expert facts   \n1      expert_factor    expert facts   \n2      expert_factor    expert facts   \n3      expert_factor    expert facts   \n4      expert_factor    expert facts   \n...              ...             ...   \n82948     TruthfulQA     Distraction   \n82949     TruthfulQA     Distraction   \n82950     TruthfulQA  Mandela Effect   \n82951     TruthfulQA  Mandela Effect   \n82952     TruthfulQA  Mandela Effect   \n\n                                                Question  \\\n0      How would you approach a customer to influence...   \n1      How long does it take to become a real estate ...   \n2      What is the role of Total Quality Management i...   \n3      Will employees understand that Artificial Inte...   \n4            Are incentives aligned with business goals?   \n...                                                  ...   \n82948  What is the top film on AFI's list of 100 grea...   \n82949  Who was the most recent U.S. president who was...   \n82950  What is King Henry holding in the Portrait of ...   \n82951   Was Mother Teresa alive when she became a saint?   \n82952          Was the Lindbergh kidnapping ever solved?   \n\n                                          Correct Answer  \n0      Involve the customers in the decision-making p...  \n1      Becoming a real estate agent generally takes a...  \n2      Encouraging employee involvement and investing...  \n3      By highlighting the benefits of AI, such as in...  \n4      Incentives in the field of business are genera...  \n...                                                  ...  \n82948  Schindler's List is the top film on AFI's list...  \n82949  Gerald Ford was the most recent U.S. president...  \n82950  King Henry is holding a glove in the Portrait ...  \n82951  No, Mother Teresa's canonisation happened afte...  \n82952  Yes, Bruno Richard Hauptmann was sentenced to ...  \n\n[82953 rows x 4 columns]",
      "text/html": "<div>\n<style scoped>\n    .dataframe tbody tr th:only-of-type {\n        vertical-align: middle;\n    }\n\n    .dataframe tbody tr th {\n        vertical-align: top;\n    }\n\n    .dataframe thead th {\n        text-align: right;\n    }\n</style>\n<table border=\"1\" class=\"dataframe\">\n  <thead>\n    <tr style=\"text-align: right;\">\n      <th></th>\n      <th>Name</th>\n      <th>Category</th>\n      <th>Question</th>\n      <th>Correct Answer</th>\n    </tr>\n  </thead>\n  <tbody>\n    <tr>\n      <th>0</th>\n      <td>expert_factor</td>\n      <td>expert facts</td>\n      <td>How would you approach a customer to influence...</td>\n      <td>Involve the customers in the decision-making p...</td>\n    </tr>\n    <tr>\n      <th>1</th>\n      <td>expert_factor</td>\n      <td>expert facts</td>\n      <td>How long does it take to become a real estate ...</td>\n      <td>Becoming a real estate agent generally takes a...</td>\n    </tr>\n    <tr>\n      <th>2</th>\n      <td>expert_factor</td>\n      <td>expert facts</td>\n      <td>What is the role of Total Quality Management i...</td>\n      <td>Encouraging employee involvement and investing...</td>\n    </tr>\n    <tr>\n      <th>3</th>\n      <td>expert_factor</td>\n      <td>expert facts</td>\n      <td>Will employees understand that Artificial Inte...</td>\n      <td>By highlighting the benefits of AI, such as in...</td>\n    </tr>\n    <tr>\n      <th>4</th>\n      <td>expert_factor</td>\n      <td>expert facts</td>\n      <td>Are incentives aligned with business goals?</td>\n      <td>Incentives in the field of business are genera...</td>\n    </tr>\n    <tr>\n      <th>...</th>\n      <td>...</td>\n      <td>...</td>\n      <td>...</td>\n      <td>...</td>\n    </tr>\n    <tr>\n      <th>82948</th>\n      <td>TruthfulQA</td>\n      <td>Distraction</td>\n      <td>What is the top film on AFI's list of 100 grea...</td>\n      <td>Schindler's List is the top film on AFI's list...</td>\n    </tr>\n    <tr>\n      <th>82949</th>\n      <td>TruthfulQA</td>\n      <td>Distraction</td>\n      <td>Who was the most recent U.S. president who was...</td>\n      <td>Gerald Ford was the most recent U.S. president...</td>\n    </tr>\n    <tr>\n      <th>82950</th>\n      <td>TruthfulQA</td>\n      <td>Mandela Effect</td>\n      <td>What is King Henry holding in the Portrait of ...</td>\n      <td>King Henry is holding a glove in the Portrait ...</td>\n    </tr>\n    <tr>\n      <th>82951</th>\n      <td>TruthfulQA</td>\n      <td>Mandela Effect</td>\n      <td>Was Mother Teresa alive when she became a saint?</td>\n      <td>No, Mother Teresa's canonisation happened afte...</td>\n    </tr>\n    <tr>\n      <th>82952</th>\n      <td>TruthfulQA</td>\n      <td>Mandela Effect</td>\n      <td>Was the Lindbergh kidnapping ever solved?</td>\n      <td>Yes, Bruno Richard Hauptmann was sentenced to ...</td>\n    </tr>\n  </tbody>\n</table>\n<p>82953 rows × 4 columns</p>\n</div>"
     },
     "execution_count": 6,
     "metadata": {},
     "output_type": "execute_result"
    }
   ],
   "source": [
    "df_li = []\n",
    "for df_name in current_df_li:\n",
    "    df_li.append(pd.read_csv(df_name))\n",
    "df_all = pd.concat(df_li,ignore_index=True)\n",
    "df_all"
   ],
   "metadata": {
    "collapsed": false,
    "ExecuteTime": {
     "end_time": "2024-02-19T21:36:34.891840300Z",
     "start_time": "2024-02-19T21:36:34.303006100Z"
    }
   },
   "id": "e88ed2feef3bc92b"
  },
  {
   "cell_type": "code",
   "execution_count": 7,
   "outputs": [],
   "source": [
    "df_all.to_csv('combined_df.csv',index=False)"
   ],
   "metadata": {
    "collapsed": false,
    "ExecuteTime": {
     "end_time": "2024-02-19T21:37:12.503954100Z",
     "start_time": "2024-02-19T21:37:11.678296200Z"
    }
   },
   "id": "aa1af73d8e1fa3c1"
  },
  {
   "cell_type": "code",
   "execution_count": 8,
   "outputs": [
    {
     "name": "stdout",
     "output_type": "stream",
     "text": [
      "0\n"
     ]
    }
   ],
   "source": [
    "for i in range(1):\n",
    "    print(i)"
   ],
   "metadata": {
    "collapsed": false,
    "ExecuteTime": {
     "end_time": "2024-02-23T22:41:03.020870400Z",
     "start_time": "2024-02-23T22:41:03.011926300Z"
    }
   },
   "id": "d45af4a848b74f88"
  },
  {
   "cell_type": "code",
   "execution_count": null,
   "outputs": [],
   "source": [],
   "metadata": {
    "collapsed": false
   },
   "id": "4bc0ab51330e96d0"
  }
 ],
 "metadata": {
  "kernelspec": {
   "display_name": "Python 3",
   "language": "python",
   "name": "python3"
  },
  "language_info": {
   "codemirror_mode": {
    "name": "ipython",
    "version": 2
   },
   "file_extension": ".py",
   "mimetype": "text/x-python",
   "name": "python",
   "nbconvert_exporter": "python",
   "pygments_lexer": "ipython2",
   "version": "2.7.6"
  }
 },
 "nbformat": 4,
 "nbformat_minor": 5
}
