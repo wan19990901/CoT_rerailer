{
 "cells": [
  {
   "cell_type": "code",
   "execution_count": 1,
   "id": "initial_id",
   "metadata": {
    "ExecuteTime": {
     "end_time": "2024-02-19T21:32:31.700611400Z",
     "start_time": "2024-02-19T21:32:31.393494700Z"
    },
    "tags": []
   },
   "outputs": [],
   "source": [
    "import pandas as pd"
   ]
  },
  {
   "cell_type": "code",
   "execution_count": 2,
   "id": "5c3fe569d9bdfa3d",
   "metadata": {
    "ExecuteTime": {
     "end_time": "2024-02-19T21:36:33.983233400Z",
     "start_time": "2024-02-19T21:36:33.970611Z"
    },
    "collapsed": false,
    "jupyter": {
     "outputs_hidden": false
    },
    "tags": []
   },
   "outputs": [],
   "source": [
    "current_df_li = ['MMLU_test.csv','Self_Check.csv','Bigbench_hard.csv','Bigbench_hard_date.csv']"
   ]
  },
  {
   "cell_type": "code",
   "execution_count": 3,
   "id": "e88ed2feef3bc92b",
   "metadata": {
    "ExecuteTime": {
     "end_time": "2024-02-19T21:36:34.891840300Z",
     "start_time": "2024-02-19T21:36:34.303006100Z"
    },
    "collapsed": false,
    "jupyter": {
     "outputs_hidden": false
    },
    "tags": []
   },
   "outputs": [
    {
     "data": {
      "text/html": [
       "<div>\n",
       "<style scoped>\n",
       "    .dataframe tbody tr th:only-of-type {\n",
       "        vertical-align: middle;\n",
       "    }\n",
       "\n",
       "    .dataframe tbody tr th {\n",
       "        vertical-align: top;\n",
       "    }\n",
       "\n",
       "    .dataframe thead th {\n",
       "        text-align: right;\n",
       "    }\n",
       "</style>\n",
       "<table border=\"1\" class=\"dataframe\">\n",
       "  <thead>\n",
       "    <tr style=\"text-align: right;\">\n",
       "      <th></th>\n",
       "      <th>Name</th>\n",
       "      <th>Category</th>\n",
       "      <th>Question</th>\n",
       "      <th>Correct Answer</th>\n",
       "    </tr>\n",
       "  </thead>\n",
       "  <tbody>\n",
       "    <tr>\n",
       "      <th>0</th>\n",
       "      <td>MMLU_test</td>\n",
       "      <td>high_school_government_and_politics</td>\n",
       "      <td>Which of the following best describes the bala...</td>\n",
       "      <td>D</td>\n",
       "    </tr>\n",
       "    <tr>\n",
       "      <th>1</th>\n",
       "      <td>MMLU_test</td>\n",
       "      <td>high_school_government_and_politics</td>\n",
       "      <td>Which of the following statements does NOT acc...</td>\n",
       "      <td>B</td>\n",
       "    </tr>\n",
       "    <tr>\n",
       "      <th>2</th>\n",
       "      <td>MMLU_test</td>\n",
       "      <td>high_school_government_and_politics</td>\n",
       "      <td>Which of the following plays the most signific...</td>\n",
       "      <td>B</td>\n",
       "    </tr>\n",
       "    <tr>\n",
       "      <th>3</th>\n",
       "      <td>MMLU_test</td>\n",
       "      <td>high_school_government_and_politics</td>\n",
       "      <td>What power was granted to the states by the Ar...</td>\n",
       "      <td>A</td>\n",
       "    </tr>\n",
       "    <tr>\n",
       "      <th>4</th>\n",
       "      <td>MMLU_test</td>\n",
       "      <td>high_school_government_and_politics</td>\n",
       "      <td>The primary function of political action commi...</td>\n",
       "      <td>A</td>\n",
       "    </tr>\n",
       "    <tr>\n",
       "      <th>...</th>\n",
       "      <td>...</td>\n",
       "      <td>...</td>\n",
       "      <td>...</td>\n",
       "      <td>...</td>\n",
       "    </tr>\n",
       "    <tr>\n",
       "      <th>62180</th>\n",
       "      <td>BigBench_hard</td>\n",
       "      <td>date_understanding</td>\n",
       "      <td>Today is the last day of the first quarter of ...</td>\n",
       "      <td>D</td>\n",
       "    </tr>\n",
       "    <tr>\n",
       "      <th>62181</th>\n",
       "      <td>BigBench_hard</td>\n",
       "      <td>date_understanding</td>\n",
       "      <td>Today, 8/3/1997, is a day that we will never f...</td>\n",
       "      <td>D</td>\n",
       "    </tr>\n",
       "    <tr>\n",
       "      <th>62182</th>\n",
       "      <td>BigBench_hard</td>\n",
       "      <td>date_understanding</td>\n",
       "      <td>Today is Christmas Eve of 1937. What is the da...</td>\n",
       "      <td>B</td>\n",
       "    </tr>\n",
       "    <tr>\n",
       "      <th>62183</th>\n",
       "      <td>BigBench_hard</td>\n",
       "      <td>date_understanding</td>\n",
       "      <td>Yesterday, Jan 21, 2011, Jane ate 2 pizzas and...</td>\n",
       "      <td>F</td>\n",
       "    </tr>\n",
       "    <tr>\n",
       "      <th>62184</th>\n",
       "      <td>BigBench_hard</td>\n",
       "      <td>date_understanding</td>\n",
       "      <td>Jane was born on the last day of Feburary in 2...</td>\n",
       "      <td>F</td>\n",
       "    </tr>\n",
       "  </tbody>\n",
       "</table>\n",
       "<p>62185 rows × 4 columns</p>\n",
       "</div>"
      ],
      "text/plain": [
       "                Name                             Category  \\\n",
       "0          MMLU_test  high_school_government_and_politics   \n",
       "1          MMLU_test  high_school_government_and_politics   \n",
       "2          MMLU_test  high_school_government_and_politics   \n",
       "3          MMLU_test  high_school_government_and_politics   \n",
       "4          MMLU_test  high_school_government_and_politics   \n",
       "...              ...                                  ...   \n",
       "62180  BigBench_hard                   date_understanding   \n",
       "62181  BigBench_hard                   date_understanding   \n",
       "62182  BigBench_hard                   date_understanding   \n",
       "62183  BigBench_hard                   date_understanding   \n",
       "62184  BigBench_hard                   date_understanding   \n",
       "\n",
       "                                                Question Correct Answer  \n",
       "0      Which of the following best describes the bala...              D  \n",
       "1      Which of the following statements does NOT acc...              B  \n",
       "2      Which of the following plays the most signific...              B  \n",
       "3      What power was granted to the states by the Ar...              A  \n",
       "4      The primary function of political action commi...              A  \n",
       "...                                                  ...            ...  \n",
       "62180  Today is the last day of the first quarter of ...              D  \n",
       "62181  Today, 8/3/1997, is a day that we will never f...              D  \n",
       "62182  Today is Christmas Eve of 1937. What is the da...              B  \n",
       "62183  Yesterday, Jan 21, 2011, Jane ate 2 pizzas and...              F  \n",
       "62184  Jane was born on the last day of Feburary in 2...              F  \n",
       "\n",
       "[62185 rows x 4 columns]"
      ]
     },
     "execution_count": 3,
     "metadata": {},
     "output_type": "execute_result"
    }
   ],
   "source": [
    "df_li = []\n",
    "for df_name in current_df_li:\n",
    "    df_li.append(pd.read_csv(df_name))\n",
    "df_all = pd.concat(df_li,ignore_index=True)\n",
    "df_all"
   ]
  },
  {
   "cell_type": "code",
   "execution_count": 4,
   "id": "ac62fea3-8376-4a87-bb91-a4dbad939a7a",
   "metadata": {
    "tags": []
   },
   "outputs": [
    {
     "data": {
      "text/plain": [
       "Category\n",
       "professional_law                       1534\n",
       "moral_scenarios                         895\n",
       "miscellaneous                           783\n",
       "professional_psychology                 612\n",
       "high_school_psychology                  545\n",
       "high_school_macroeconomics              390\n",
       "elementary_mathematics                  378\n",
       "moral_disputes                          346\n",
       "prehistory                              324\n",
       "philosophy                              311\n",
       "high_school_biology                     310\n",
       "nutrition                               306\n",
       "professional_accounting                 282\n",
       "professional_medicine                   272\n",
       "high_school_mathematics                 270\n",
       "clinical_knowledge                      265\n",
       "security_studies                        245\n",
       "high_school_microeconomics              238\n",
       "high_school_world_history               237\n",
       "conceptual_physics                      235\n",
       "marketing                               234\n",
       "human_aging                             223\n",
       "high_school_statistics                  216\n",
       "high_school_us_history                  204\n",
       "high_school_chemistry                   203\n",
       "sociology                               201\n",
       "high_school_geography                   198\n",
       "high_school_government_and_politics     193\n",
       "college_medicine                        173\n",
       "world_religions                         171\n",
       "virology                                166\n",
       "high_school_european_history            165\n",
       "logical_fallacies                       163\n",
       "astronomy                               152\n",
       "high_school_physics                     151\n",
       "electrical_engineering                  145\n",
       "college_biology                         144\n",
       "anatomy                                 135\n",
       "human_sexuality                         131\n",
       "formal_logic                            126\n",
       "international_law                       121\n",
       "econometrics                            114\n",
       "machine_learning                        112\n",
       "public_relations                        110\n",
       "jurisprudence                           108\n",
       "management                              103\n",
       "college_physics                         102\n",
       "computer_security                       100\n",
       "business_ethics                         100\n",
       "abstract_algebra                        100\n",
       "high_school_computer_science            100\n",
       "college_chemistry                       100\n",
       "college_mathematics                     100\n",
       "medical_genetics                        100\n",
       "college_computer_science                100\n",
       "global_facts                            100\n",
       "us_foreign_policy                       100\n",
       "Name: count, dtype: int64"
      ]
     },
     "execution_count": 4,
     "metadata": {},
     "output_type": "execute_result"
    }
   ],
   "source": [
    "df_all[df_all.Name == 'MMLU_test'].Category.value_counts()"
   ]
  },
  {
   "cell_type": "code",
   "execution_count": 9,
   "id": "a60efc44-364d-4eac-afa2-bc75a20b2202",
   "metadata": {
    "tags": []
   },
   "outputs": [],
   "source": [
    "categories_of_interest = ['philosophy','international_law','professional_law','jurisprudence', \n",
    "                          'college_chemistry','college_medicine','college_physics','college_biology',\n",
    "                          'Math','high_school_statistics','date_understanding', 'elementary_mathematics',\n",
    "                          'Challenging Math','formal_logic','college_mathematics','abstract_algebra',\n",
    "                         'professional_accounting','college_computer_science','econometrics','electrical_engineering']\n",
    "\n",
    "# Filter df for categories that contain any of the keywords in categories_of_interest\n",
    "filtered_df = df_all[df_all['Category'].isin(categories_of_interest)]"
   ]
  },
  {
   "cell_type": "code",
   "execution_count": 10,
   "id": "aa1af73d8e1fa3c1",
   "metadata": {
    "ExecuteTime": {
     "end_time": "2024-02-19T21:37:12.503954100Z",
     "start_time": "2024-02-19T21:37:11.678296200Z"
    },
    "collapsed": false,
    "jupyter": {
     "outputs_hidden": false
    },
    "tags": []
   },
   "outputs": [],
   "source": [
    "filtered_df.to_csv('filter_df.csv',index=False)"
   ]
  },
  {
   "cell_type": "code",
   "execution_count": null,
   "id": "067a6afb-85fb-46b6-9533-bc36ff3fa436",
   "metadata": {},
   "outputs": [],
   "source": []
  }
 ],
 "metadata": {
  "kernelspec": {
   "display_name": "Python 3 (ipykernel)",
   "language": "python",
   "name": "python3"
  },
  "language_info": {
   "codemirror_mode": {
    "name": "ipython",
    "version": 3
   },
   "file_extension": ".py",
   "mimetype": "text/x-python",
   "name": "python",
   "nbconvert_exporter": "python",
   "pygments_lexer": "ipython3",
   "version": "3.11.4"
  }
 },
 "nbformat": 4,
 "nbformat_minor": 5
}
