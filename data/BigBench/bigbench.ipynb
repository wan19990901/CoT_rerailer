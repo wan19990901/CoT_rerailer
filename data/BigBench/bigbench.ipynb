{
 "cells": [
  {
   "cell_type": "code",
   "execution_count": 1,
   "id": "1da6f911-75b8-4455-a772-fb3d5bc9d52d",
   "metadata": {
    "tags": [],
    "ExecuteTime": {
     "end_time": "2024-06-10T17:26:42.921292300Z",
     "start_time": "2024-06-10T17:26:37.121858500Z"
    }
   },
   "outputs": [
    {
     "name": "stdout",
     "output_type": "stream",
     "text": [
      "Collecting datasets\n",
      "  Downloading datasets-2.19.2-py3-none-any.whl.metadata (19 kB)\n",
      "Requirement already satisfied: filelock in w:\\anaconda3\\envs\\llm_hall_project\\lib\\site-packages (from datasets) (3.13.1)\n",
      "Requirement already satisfied: numpy>=1.17 in w:\\anaconda3\\envs\\llm_hall_project\\lib\\site-packages (from datasets) (1.24.3)\n",
      "Requirement already satisfied: pyarrow>=12.0.0 in w:\\anaconda3\\envs\\llm_hall_project\\lib\\site-packages (from datasets) (15.0.2)\n",
      "Requirement already satisfied: pyarrow-hotfix in w:\\anaconda3\\envs\\llm_hall_project\\lib\\site-packages (from datasets) (0.6)\n",
      "Requirement already satisfied: dill<0.3.9,>=0.3.0 in w:\\anaconda3\\envs\\llm_hall_project\\lib\\site-packages (from datasets) (0.3.8)\n",
      "Requirement already satisfied: pandas in w:\\anaconda3\\envs\\llm_hall_project\\lib\\site-packages (from datasets) (2.0.3)\n",
      "Collecting requests>=2.32.1 (from datasets)\n",
      "  Using cached requests-2.32.3-py3-none-any.whl.metadata (4.6 kB)\n",
      "Requirement already satisfied: tqdm>=4.62.1 in w:\\anaconda3\\envs\\llm_hall_project\\lib\\site-packages (from datasets) (4.65.0)\n",
      "Requirement already satisfied: xxhash in w:\\anaconda3\\envs\\llm_hall_project\\lib\\site-packages (from datasets) (3.4.1)\n",
      "Requirement already satisfied: multiprocess in w:\\anaconda3\\envs\\llm_hall_project\\lib\\site-packages (from datasets) (0.70.16)\n",
      "Requirement already satisfied: fsspec<=2024.3.1,>=2023.1.0 in w:\\anaconda3\\envs\\llm_hall_project\\lib\\site-packages (from fsspec[http]<=2024.3.1,>=2023.1.0->datasets) (2024.2.0)\n",
      "Requirement already satisfied: aiohttp in w:\\anaconda3\\envs\\llm_hall_project\\lib\\site-packages (from datasets) (3.9.3)\n",
      "Requirement already satisfied: huggingface-hub>=0.21.2 in w:\\anaconda3\\envs\\llm_hall_project\\lib\\site-packages (from datasets) (0.21.4)\n",
      "Requirement already satisfied: packaging in w:\\anaconda3\\envs\\llm_hall_project\\lib\\site-packages (from datasets) (23.2)\n",
      "Requirement already satisfied: pyyaml>=5.1 in w:\\anaconda3\\envs\\llm_hall_project\\lib\\site-packages (from datasets) (6.0.1)\n",
      "Requirement already satisfied: aiosignal>=1.1.2 in w:\\anaconda3\\envs\\llm_hall_project\\lib\\site-packages (from aiohttp->datasets) (1.3.1)\n",
      "Requirement already satisfied: attrs>=17.3.0 in w:\\anaconda3\\envs\\llm_hall_project\\lib\\site-packages (from aiohttp->datasets) (23.1.0)\n",
      "Requirement already satisfied: frozenlist>=1.1.1 in w:\\anaconda3\\envs\\llm_hall_project\\lib\\site-packages (from aiohttp->datasets) (1.4.1)\n",
      "Requirement already satisfied: multidict<7.0,>=4.5 in w:\\anaconda3\\envs\\llm_hall_project\\lib\\site-packages (from aiohttp->datasets) (6.0.5)\n",
      "Requirement already satisfied: yarl<2.0,>=1.0 in w:\\anaconda3\\envs\\llm_hall_project\\lib\\site-packages (from aiohttp->datasets) (1.9.4)\n",
      "Requirement already satisfied: async-timeout<5.0,>=4.0 in w:\\anaconda3\\envs\\llm_hall_project\\lib\\site-packages (from aiohttp->datasets) (4.0.3)\n",
      "Requirement already satisfied: typing-extensions>=3.7.4.3 in w:\\anaconda3\\envs\\llm_hall_project\\lib\\site-packages (from huggingface-hub>=0.21.2->datasets) (4.9.0)\n",
      "Requirement already satisfied: charset-normalizer<4,>=2 in w:\\anaconda3\\envs\\llm_hall_project\\lib\\site-packages (from requests>=2.32.1->datasets) (2.0.4)\n",
      "Requirement already satisfied: idna<4,>=2.5 in w:\\anaconda3\\envs\\llm_hall_project\\lib\\site-packages (from requests>=2.32.1->datasets) (2.10)\n",
      "Requirement already satisfied: urllib3<3,>=1.21.1 in w:\\anaconda3\\envs\\llm_hall_project\\lib\\site-packages (from requests>=2.32.1->datasets) (2.1.0)\n",
      "Requirement already satisfied: certifi>=2017.4.17 in w:\\anaconda3\\envs\\llm_hall_project\\lib\\site-packages (from requests>=2.32.1->datasets) (2024.2.2)\n",
      "Requirement already satisfied: colorama in w:\\anaconda3\\envs\\llm_hall_project\\lib\\site-packages (from tqdm>=4.62.1->datasets) (0.4.6)\n",
      "Requirement already satisfied: python-dateutil>=2.8.2 in w:\\anaconda3\\envs\\llm_hall_project\\lib\\site-packages (from pandas->datasets) (2.8.2)\n",
      "Requirement already satisfied: pytz>=2020.1 in w:\\anaconda3\\envs\\llm_hall_project\\lib\\site-packages (from pandas->datasets) (2023.3.post1)\n",
      "Requirement already satisfied: tzdata>=2022.1 in w:\\anaconda3\\envs\\llm_hall_project\\lib\\site-packages (from pandas->datasets) (2023.3)\n",
      "Requirement already satisfied: six>=1.5 in w:\\anaconda3\\envs\\llm_hall_project\\lib\\site-packages (from python-dateutil>=2.8.2->pandas->datasets) (1.16.0)\n",
      "Downloading datasets-2.19.2-py3-none-any.whl (542 kB)\n",
      "   ---------------------------------------- 0.0/542.1 kB ? eta -:--:--\n",
      "    --------------------------------------- 10.2/542.1 kB ? eta -:--:--\n",
      "   -- ------------------------------------ 30.7/542.1 kB 330.3 kB/s eta 0:00:02\n",
      "   ----- --------------------------------- 71.7/542.1 kB 563.7 kB/s eta 0:00:01\n",
      "   ---------- --------------------------- 143.4/542.1 kB 853.3 kB/s eta 0:00:01\n",
      "   -------------------- ------------------- 276.5/542.1 kB 1.2 MB/s eta 0:00:01\n",
      "   ----------------------------------- ---- 481.3/542.1 kB 1.7 MB/s eta 0:00:01\n",
      "   ---------------------------------------- 542.1/542.1 kB 1.8 MB/s eta 0:00:00\n",
      "Using cached requests-2.32.3-py3-none-any.whl (64 kB)\n",
      "Installing collected packages: requests, datasets\n",
      "  Attempting uninstall: requests\n",
      "    Found existing installation: requests 2.31.0\n",
      "    Uninstalling requests-2.31.0:\n",
      "      Successfully uninstalled requests-2.31.0\n",
      "Successfully installed datasets-2.19.2 requests-2.32.3\n"
     ]
    },
    {
     "name": "stderr",
     "output_type": "stream",
     "text": [
      "ERROR: pip's dependency resolver does not currently take into account all the packages that are installed. This behaviour is the source of the following dependency conflicts.\n",
      "langchain 0.1.7 requires langsmith<0.1,>=0.0.83, but you have langsmith 0.1.26 which is incompatible.\n"
     ]
    }
   ],
   "source": [
    "!pip install datasets"
   ]
  },
  {
   "cell_type": "code",
   "execution_count": 2,
   "id": "77b95d83-db1e-47ee-94b1-0b46cc2d1daf",
   "metadata": {
    "ExecuteTime": {
     "end_time": "2024-06-10T17:26:42.961579900Z",
     "start_time": "2024-06-10T17:26:42.920057Z"
    }
   },
   "outputs": [],
   "source": [
    "# !pip install \"bigbench @ https://storage.googleapis.com/public_research_data/bigbench/bigbench-0.0.1.tar.gz\""
   ]
  },
  {
   "cell_type": "code",
   "execution_count": 3,
   "id": "8acd1dce-1a00-4c9e-b190-ee0cdafea893",
   "metadata": {
    "tags": [],
    "ExecuteTime": {
     "end_time": "2024-06-10T17:26:43.384247600Z",
     "start_time": "2024-06-10T17:26:42.934879900Z"
    }
   },
   "outputs": [
    {
     "ename": "NameError",
     "evalue": "name 'load_dataset' is not defined",
     "output_type": "error",
     "traceback": [
      "\u001B[1;31m---------------------------------------------------------------------------\u001B[0m",
      "\u001B[1;31mNameError\u001B[0m                                 Traceback (most recent call last)",
      "Cell \u001B[1;32mIn[3], line 2\u001B[0m\n\u001B[0;32m      1\u001B[0m \u001B[38;5;66;03m# Load the MMLU dataset\u001B[39;00m\n\u001B[1;32m----> 2\u001B[0m dataset_date \u001B[38;5;241m=\u001B[39m \u001B[43mload_dataset\u001B[49m(\u001B[38;5;124m\"\u001B[39m\u001B[38;5;124mmaveriq/bigbenchhard\u001B[39m\u001B[38;5;124m\"\u001B[39m,\u001B[38;5;124m'\u001B[39m\u001B[38;5;124mdate_understanding\u001B[39m\u001B[38;5;124m'\u001B[39m)\n",
      "\u001B[1;31mNameError\u001B[0m: name 'load_dataset' is not defined"
     ]
    }
   ],
   "source": [
    "# Load the MMLU dataset\n",
    "dataset_date = load_dataset(\"maveriq/bigbenchhard\",'date_understanding')\n"
   ]
  },
  {
   "cell_type": "code",
   "execution_count": null,
   "id": "b3e19bcf-8ebd-4860-97ad-1074913d95b5",
   "metadata": {
    "tags": [],
    "ExecuteTime": {
     "end_time": "2024-06-10T17:26:43.389181700Z",
     "start_time": "2024-06-10T17:26:43.387236700Z"
    }
   },
   "outputs": [],
   "source": [
    "import pandas as pd\n",
    "dataset_date = pd.DataFrame(dataset_date['train'])"
   ]
  },
  {
   "cell_type": "code",
   "execution_count": null,
   "id": "b95f29dd-818c-4c4b-82e6-ec557d812ca5",
   "metadata": {
    "tags": [],
    "ExecuteTime": {
     "end_time": "2024-06-10T17:26:43.389181700Z",
     "start_time": "2024-06-10T17:26:43.389181700Z"
    }
   },
   "outputs": [],
   "source": [
    "import pandas as pd\n",
    "# dataset_track = pd.DataFrame(dataset_track['train'])\n",
    "# dataset_track['Category'] = 'tracking_shuffled_objects'\n",
    "# dataset_logic = pd.DataFrame(dataset_logic['train'])\n",
    "# dataset_logic['Category'] = 'logical_deduction'\n",
    "dataset_date['Category'] = 'date_understanding'"
   ]
  },
  {
   "cell_type": "code",
   "execution_count": null,
   "id": "7dc3a5cb-50f1-49d2-88d7-b9effb847562",
   "metadata": {
    "tags": [],
    "ExecuteTime": {
     "start_time": "2024-06-10T17:26:43.390806Z"
    }
   },
   "outputs": [],
   "source": [
    "# combined_df = pd.concat((dataset_logic,dataset_track))\n",
    "\n",
    "dataset_date['target'] = dataset_date['target'].str.replace(r'\\(|\\)', '', regex=True)"
   ]
  },
  {
   "cell_type": "code",
   "execution_count": null,
   "id": "506bb8e3-f35b-4a18-a74a-f23d03179e3d",
   "metadata": {
    "tags": [],
    "ExecuteTime": {
     "start_time": "2024-06-10T17:26:43.391863600Z"
    }
   },
   "outputs": [],
   "source": [
    "dataset_date['Name'] = 'BigBench_hard'"
   ]
  },
  {
   "cell_type": "code",
   "execution_count": null,
   "id": "7950a62a-4080-4cbc-934b-5c1db1454091",
   "metadata": {
    "tags": [],
    "ExecuteTime": {
     "start_time": "2024-06-10T17:26:43.393872600Z"
    }
   },
   "outputs": [],
   "source": [
    "# 1: Combine the question and choices into a single column 'Question'\n",
    "df = dataset_date\n",
    "\n",
    "\n",
    "# 2: Rename the columns\n",
    "df.rename(columns={'input': 'Question', 'target': 'Correct Answer'}, inplace=True)\n",
    "\n",
    "df"
   ]
  },
  {
   "cell_type": "code",
   "execution_count": null,
   "id": "4dbf1e87-57dc-4902-b6d5-8f27caca621b",
   "metadata": {
    "tags": [],
    "ExecuteTime": {
     "start_time": "2024-06-10T17:26:43.394822500Z"
    }
   },
   "outputs": [],
   "source": [
    "df.to_csv('../preprocessed/Bigbench_hard_date.csv',index = False)"
   ]
  },
  {
   "cell_type": "code",
   "execution_count": null,
   "id": "57091e93-61de-4fa8-b4d1-f0870fde15a3",
   "metadata": {
    "ExecuteTime": {
     "end_time": "2024-06-10T17:26:43.397882100Z",
     "start_time": "2024-06-10T17:26:43.395884300Z"
    }
   },
   "outputs": [],
   "source": [
    "df['Category'].value_counts()"
   ]
  },
  {
   "cell_type": "code",
   "execution_count": null,
   "id": "4c4a9450-3a48-4bf3-858b-f2d2eb2d3dc8",
   "metadata": {},
   "outputs": [],
   "source": []
  }
 ],
 "metadata": {
  "kernelspec": {
   "display_name": "Python 3 (ipykernel)",
   "language": "python",
   "name": "python3"
  },
  "language_info": {
   "codemirror_mode": {
    "name": "ipython",
    "version": 3
   },
   "file_extension": ".py",
   "mimetype": "text/x-python",
   "name": "python",
   "nbconvert_exporter": "python",
   "pygments_lexer": "ipython3",
   "version": "3.11.4"
  }
 },
 "nbformat": 4,
 "nbformat_minor": 5
}
