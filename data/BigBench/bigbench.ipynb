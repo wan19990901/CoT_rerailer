{
 "cells": [
  {
   "cell_type": "code",
   "execution_count": 1,
   "id": "1da6f911-75b8-4455-a772-fb3d5bc9d52d",
   "metadata": {
    "tags": []
   },
   "outputs": [
    {
     "name": "stdout",
     "output_type": "stream",
     "text": [
      "Defaulting to user installation because normal site-packages is not writeable\n",
      "Requirement already satisfied: datasets in /home/wxr9et/.local/lib/python3.11/site-packages (2.17.1)\n",
      "Requirement already satisfied: filelock in /home/wxr9et/.local/lib/python3.11/site-packages (from datasets) (3.13.1)\n",
      "Requirement already satisfied: numpy>=1.17 in /apps/software/standard/core/jupyterlab/3.6.3-py3.11/lib/python3.11/site-packages (from datasets) (1.24.4)\n",
      "Requirement already satisfied: pyarrow>=12.0.0 in /apps/software/standard/core/jupyterlab/3.6.3-py3.11/lib/python3.11/site-packages (from datasets) (12.0.1)\n",
      "Requirement already satisfied: pyarrow-hotfix in /home/wxr9et/.local/lib/python3.11/site-packages (from datasets) (0.6)\n",
      "Requirement already satisfied: dill<0.3.9,>=0.3.0 in /home/wxr9et/.local/lib/python3.11/site-packages (from datasets) (0.3.8)\n",
      "Requirement already satisfied: pandas in /apps/software/standard/core/jupyterlab/3.6.3-py3.11/lib/python3.11/site-packages (from datasets) (2.0.3)\n",
      "Requirement already satisfied: requests>=2.19.0 in /apps/software/standard/core/jupyterlab/3.6.3-py3.11/lib/python3.11/site-packages (from datasets) (2.31.0)\n",
      "Requirement already satisfied: tqdm>=4.62.1 in /home/wxr9et/.local/lib/python3.11/site-packages (from datasets) (4.66.1)\n",
      "Requirement already satisfied: xxhash in /home/wxr9et/.local/lib/python3.11/site-packages (from datasets) (3.4.1)\n",
      "Requirement already satisfied: multiprocess in /home/wxr9et/.local/lib/python3.11/site-packages (from datasets) (0.70.16)\n",
      "Requirement already satisfied: fsspec[http]<=2023.10.0,>=2023.1.0 in /home/wxr9et/.local/lib/python3.11/site-packages (from datasets) (2023.10.0)\n",
      "Requirement already satisfied: aiohttp in /apps/software/standard/core/jupyterlab/3.6.3-py3.11/lib/python3.11/site-packages (from datasets) (3.8.5)\n",
      "Requirement already satisfied: huggingface-hub>=0.19.4 in /home/wxr9et/.local/lib/python3.11/site-packages (from datasets) (0.20.3)\n",
      "Requirement already satisfied: packaging in /home/wxr9et/.local/lib/python3.11/site-packages (from datasets) (23.2)\n",
      "Requirement already satisfied: pyyaml>=5.1 in /apps/software/standard/core/jupyterlab/3.6.3-py3.11/lib/python3.11/site-packages (from datasets) (6.0.1)\n",
      "Requirement already satisfied: attrs>=17.3.0 in /apps/software/standard/core/jupyterlab/3.6.3-py3.11/lib/python3.11/site-packages (from aiohttp->datasets) (23.1.0)\n",
      "Requirement already satisfied: charset-normalizer<4.0,>=2.0 in /apps/software/standard/core/jupyterlab/3.6.3-py3.11/lib/python3.11/site-packages (from aiohttp->datasets) (3.2.0)\n",
      "Requirement already satisfied: multidict<7.0,>=4.5 in /apps/software/standard/core/jupyterlab/3.6.3-py3.11/lib/python3.11/site-packages (from aiohttp->datasets) (6.0.4)\n",
      "Requirement already satisfied: async-timeout<5.0,>=4.0.0a3 in /apps/software/standard/core/jupyterlab/3.6.3-py3.11/lib/python3.11/site-packages (from aiohttp->datasets) (4.0.3)\n",
      "Requirement already satisfied: yarl<2.0,>=1.0 in /apps/software/standard/core/jupyterlab/3.6.3-py3.11/lib/python3.11/site-packages (from aiohttp->datasets) (1.9.2)\n",
      "Requirement already satisfied: frozenlist>=1.1.1 in /apps/software/standard/core/jupyterlab/3.6.3-py3.11/lib/python3.11/site-packages (from aiohttp->datasets) (1.4.0)\n",
      "Requirement already satisfied: aiosignal>=1.1.2 in /apps/software/standard/core/jupyterlab/3.6.3-py3.11/lib/python3.11/site-packages (from aiohttp->datasets) (1.3.1)\n",
      "Requirement already satisfied: typing-extensions>=3.7.4.3 in /home/wxr9et/.local/lib/python3.11/site-packages (from huggingface-hub>=0.19.4->datasets) (4.9.0)\n",
      "Requirement already satisfied: idna<4,>=2.5 in /apps/software/standard/core/jupyterlab/3.6.3-py3.11/lib/python3.11/site-packages (from requests>=2.19.0->datasets) (3.4)\n",
      "Requirement already satisfied: urllib3<3,>=1.21.1 in /apps/software/standard/core/jupyterlab/3.6.3-py3.11/lib/python3.11/site-packages (from requests>=2.19.0->datasets) (2.0.4)\n",
      "Requirement already satisfied: certifi>=2017.4.17 in /apps/software/standard/core/jupyterlab/3.6.3-py3.11/lib/python3.11/site-packages (from requests>=2.19.0->datasets) (2023.7.22)\n",
      "Requirement already satisfied: python-dateutil>=2.8.2 in /apps/software/standard/core/jupyterlab/3.6.3-py3.11/lib/python3.11/site-packages (from pandas->datasets) (2.8.2)\n",
      "Requirement already satisfied: pytz>=2020.1 in /apps/software/standard/core/jupyterlab/3.6.3-py3.11/lib/python3.11/site-packages (from pandas->datasets) (2023.3)\n",
      "Requirement already satisfied: tzdata>=2022.1 in /apps/software/standard/core/jupyterlab/3.6.3-py3.11/lib/python3.11/site-packages (from pandas->datasets) (2023.3)\n",
      "Requirement already satisfied: six>=1.5 in /apps/software/standard/core/jupyterlab/3.6.3-py3.11/lib/python3.11/site-packages (from python-dateutil>=2.8.2->pandas->datasets) (1.16.0)\n"
     ]
    }
   ],
   "source": [
    "!pip install datasets"
   ]
  },
  {
   "cell_type": "code",
   "execution_count": null,
   "id": "77b95d83-db1e-47ee-94b1-0b46cc2d1daf",
   "metadata": {},
   "outputs": [],
   "source": [
    "# !pip install \"bigbench @ https://storage.googleapis.com/public_research_data/bigbench/bigbench-0.0.1.tar.gz\""
   ]
  },
  {
   "cell_type": "code",
   "execution_count": 3,
   "id": "8acd1dce-1a00-4c9e-b190-ee0cdafea893",
   "metadata": {
    "tags": []
   },
   "outputs": [],
   "source": [
    "# Load the MMLU dataset\n",
    "dataset_date = load_dataset(\"maveriq/bigbenchhard\",'date_understanding')\n"
   ]
  },
  {
   "cell_type": "code",
   "execution_count": 4,
   "id": "b3e19bcf-8ebd-4860-97ad-1074913d95b5",
   "metadata": {
    "tags": []
   },
   "outputs": [],
   "source": [
    "import pandas as pd\n",
    "dataset_date = pd.DataFrame(dataset_date['train'])"
   ]
  },
  {
   "cell_type": "code",
   "execution_count": 5,
   "id": "b95f29dd-818c-4c4b-82e6-ec557d812ca5",
   "metadata": {
    "tags": []
   },
   "outputs": [],
   "source": [
    "import pandas as pd\n",
    "# dataset_track = pd.DataFrame(dataset_track['train'])\n",
    "# dataset_track['Category'] = 'tracking_shuffled_objects'\n",
    "# dataset_logic = pd.DataFrame(dataset_logic['train'])\n",
    "# dataset_logic['Category'] = 'logical_deduction'\n",
    "dataset_date['Category'] = 'date_understanding'"
   ]
  },
  {
   "cell_type": "code",
   "execution_count": 6,
   "id": "7dc3a5cb-50f1-49d2-88d7-b9effb847562",
   "metadata": {
    "tags": []
   },
   "outputs": [],
   "source": [
    "# combined_df = pd.concat((dataset_logic,dataset_track))\n",
    "\n",
    "dataset_date['target'] = dataset_date['target'].str.replace(r'\\(|\\)', '', regex=True)"
   ]
  },
  {
   "cell_type": "code",
   "execution_count": 8,
   "id": "506bb8e3-f35b-4a18-a74a-f23d03179e3d",
   "metadata": {
    "tags": []
   },
   "outputs": [],
   "source": [
    "dataset_date['Name'] = 'BigBench_hard'"
   ]
  },
  {
   "cell_type": "code",
   "execution_count": 9,
   "id": "7950a62a-4080-4cbc-934b-5c1db1454091",
   "metadata": {
    "tags": []
   },
   "outputs": [
    {
     "data": {
      "text/html": [
       "<div>\n",
       "<style scoped>\n",
       "    .dataframe tbody tr th:only-of-type {\n",
       "        vertical-align: middle;\n",
       "    }\n",
       "\n",
       "    .dataframe tbody tr th {\n",
       "        vertical-align: top;\n",
       "    }\n",
       "\n",
       "    .dataframe thead th {\n",
       "        text-align: right;\n",
       "    }\n",
       "</style>\n",
       "<table border=\"1\" class=\"dataframe\">\n",
       "  <thead>\n",
       "    <tr style=\"text-align: right;\">\n",
       "      <th></th>\n",
       "      <th>Question</th>\n",
       "      <th>Correct Answer</th>\n",
       "      <th>Category</th>\n",
       "      <th>Name</th>\n",
       "    </tr>\n",
       "  </thead>\n",
       "  <tbody>\n",
       "    <tr>\n",
       "      <th>0</th>\n",
       "      <td>Today is Christmas Eve of 1937. What is the da...</td>\n",
       "      <td>B</td>\n",
       "      <td>date_understanding</td>\n",
       "      <td>BigBench_hard</td>\n",
       "    </tr>\n",
       "    <tr>\n",
       "      <th>1</th>\n",
       "      <td>In the UK, people usually put the day before t...</td>\n",
       "      <td>A</td>\n",
       "      <td>date_understanding</td>\n",
       "      <td>BigBench_hard</td>\n",
       "    </tr>\n",
       "    <tr>\n",
       "      <th>2</th>\n",
       "      <td>Jane and John married on Jan 2, 1958. It is th...</td>\n",
       "      <td>B</td>\n",
       "      <td>date_understanding</td>\n",
       "      <td>BigBench_hard</td>\n",
       "    </tr>\n",
       "    <tr>\n",
       "      <th>3</th>\n",
       "      <td>Jane scheduled 3 apointments with 5 poeple for...</td>\n",
       "      <td>E</td>\n",
       "      <td>date_understanding</td>\n",
       "      <td>BigBench_hard</td>\n",
       "    </tr>\n",
       "    <tr>\n",
       "      <th>4</th>\n",
       "      <td>Today's meeting is rescheduled to 11 am tomorr...</td>\n",
       "      <td>B</td>\n",
       "      <td>date_understanding</td>\n",
       "      <td>BigBench_hard</td>\n",
       "    </tr>\n",
       "    <tr>\n",
       "      <th>...</th>\n",
       "      <td>...</td>\n",
       "      <td>...</td>\n",
       "      <td>...</td>\n",
       "      <td>...</td>\n",
       "    </tr>\n",
       "    <tr>\n",
       "      <th>245</th>\n",
       "      <td>Today is the last day of the first quarter of ...</td>\n",
       "      <td>D</td>\n",
       "      <td>date_understanding</td>\n",
       "      <td>BigBench_hard</td>\n",
       "    </tr>\n",
       "    <tr>\n",
       "      <th>246</th>\n",
       "      <td>Today, 8/3/1997, is a day that we will never f...</td>\n",
       "      <td>D</td>\n",
       "      <td>date_understanding</td>\n",
       "      <td>BigBench_hard</td>\n",
       "    </tr>\n",
       "    <tr>\n",
       "      <th>247</th>\n",
       "      <td>Today is Christmas Eve of 1937. What is the da...</td>\n",
       "      <td>B</td>\n",
       "      <td>date_understanding</td>\n",
       "      <td>BigBench_hard</td>\n",
       "    </tr>\n",
       "    <tr>\n",
       "      <th>248</th>\n",
       "      <td>Yesterday, Jan 21, 2011, Jane ate 2 pizzas and...</td>\n",
       "      <td>F</td>\n",
       "      <td>date_understanding</td>\n",
       "      <td>BigBench_hard</td>\n",
       "    </tr>\n",
       "    <tr>\n",
       "      <th>249</th>\n",
       "      <td>Jane was born on the last day of Feburary in 2...</td>\n",
       "      <td>F</td>\n",
       "      <td>date_understanding</td>\n",
       "      <td>BigBench_hard</td>\n",
       "    </tr>\n",
       "  </tbody>\n",
       "</table>\n",
       "<p>250 rows × 4 columns</p>\n",
       "</div>"
      ],
      "text/plain": [
       "                                              Question Correct Answer  \\\n",
       "0    Today is Christmas Eve of 1937. What is the da...              B   \n",
       "1    In the UK, people usually put the day before t...              A   \n",
       "2    Jane and John married on Jan 2, 1958. It is th...              B   \n",
       "3    Jane scheduled 3 apointments with 5 poeple for...              E   \n",
       "4    Today's meeting is rescheduled to 11 am tomorr...              B   \n",
       "..                                                 ...            ...   \n",
       "245  Today is the last day of the first quarter of ...              D   \n",
       "246  Today, 8/3/1997, is a day that we will never f...              D   \n",
       "247  Today is Christmas Eve of 1937. What is the da...              B   \n",
       "248  Yesterday, Jan 21, 2011, Jane ate 2 pizzas and...              F   \n",
       "249  Jane was born on the last day of Feburary in 2...              F   \n",
       "\n",
       "               Category           Name  \n",
       "0    date_understanding  BigBench_hard  \n",
       "1    date_understanding  BigBench_hard  \n",
       "2    date_understanding  BigBench_hard  \n",
       "3    date_understanding  BigBench_hard  \n",
       "4    date_understanding  BigBench_hard  \n",
       "..                  ...            ...  \n",
       "245  date_understanding  BigBench_hard  \n",
       "246  date_understanding  BigBench_hard  \n",
       "247  date_understanding  BigBench_hard  \n",
       "248  date_understanding  BigBench_hard  \n",
       "249  date_understanding  BigBench_hard  \n",
       "\n",
       "[250 rows x 4 columns]"
      ]
     },
     "execution_count": 9,
     "metadata": {},
     "output_type": "execute_result"
    }
   ],
   "source": [
    "# 1: Combine the question and choices into a single column 'Question'\n",
    "df = dataset_date\n",
    "\n",
    "\n",
    "# 2: Rename the columns\n",
    "df.rename(columns={'input': 'Question', 'target': 'Correct Answer'}, inplace=True)\n",
    "\n",
    "df"
   ]
  },
  {
   "cell_type": "code",
   "execution_count": 12,
   "id": "4dbf1e87-57dc-4902-b6d5-8f27caca621b",
   "metadata": {
    "tags": []
   },
   "outputs": [],
   "source": [
    "df.to_csv('../preprocessed/Bigbench_hard_date.csv',index = False)"
   ]
  },
  {
   "cell_type": "code",
   "execution_count": 13,
   "id": "57091e93-61de-4fa8-b4d1-f0870fde15a3",
   "metadata": {},
   "outputs": [
    {
     "data": {
      "text/plain": [
       "Category\n",
       "date_understanding    250\n",
       "Name: count, dtype: int64"
      ]
     },
     "execution_count": 13,
     "metadata": {},
     "output_type": "execute_result"
    }
   ],
   "source": [
    "df['Category'].value_counts()"
   ]
  },
  {
   "cell_type": "code",
   "execution_count": null,
   "id": "4c4a9450-3a48-4bf3-858b-f2d2eb2d3dc8",
   "metadata": {},
   "outputs": [],
   "source": []
  }
 ],
 "metadata": {
  "kernelspec": {
   "display_name": "Python 3 (ipykernel)",
   "language": "python",
   "name": "python3"
  },
  "language_info": {
   "codemirror_mode": {
    "name": "ipython",
    "version": 3
   },
   "file_extension": ".py",
   "mimetype": "text/x-python",
   "name": "python",
   "nbconvert_exporter": "python",
   "pygments_lexer": "ipython3",
   "version": "3.11.4"
  }
 },
 "nbformat": 4,
 "nbformat_minor": 5
}
