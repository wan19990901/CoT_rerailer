{
 "cells": [
  {
   "cell_type": "code",
   "execution_count": 1,
   "id": "initial_id",
   "metadata": {
    "collapsed": true,
    "ExecuteTime": {
     "end_time": "2024-06-10T17:29:00.902277Z",
     "start_time": "2024-06-10T17:29:00.504003400Z"
    }
   },
   "outputs": [],
   "source": [
    "import pandas as pd"
   ]
  },
  {
   "cell_type": "code",
   "execution_count": 10,
   "outputs": [
    {
     "data": {
      "text/plain": "                     Category  \\\n0     professional_accounting   \n1     professional_accounting   \n2     professional_accounting   \n3     professional_accounting   \n4     professional_accounting   \n...                       ...   \n1995         abstract_algebra   \n1996         abstract_algebra   \n1997         abstract_algebra   \n1998         abstract_algebra   \n1999         abstract_algebra   \n\n                                               Question Correct_Answer  \\\n0     Adam Smith is considering automating his pin f...              C   \n1     Which of the following items is not subject to...              D   \n2     A compilation of financial statements in accor...              C   \n3     Johnson worked for ABC Co. and earned a salary...              C   \n4     Mentor Co. a U.S. corporation owned 100% of a ...              B   \n...                                                 ...            ...   \n1995  Let A and B be sets, f: A -> B and g: B -> A b...              D   \n1996  Statement 1 | If K is a nonzero subgroup of a ...              C   \n1997  Statement 1 | Every nonzero free abelian group...              D   \n1998  In the group G = {2, 4, 6, 8) under multiplica...              A   \n1999  The set of all nth roots of unity under multip...              D   \n\n                                          Output_Answer  Consistency  \\\n0                                        C) $480,000.00         True   \n1                                                     B        False   \n2                                                     C         True   \n3                                                     C        False   \n4                                                     B         True   \n...                                                 ...          ...   \n1995                                                  D         True   \n1996                                                  C         True   \n1997                                                  D         True   \n1998  There seems to be a misunderstanding in the st...         True   \n1999                                                  D         True   \n\n                                                    Cot  \\\n0                                                   NaN   \n1     Step 1: Understand what intraperiod tax alloca...   \n2                                                   NaN   \n3     step 1: Identify the total amount of group ter...   \n4                                                   NaN   \n...                                                 ...   \n1995                                                NaN   \n1996                                                NaN   \n1997                                                NaN   \n1998                                                NaN   \n1999                                                NaN   \n\n                                             Cot_Answer  \\\n0                                        C) $480,000.00   \n1                                                     D   \n2                                                     C   \n3                                                     C   \n4                                                     B   \n...                                                 ...   \n1995                                                  D   \n1996                                                  C   \n1997                                                  D   \n1998  None of the options provided is correct. The i...   \n1999                                                  D   \n\n                                             Smv_Answer  \\\n0                                        C) $480,000.00   \n1                                                     D   \n2                                                     C   \n3                                                     C   \n4                                                     B   \n...                                                 ...   \n1995                                                  D   \n1996                                                  C   \n1997                                                  D   \n1998  None of the options provided is correct. The i...   \n1999                                                  D   \n\n                                             Cot_random  \\\n0     Step 1: Calculate the initial investment. This...   \n1     Step 1: Understand what intraperiod tax alloca...   \n2     Step 1: Understand the question, which is abou...   \n3     Step 1: Identify the total amount of group ter...   \n4     Step 1: Understand the difference between reme...   \n...                                                 ...   \n1995  step 1: Understand the given information. We h...   \n1996  Step 1: Analyze Statement 1 - If K is a nonzer...   \n1997  Step 1: Understand what a free abelian group i...   \n1998  step 1: Understand the operation and the group...   \n1999  step 1: Define the nth roots of unity. These a...   \n\n                                      Cot_random_answer  \n0                                        C) $480,000.00  \n1                                                     D  \n2                                                     C  \n3                                           C) $100,414  \n4                                                     B  \n...                                                 ...  \n1995                                                  D  \n1996                                                  C  \n1997                                                  D  \n1998  There seems to be a misunderstanding in the st...  \n1999                                                  D  \n\n[2000 rows x 10 columns]",
      "text/html": "<div>\n<style scoped>\n    .dataframe tbody tr th:only-of-type {\n        vertical-align: middle;\n    }\n\n    .dataframe tbody tr th {\n        vertical-align: top;\n    }\n\n    .dataframe thead th {\n        text-align: right;\n    }\n</style>\n<table border=\"1\" class=\"dataframe\">\n  <thead>\n    <tr style=\"text-align: right;\">\n      <th></th>\n      <th>Category</th>\n      <th>Question</th>\n      <th>Correct_Answer</th>\n      <th>Output_Answer</th>\n      <th>Consistency</th>\n      <th>Cot</th>\n      <th>Cot_Answer</th>\n      <th>Smv_Answer</th>\n      <th>Cot_random</th>\n      <th>Cot_random_answer</th>\n    </tr>\n  </thead>\n  <tbody>\n    <tr>\n      <th>0</th>\n      <td>professional_accounting</td>\n      <td>Adam Smith is considering automating his pin f...</td>\n      <td>C</td>\n      <td>C) $480,000.00</td>\n      <td>True</td>\n      <td>NaN</td>\n      <td>C) $480,000.00</td>\n      <td>C) $480,000.00</td>\n      <td>Step 1: Calculate the initial investment. This...</td>\n      <td>C) $480,000.00</td>\n    </tr>\n    <tr>\n      <th>1</th>\n      <td>professional_accounting</td>\n      <td>Which of the following items is not subject to...</td>\n      <td>D</td>\n      <td>B</td>\n      <td>False</td>\n      <td>Step 1: Understand what intraperiod tax alloca...</td>\n      <td>D</td>\n      <td>D</td>\n      <td>Step 1: Understand what intraperiod tax alloca...</td>\n      <td>D</td>\n    </tr>\n    <tr>\n      <th>2</th>\n      <td>professional_accounting</td>\n      <td>A compilation of financial statements in accor...</td>\n      <td>C</td>\n      <td>C</td>\n      <td>True</td>\n      <td>NaN</td>\n      <td>C</td>\n      <td>C</td>\n      <td>Step 1: Understand the question, which is abou...</td>\n      <td>C</td>\n    </tr>\n    <tr>\n      <th>3</th>\n      <td>professional_accounting</td>\n      <td>Johnson worked for ABC Co. and earned a salary...</td>\n      <td>C</td>\n      <td>C</td>\n      <td>False</td>\n      <td>step 1: Identify the total amount of group ter...</td>\n      <td>C</td>\n      <td>C</td>\n      <td>Step 1: Identify the total amount of group ter...</td>\n      <td>C) $100,414</td>\n    </tr>\n    <tr>\n      <th>4</th>\n      <td>professional_accounting</td>\n      <td>Mentor Co. a U.S. corporation owned 100% of a ...</td>\n      <td>B</td>\n      <td>B</td>\n      <td>True</td>\n      <td>NaN</td>\n      <td>B</td>\n      <td>B</td>\n      <td>Step 1: Understand the difference between reme...</td>\n      <td>B</td>\n    </tr>\n    <tr>\n      <th>...</th>\n      <td>...</td>\n      <td>...</td>\n      <td>...</td>\n      <td>...</td>\n      <td>...</td>\n      <td>...</td>\n      <td>...</td>\n      <td>...</td>\n      <td>...</td>\n      <td>...</td>\n    </tr>\n    <tr>\n      <th>1995</th>\n      <td>abstract_algebra</td>\n      <td>Let A and B be sets, f: A -&gt; B and g: B -&gt; A b...</td>\n      <td>D</td>\n      <td>D</td>\n      <td>True</td>\n      <td>NaN</td>\n      <td>D</td>\n      <td>D</td>\n      <td>step 1: Understand the given information. We h...</td>\n      <td>D</td>\n    </tr>\n    <tr>\n      <th>1996</th>\n      <td>abstract_algebra</td>\n      <td>Statement 1 | If K is a nonzero subgroup of a ...</td>\n      <td>C</td>\n      <td>C</td>\n      <td>True</td>\n      <td>NaN</td>\n      <td>C</td>\n      <td>C</td>\n      <td>Step 1: Analyze Statement 1 - If K is a nonzer...</td>\n      <td>C</td>\n    </tr>\n    <tr>\n      <th>1997</th>\n      <td>abstract_algebra</td>\n      <td>Statement 1 | Every nonzero free abelian group...</td>\n      <td>D</td>\n      <td>D</td>\n      <td>True</td>\n      <td>NaN</td>\n      <td>D</td>\n      <td>D</td>\n      <td>Step 1: Understand what a free abelian group i...</td>\n      <td>D</td>\n    </tr>\n    <tr>\n      <th>1998</th>\n      <td>abstract_algebra</td>\n      <td>In the group G = {2, 4, 6, 8) under multiplica...</td>\n      <td>A</td>\n      <td>There seems to be a misunderstanding in the st...</td>\n      <td>True</td>\n      <td>NaN</td>\n      <td>None of the options provided is correct. The i...</td>\n      <td>None of the options provided is correct. The i...</td>\n      <td>step 1: Understand the operation and the group...</td>\n      <td>There seems to be a misunderstanding in the st...</td>\n    </tr>\n    <tr>\n      <th>1999</th>\n      <td>abstract_algebra</td>\n      <td>The set of all nth roots of unity under multip...</td>\n      <td>D</td>\n      <td>D</td>\n      <td>True</td>\n      <td>NaN</td>\n      <td>D</td>\n      <td>D</td>\n      <td>step 1: Define the nth roots of unity. These a...</td>\n      <td>D</td>\n    </tr>\n  </tbody>\n</table>\n<p>2000 rows × 10 columns</p>\n</div>"
     },
     "execution_count": 10,
     "metadata": {},
     "output_type": "execute_result"
    }
   ],
   "source": [
    "df = pd.read_csv('judge_ab.csv')\n",
    "df"
   ],
   "metadata": {
    "collapsed": false,
    "ExecuteTime": {
     "end_time": "2024-06-10T17:35:50.025044900Z",
     "start_time": "2024-06-10T17:35:49.973591100Z"
    }
   },
   "id": "e63c656dd8ca8e6d"
  },
  {
   "cell_type": "code",
   "execution_count": 13,
   "outputs": [],
   "source": [
    "correctness = 0\n",
    "sc_correctness = 0\n",
    "for row_index in range(len(df)):\n",
    "    row = df.iloc[row_index]\n",
    "    correct_ans = row['Correct_Answer']\n",
    "    output_answer = row['Cot_random_answer']\n",
    "    smv_ans = row['Smv_Answer']\n",
    "    if correct_ans == output_answer[0]:\n",
    "        correctness += 1\n",
    "    else:\n",
    "        correctness += 0\n",
    "    if correct_ans == smv_ans[0]:\n",
    "        sc_correctness += 1\n",
    "    else:\n",
    "        sc_correctness += 0"
   ],
   "metadata": {
    "collapsed": false,
    "ExecuteTime": {
     "end_time": "2024-06-10T17:38:49.355757700Z",
     "start_time": "2024-06-10T17:38:49.238117700Z"
    }
   },
   "id": "7effb06eb0c64dcc"
  },
  {
   "cell_type": "code",
   "execution_count": 14,
   "outputs": [
    {
     "data": {
      "text/plain": "(0.768, 0.785)"
     },
     "execution_count": 14,
     "metadata": {},
     "output_type": "execute_result"
    }
   ],
   "source": [
    "import numpy as np\n",
    "correctness/len(df),sc_correctness/len(df)"
   ],
   "metadata": {
    "collapsed": false,
    "ExecuteTime": {
     "end_time": "2024-06-10T17:38:49.865513600Z",
     "start_time": "2024-06-10T17:38:49.856998200Z"
    }
   },
   "id": "bb9773b22511e971"
  },
  {
   "cell_type": "code",
   "execution_count": null,
   "outputs": [],
   "source": [],
   "metadata": {
    "collapsed": false
   },
   "id": "9aa6c5352aa3cf01"
  }
 ],
 "metadata": {
  "kernelspec": {
   "name": "llm_hall_project",
   "language": "python",
   "display_name": "llm_hall"
  },
  "language_info": {
   "codemirror_mode": {
    "name": "ipython",
    "version": 2
   },
   "file_extension": ".py",
   "mimetype": "text/x-python",
   "name": "python",
   "nbconvert_exporter": "python",
   "pygments_lexer": "ipython2",
   "version": "2.7.6"
  }
 },
 "nbformat": 4,
 "nbformat_minor": 5
}
