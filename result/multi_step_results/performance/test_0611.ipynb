{
 "cells": [
  {
   "cell_type": "code",
   "execution_count": 1,
   "id": "initial_id",
   "metadata": {
    "collapsed": true,
    "ExecuteTime": {
     "end_time": "2024-06-10T18:37:38.213786500Z",
     "start_time": "2024-06-10T18:37:38.199034900Z"
    }
   },
   "outputs": [],
   "source": [
    "import pandas as pd\n",
    "import os"
   ]
  },
  {
   "cell_type": "code",
   "execution_count": 58,
   "outputs": [
    {
     "data": {
      "text/plain": "     CaseID                 Category  \\\n0         0  professional_accounting   \n1         1  professional_accounting   \n2         2  professional_accounting   \n3         3  professional_accounting   \n4         4  professional_accounting   \n..      ...                      ...   \n332     128       date_understanding   \n333     129       date_understanding   \n334     130       date_understanding   \n335     131       date_understanding   \n336     132       date_understanding   \n\n                                              Question Correct Answer  \\\n0    Which of the following items is not subject to...              d   \n1    Johnson worked for ABC Co. and earned a salary...              c   \n2    Pine Co. purchased land for $450000 as a facto...              c   \n3    The following information pertains to Dash Co....              c   \n4    Spark Co. buys cordless phones for $125 each a...              d   \n..                                                 ...            ...   \n332  Jane quited her job on Mar 20, 2020. 176 days ...              a   \n333  2015 is coming in 36 hours. What is the date 2...              c   \n334  On May 9th, 2017 Jane bought 40 eggs. She ate ...              c   \n335  Jane scheduled 3 apointments with 5 poeple for...              e   \n336  Tomorrow is 11/12/2019. What is the date tomor...              b   \n\n                                        Raw COT Answer  \\\n0                                                    b   \n1                                                    c   \n2                                                    a   \n3                                                    a   \n4                                                    d   \n..                                                 ...   \n332                                                  a   \n333                                                  d   \n334                                                  c   \n335  none of the options match the calculated date ...   \n336  none of the options match the correct answer, ...   \n\n                                  Corrected COT Answer  \\\n0                                                    d   \n1                                                    c   \n2                                                    a   \n3                                                    a   \n4                                                    d   \n..                                                 ...   \n332                                                  a   \n333                                                  d   \n334                                                  c   \n335  there is a mistake in the question or options ...   \n336                                                  b   \n\n                                             Hallu Seq  \\\n0                 ['NO', 'NO', 'NO', 'NO', 'NO', 'NO']   \n1           ['NO', 'NO', 'NO', 'NO', 'NO', 'NO', 'NO']   \n2                             ['NO', 'NO', 'NO', 'NO']   \n3                       ['NO', 'NO', 'NO', 'NO', 'NO']   \n4    ['NO', 'NO', 'NO', 'NO', 'NO', 'NO', 'NO', 'NO...   \n..                                                 ...   \n332         ['NO', 'NO', 'NO', 'NO', 'NO', 'NO', 'NO']   \n333               ['NO', 'NO', 'NO', 'NO', 'NO', 'NO']   \n334                                 ['NO', 'NO', 'NO']   \n335  ['NO', 'NO', 'NO', 'NO', 'NO', 'NO', 'NO', 'NO...   \n336        ['NO', 'NO', 'NO', 'NO', 'NO', 'NO', 'YES']   \n\n                                               raw_cot  \\\n0    Step 1: Understand what intraperiod tax alloca...   \n1    step 1: Identify the total amount of group ter...   \n2    Step 1: Understand that the cost to be capital...   \n3    step 1: Identify the period for which the liab...   \n4    Step 1: Calculate the profit per unit by subtr...   \n..                                                 ...   \n332  step 1: Calculate the date 176 days after Marc...   \n333  step 1: Understand that '2015 is coming in 36 ...   \n334  step 1: Calculate the total number of days Jan...   \n335  step 1: Understand the question. The question ...   \n336  step 1: Understand the given information - Tom...   \n\n                                         corrected_cot  Unnamed: 0  \n0    Step 1: Understand what intraperiod tax alloca...         NaN  \n1    Step 1: Identify the total amount of group ter...         NaN  \n2    Step 1: Understand that the cost to be capital...         NaN  \n3    Step 1: To determine the liability Dash Co. sh...         NaN  \n4    Step 1: Calculate the profit per unit by subtr...         NaN  \n..                                                 ...         ...  \n332  step 1: Calculate the date 176 days after Marc...         NaN  \n333  step 1: Understand that '2015 is coming in 36 ...         NaN  \n334  Step 1: Calculate the total number of days Jan...         NaN  \n335  Step 1: Understand the question. The question ...         NaN  \n336  Step 1: Understand the given information - Tom...         NaN  \n\n[337 rows x 10 columns]",
      "text/html": "<div>\n<style scoped>\n    .dataframe tbody tr th:only-of-type {\n        vertical-align: middle;\n    }\n\n    .dataframe tbody tr th {\n        vertical-align: top;\n    }\n\n    .dataframe thead th {\n        text-align: right;\n    }\n</style>\n<table border=\"1\" class=\"dataframe\">\n  <thead>\n    <tr style=\"text-align: right;\">\n      <th></th>\n      <th>CaseID</th>\n      <th>Category</th>\n      <th>Question</th>\n      <th>Correct Answer</th>\n      <th>Raw COT Answer</th>\n      <th>Corrected COT Answer</th>\n      <th>Hallu Seq</th>\n      <th>raw_cot</th>\n      <th>corrected_cot</th>\n      <th>Unnamed: 0</th>\n    </tr>\n  </thead>\n  <tbody>\n    <tr>\n      <th>0</th>\n      <td>0</td>\n      <td>professional_accounting</td>\n      <td>Which of the following items is not subject to...</td>\n      <td>d</td>\n      <td>b</td>\n      <td>d</td>\n      <td>['NO', 'NO', 'NO', 'NO', 'NO', 'NO']</td>\n      <td>Step 1: Understand what intraperiod tax alloca...</td>\n      <td>Step 1: Understand what intraperiod tax alloca...</td>\n      <td>NaN</td>\n    </tr>\n    <tr>\n      <th>1</th>\n      <td>1</td>\n      <td>professional_accounting</td>\n      <td>Johnson worked for ABC Co. and earned a salary...</td>\n      <td>c</td>\n      <td>c</td>\n      <td>c</td>\n      <td>['NO', 'NO', 'NO', 'NO', 'NO', 'NO', 'NO']</td>\n      <td>step 1: Identify the total amount of group ter...</td>\n      <td>Step 1: Identify the total amount of group ter...</td>\n      <td>NaN</td>\n    </tr>\n    <tr>\n      <th>2</th>\n      <td>2</td>\n      <td>professional_accounting</td>\n      <td>Pine Co. purchased land for $450000 as a facto...</td>\n      <td>c</td>\n      <td>a</td>\n      <td>a</td>\n      <td>['NO', 'NO', 'NO', 'NO']</td>\n      <td>Step 1: Understand that the cost to be capital...</td>\n      <td>Step 1: Understand that the cost to be capital...</td>\n      <td>NaN</td>\n    </tr>\n    <tr>\n      <th>3</th>\n      <td>3</td>\n      <td>professional_accounting</td>\n      <td>The following information pertains to Dash Co....</td>\n      <td>c</td>\n      <td>a</td>\n      <td>a</td>\n      <td>['NO', 'NO', 'NO', 'NO', 'NO']</td>\n      <td>step 1: Identify the period for which the liab...</td>\n      <td>Step 1: To determine the liability Dash Co. sh...</td>\n      <td>NaN</td>\n    </tr>\n    <tr>\n      <th>4</th>\n      <td>4</td>\n      <td>professional_accounting</td>\n      <td>Spark Co. buys cordless phones for $125 each a...</td>\n      <td>d</td>\n      <td>d</td>\n      <td>d</td>\n      <td>['NO', 'NO', 'NO', 'NO', 'NO', 'NO', 'NO', 'NO...</td>\n      <td>Step 1: Calculate the profit per unit by subtr...</td>\n      <td>Step 1: Calculate the profit per unit by subtr...</td>\n      <td>NaN</td>\n    </tr>\n    <tr>\n      <th>...</th>\n      <td>...</td>\n      <td>...</td>\n      <td>...</td>\n      <td>...</td>\n      <td>...</td>\n      <td>...</td>\n      <td>...</td>\n      <td>...</td>\n      <td>...</td>\n      <td>...</td>\n    </tr>\n    <tr>\n      <th>332</th>\n      <td>128</td>\n      <td>date_understanding</td>\n      <td>Jane quited her job on Mar 20, 2020. 176 days ...</td>\n      <td>a</td>\n      <td>a</td>\n      <td>a</td>\n      <td>['NO', 'NO', 'NO', 'NO', 'NO', 'NO', 'NO']</td>\n      <td>step 1: Calculate the date 176 days after Marc...</td>\n      <td>step 1: Calculate the date 176 days after Marc...</td>\n      <td>NaN</td>\n    </tr>\n    <tr>\n      <th>333</th>\n      <td>129</td>\n      <td>date_understanding</td>\n      <td>2015 is coming in 36 hours. What is the date 2...</td>\n      <td>c</td>\n      <td>d</td>\n      <td>d</td>\n      <td>['NO', 'NO', 'NO', 'NO', 'NO', 'NO']</td>\n      <td>step 1: Understand that '2015 is coming in 36 ...</td>\n      <td>step 1: Understand that '2015 is coming in 36 ...</td>\n      <td>NaN</td>\n    </tr>\n    <tr>\n      <th>334</th>\n      <td>130</td>\n      <td>date_understanding</td>\n      <td>On May 9th, 2017 Jane bought 40 eggs. She ate ...</td>\n      <td>c</td>\n      <td>c</td>\n      <td>c</td>\n      <td>['NO', 'NO', 'NO']</td>\n      <td>step 1: Calculate the total number of days Jan...</td>\n      <td>Step 1: Calculate the total number of days Jan...</td>\n      <td>NaN</td>\n    </tr>\n    <tr>\n      <th>335</th>\n      <td>131</td>\n      <td>date_understanding</td>\n      <td>Jane scheduled 3 apointments with 5 poeple for...</td>\n      <td>e</td>\n      <td>none of the options match the calculated date ...</td>\n      <td>there is a mistake in the question or options ...</td>\n      <td>['NO', 'NO', 'NO', 'NO', 'NO', 'NO', 'NO', 'NO...</td>\n      <td>step 1: Understand the question. The question ...</td>\n      <td>Step 1: Understand the question. The question ...</td>\n      <td>NaN</td>\n    </tr>\n    <tr>\n      <th>336</th>\n      <td>132</td>\n      <td>date_understanding</td>\n      <td>Tomorrow is 11/12/2019. What is the date tomor...</td>\n      <td>b</td>\n      <td>none of the options match the correct answer, ...</td>\n      <td>b</td>\n      <td>['NO', 'NO', 'NO', 'NO', 'NO', 'NO', 'YES']</td>\n      <td>step 1: Understand the given information - Tom...</td>\n      <td>Step 1: Understand the given information - Tom...</td>\n      <td>NaN</td>\n    </tr>\n  </tbody>\n</table>\n<p>337 rows × 10 columns</p>\n</div>"
     },
     "execution_count": 58,
     "metadata": {},
     "output_type": "execute_result"
    }
   ],
   "source": [
    "# df_li = []\n",
    "# for file in os.listdir():\n",
    "#     if file.startswith('result_'):\n",
    "#         df_li.append(pd.read_csv(file))\n",
    "# df_all_results = pd.concat(df_li,ignore_index=True)\n",
    "# df_all_results = df_all_results.drop_duplicates()\n",
    "df_all_results = pd.read_csv('../../../data/final_test_data/df_final.csv')\n",
    "df_all_results"
   ],
   "metadata": {
    "collapsed": false,
    "ExecuteTime": {
     "end_time": "2024-06-10T19:27:39.748994800Z",
     "start_time": "2024-06-10T19:27:39.708005400Z"
    }
   },
   "id": "1b91181581bfea67"
  },
  {
   "cell_type": "code",
   "execution_count": 56,
   "outputs": [
    {
     "data": {
      "text/plain": "Category\ncollege_mathematics         38\ncollege_chemistry           29\nprofessional_accounting     26\nformal_logic                26\nMath                        21\nChallenging Math            20\nelectrical_engineering      20\ncollege_physics             18\nabstract_algebra            17\nprofessional_law            17\nhigh_school_statistics      15\nphilosophy                  15\ncollege_computer_science    15\ncollege_medicine            13\nbusiness_ethics             12\ndate_understanding          11\ninternational_law            9\ncollege_biology              7\njurisprudence                6\nelementary_mathematics       2\nName: count, dtype: int64"
     },
     "execution_count": 56,
     "metadata": {},
     "output_type": "execute_result"
    }
   ],
   "source": [
    "df_all_results['Category'].value_counts()"
   ],
   "metadata": {
    "collapsed": false,
    "ExecuteTime": {
     "end_time": "2024-06-10T19:27:26.823533400Z",
     "start_time": "2024-06-10T19:27:26.813200900Z"
    }
   },
   "id": "d89e28b642d3da0"
  },
  {
   "cell_type": "code",
   "execution_count": 59,
   "outputs": [
    {
     "data": {
      "text/plain": "                     Category  \\\n1     professional_accounting   \n3     professional_accounting   \n8     professional_accounting   \n9     professional_accounting   \n18    professional_accounting   \n...                       ...   \n1971         abstract_algebra   \n1972         abstract_algebra   \n1975         abstract_algebra   \n1986         abstract_algebra   \n1992         abstract_algebra   \n\n                                               Question Correct_Answer  \\\n1     Which of the following items is not subject to...              D   \n3     Johnson worked for ABC Co. and earned a salary...              C   \n8     Pine Co. purchased land for $450000 as a facto...              C   \n9     The following information pertains to Dash Co....              C   \n18    Spark Co. buys cordless phones for $125 each a...              D   \n...                                                 ...            ...   \n1971  Statement 1 | A factor group of a non-Abelian ...              B   \n1972  Let p = (1, 2, 5, 4)(2, 3) in S_5 . Find the i...              C   \n1975  Statement 1 | A factor group of a non-Abelian ...              B   \n1986  The polynomial x^3 + 2x^2 + 2x + 1 can be fact...              C   \n1992  Statement 1 | If H and K are subgroups of a gr...              A   \n\n     Output_Answer  Consistency  \\\n1                B        False   \n3                C        False   \n8                A        False   \n9        A) $6,000        False   \n18               D        False   \n...            ...          ...   \n1971             D        False   \n1972             C        False   \n1975             D        False   \n1986             C        False   \n1992             D        False   \n\n                                                    Cot  \\\n1     Step 1: Understand what intraperiod tax alloca...   \n3     step 1: Identify the total amount of group ter...   \n8     Step 1: Understand that the cost to be capital...   \n9     step 1: Identify the period for which the liab...   \n18    Step 1: Calculate the profit per unit by subtr...   \n...                                                 ...   \n1971  step 1: Analyze Statement 1 - A factor group o...   \n1972  step 1: Understand the problem. We are given a...   \n1975  step 1: Analyze Statement 1 - A factor group (...   \n1986  step 1: Understand that Z_7[x] refers to the r...   \n1992  Step 1: Analyze Statement 1 - We need to verif...   \n\n                                             Cot_Answer  \\\n1                                                     D   \n3                                                     C   \n8                                                     A   \n9                                             A) $6,000   \n18    The calculation process was flawed, leading to...   \n...                                                 ...   \n1971                                                  B   \n1972                                              C) 24   \n1975                                                  D   \n1986                                                  B   \n1992                                                  D   \n\n                                             Smv_Answer  \\\n1                                                     D   \n3                                                     C   \n8                                                     A   \n9                                             A) $6,000   \n18    The calculation process was flawed, leading to...   \n...                                                 ...   \n1971                                                  D   \n1972                                              C) 24   \n1975                                                  B   \n1986  There was a mistake in the calculation process...   \n1992                                                  D   \n\n                                             Cot_random  \\\n1     Step 1: Understand what intraperiod tax alloca...   \n3     Step 1: Identify the total amount of group ter...   \n8     step 1: Understand that the cost of the comple...   \n9     step 1: Identify the period for which the liab...   \n18    step 1: Calculate the desired profit margin, w...   \n...                                                 ...   \n1971  step 1: Analyze Statement 1 - A factor group o...   \n1972  step 1: Understand the problem. We are given a...   \n1975  step 1: Analyze Statement 1 - A factor group (...   \n1986  step 1: Understand that Z_7[x] refers to the r...   \n1992  Step 1: Analyze Statement 1 - We need to verif...   \n\n                                      Cot_random_answer  \n1                                                     D  \n3                                           C) $100,414  \n8                                                     A  \n9                                             A) $6,000  \n18    The calculation process was flawed, leading to...  \n...                                                 ...  \n1971                                                  D  \n1972                                                  C  \n1975                                                  D  \n1986                                                  C  \n1992                                                  D  \n\n[338 rows x 10 columns]",
      "text/html": "<div>\n<style scoped>\n    .dataframe tbody tr th:only-of-type {\n        vertical-align: middle;\n    }\n\n    .dataframe tbody tr th {\n        vertical-align: top;\n    }\n\n    .dataframe thead th {\n        text-align: right;\n    }\n</style>\n<table border=\"1\" class=\"dataframe\">\n  <thead>\n    <tr style=\"text-align: right;\">\n      <th></th>\n      <th>Category</th>\n      <th>Question</th>\n      <th>Correct_Answer</th>\n      <th>Output_Answer</th>\n      <th>Consistency</th>\n      <th>Cot</th>\n      <th>Cot_Answer</th>\n      <th>Smv_Answer</th>\n      <th>Cot_random</th>\n      <th>Cot_random_answer</th>\n    </tr>\n  </thead>\n  <tbody>\n    <tr>\n      <th>1</th>\n      <td>professional_accounting</td>\n      <td>Which of the following items is not subject to...</td>\n      <td>D</td>\n      <td>B</td>\n      <td>False</td>\n      <td>Step 1: Understand what intraperiod tax alloca...</td>\n      <td>D</td>\n      <td>D</td>\n      <td>Step 1: Understand what intraperiod tax alloca...</td>\n      <td>D</td>\n    </tr>\n    <tr>\n      <th>3</th>\n      <td>professional_accounting</td>\n      <td>Johnson worked for ABC Co. and earned a salary...</td>\n      <td>C</td>\n      <td>C</td>\n      <td>False</td>\n      <td>step 1: Identify the total amount of group ter...</td>\n      <td>C</td>\n      <td>C</td>\n      <td>Step 1: Identify the total amount of group ter...</td>\n      <td>C) $100,414</td>\n    </tr>\n    <tr>\n      <th>8</th>\n      <td>professional_accounting</td>\n      <td>Pine Co. purchased land for $450000 as a facto...</td>\n      <td>C</td>\n      <td>A</td>\n      <td>False</td>\n      <td>Step 1: Understand that the cost to be capital...</td>\n      <td>A</td>\n      <td>A</td>\n      <td>step 1: Understand that the cost of the comple...</td>\n      <td>A</td>\n    </tr>\n    <tr>\n      <th>9</th>\n      <td>professional_accounting</td>\n      <td>The following information pertains to Dash Co....</td>\n      <td>C</td>\n      <td>A) $6,000</td>\n      <td>False</td>\n      <td>step 1: Identify the period for which the liab...</td>\n      <td>A) $6,000</td>\n      <td>A) $6,000</td>\n      <td>step 1: Identify the period for which the liab...</td>\n      <td>A) $6,000</td>\n    </tr>\n    <tr>\n      <th>18</th>\n      <td>professional_accounting</td>\n      <td>Spark Co. buys cordless phones for $125 each a...</td>\n      <td>D</td>\n      <td>D</td>\n      <td>False</td>\n      <td>Step 1: Calculate the profit per unit by subtr...</td>\n      <td>The calculation process was flawed, leading to...</td>\n      <td>The calculation process was flawed, leading to...</td>\n      <td>step 1: Calculate the desired profit margin, w...</td>\n      <td>The calculation process was flawed, leading to...</td>\n    </tr>\n    <tr>\n      <th>...</th>\n      <td>...</td>\n      <td>...</td>\n      <td>...</td>\n      <td>...</td>\n      <td>...</td>\n      <td>...</td>\n      <td>...</td>\n      <td>...</td>\n      <td>...</td>\n      <td>...</td>\n    </tr>\n    <tr>\n      <th>1971</th>\n      <td>abstract_algebra</td>\n      <td>Statement 1 | A factor group of a non-Abelian ...</td>\n      <td>B</td>\n      <td>D</td>\n      <td>False</td>\n      <td>step 1: Analyze Statement 1 - A factor group o...</td>\n      <td>B</td>\n      <td>D</td>\n      <td>step 1: Analyze Statement 1 - A factor group o...</td>\n      <td>D</td>\n    </tr>\n    <tr>\n      <th>1972</th>\n      <td>abstract_algebra</td>\n      <td>Let p = (1, 2, 5, 4)(2, 3) in S_5 . Find the i...</td>\n      <td>C</td>\n      <td>C</td>\n      <td>False</td>\n      <td>step 1: Understand the problem. We are given a...</td>\n      <td>C) 24</td>\n      <td>C) 24</td>\n      <td>step 1: Understand the problem. We are given a...</td>\n      <td>C</td>\n    </tr>\n    <tr>\n      <th>1975</th>\n      <td>abstract_algebra</td>\n      <td>Statement 1 | A factor group of a non-Abelian ...</td>\n      <td>B</td>\n      <td>D</td>\n      <td>False</td>\n      <td>step 1: Analyze Statement 1 - A factor group (...</td>\n      <td>D</td>\n      <td>B</td>\n      <td>step 1: Analyze Statement 1 - A factor group (...</td>\n      <td>D</td>\n    </tr>\n    <tr>\n      <th>1986</th>\n      <td>abstract_algebra</td>\n      <td>The polynomial x^3 + 2x^2 + 2x + 1 can be fact...</td>\n      <td>C</td>\n      <td>C</td>\n      <td>False</td>\n      <td>step 1: Understand that Z_7[x] refers to the r...</td>\n      <td>B</td>\n      <td>There was a mistake in the calculation process...</td>\n      <td>step 1: Understand that Z_7[x] refers to the r...</td>\n      <td>C</td>\n    </tr>\n    <tr>\n      <th>1992</th>\n      <td>abstract_algebra</td>\n      <td>Statement 1 | If H and K are subgroups of a gr...</td>\n      <td>A</td>\n      <td>D</td>\n      <td>False</td>\n      <td>Step 1: Analyze Statement 1 - We need to verif...</td>\n      <td>D</td>\n      <td>D</td>\n      <td>Step 1: Analyze Statement 1 - We need to verif...</td>\n      <td>D</td>\n    </tr>\n  </tbody>\n</table>\n<p>338 rows × 10 columns</p>\n</div>"
     },
     "execution_count": 59,
     "metadata": {},
     "output_type": "execute_result"
    }
   ],
   "source": [
    "df_original= pd.read_csv('../../../data/final_test_data/judge_ab.csv')\n",
    "df_original_neg = df_original[~df_original['Consistency']]\n",
    "df_original_pos = df_original[df_original['Consistency']]\n",
    "df_original_neg"
   ],
   "metadata": {
    "collapsed": false,
    "ExecuteTime": {
     "end_time": "2024-06-10T19:27:43.286480100Z",
     "start_time": "2024-06-10T19:27:43.217674600Z"
    }
   },
   "id": "f0ba057d704af4b9"
  },
  {
   "cell_type": "code",
   "execution_count": 74,
   "outputs": [
    {
     "data": {
      "text/plain": "                    Category  \\\n0    professional_accounting   \n4    professional_accounting   \n8    professional_accounting   \n9    professional_accounting   \n13   professional_accounting   \n..                       ...   \n375         abstract_algebra   \n384         abstract_algebra   \n385         abstract_algebra   \n386         abstract_algebra   \n387         abstract_algebra   \n\n                                              Question Correct_Answer  \\\n0    Which of the following items is not subject to...              D   \n4    Pine Co. purchased land for $450000 as a facto...              C   \n8    Spark Co. buys cordless phones for $125 each a...              D   \n9    The standard deviations of Stocks A and B are ...              A   \n13   A shoe retailer allows customers to return sho...              B   \n..                                                 ...            ...   \n375  Statement 1 | A factor group of a non-Abelian ...              B   \n384  In the group G = {2, 4, 6, 8) under multiplica...              A   \n385  (Z,*) is a group with a*b = a+b+1 for all a, b...              D   \n386  Let p = (1, 2, 5, 4)(2, 3) in S_5 . Find the i...              C   \n387  The polynomial x^3 + 2x^2 + 2x + 1 can be fact...              C   \n\n                                         Output_Answer  Consistency  \\\n0                                                    B        False   \n4                                                    A        False   \n8                                                    D        False   \n9    None of the options match the calculated value...        False   \n13                                                   B        False   \n..                                                 ...          ...   \n375                                                  D        False   \n384                                                  A        False   \n385                                                  D        False   \n386                                                  C        False   \n387                                                  C        False   \n\n                                                   Cot  \\\n0    Step 1: Understand what intraperiod tax alloca...   \n4    Step 1: Understand that the cost to be capital...   \n8    Step 1: Calculate the profit per unit by subtr...   \n9    Step 1: Understand that the standard deviation...   \n13   Step 1: Understand the problem. The company ne...   \n..                                                 ...   \n375  Step 1: Analyze Statement 1 - A factor group o...   \n384  step 1: Understand the group operation. Here, ...   \n385  step 1: Recall the definition of an inverse in...   \n386  step 1: Understand the problem. We are given a...   \n387  step 1: Understand that Z_7[x] refers to the r...   \n\n                                            Cot_Answer  \\\n0                                                    D   \n4                                                    A   \n8    The calculation process was flawed, leading to...   \n9    None of the options match the calculated value...   \n13                                         C) $195,000   \n..                                                 ...   \n375                                                  D   \n384  There seems to be a misunderstanding or mistak...   \n385                                                  C   \n386                                              C) 24   \n387                                                  B   \n\n                                            Smv_Answer  \\\n0                                                    D   \n4                                                    A   \n8    The calculation process was flawed, leading to...   \n9    None of the options match the calculated value...   \n13                                         C) $195,000   \n..                                                 ...   \n375                                                  B   \n384  There seems to be a misunderstanding or mistak...   \n385                                                  D   \n386                                              C) 24   \n387  There was a mistake in the calculation process...   \n\n                                            Cot_random  \\\n0    Step 1: Understand what intraperiod tax alloca...   \n4    step 1: Understand that the cost of the comple...   \n8    step 1: Calculate the desired profit margin, w...   \n9    Step 1: Understand that the standard deviation...   \n13   Step 1: Understand the problem. The company ne...   \n..                                                 ...   \n375  Step 1: Analyze Statement 1 - A factor group o...   \n384  step 1: Understand the group operation. The gr...   \n385  step 1: Recall the definition of an inverse in...   \n386  step 1: Understand the problem. We are given a...   \n387  step 1: Understand that Z_7[x] refers to the r...   \n\n                                     Cot_random_answer  CaseID Correct Answer  \\\n0                                                    D       0              d   \n4                                                    A       2              c   \n8    The calculation process was flawed, leading to...       4              d   \n9    None of the options match the calculated value...       5              a   \n13                                         C) $195,000       7              b   \n..                                                 ...     ...            ...   \n375                                                  B      43              b   \n384  None of the provided options is correct. The i...      44              a   \n385                                                  D      45              d   \n386                                                  C      47              c   \n387                                                  C      49              c   \n\n                                        Raw COT Answer Corrected COT Answer  \\\n0                                                    b                    d   \n4                                                    a                    a   \n8                                                    d                    d   \n9    none of the options match the calculated value...                    a   \n13                                                   b                    b   \n..                                                 ...                  ...   \n375                                                  d                    b   \n384                                                  a                    a   \n385                                                  d                    c   \n386                                                  c                    c   \n387                                                  c                    c   \n\n                                             Hallu Seq  \\\n0                 ['NO', 'NO', 'NO', 'NO', 'NO', 'NO']   \n4                             ['NO', 'NO', 'NO', 'NO']   \n8    ['NO', 'NO', 'NO', 'NO', 'NO', 'NO', 'NO', 'NO...   \n9    ['NO', 'NO', 'NO', 'NO', 'NO', 'NO', 'NO', 'NO...   \n13          ['NO', 'NO', 'NO', 'NO', 'NO', 'NO', 'NO']   \n..                                                 ...   \n375                                 ['NO', 'NO', 'NO']   \n384                                ['NO', 'NO', 'YES']   \n385                                      ['NO', 'YES']   \n386  ['NO', 'NO', 'NO', 'NO', 'NO', 'NO', 'NO', 'NO...   \n387  ['NO', 'NO', 'NO', 'NO', 'NO', 'NO', 'NO', 'NO...   \n\n                                               raw_cot  \\\n0    Step 1: Understand what intraperiod tax alloca...   \n4    Step 1: Understand that the cost to be capital...   \n8    Step 1: Calculate the profit per unit by subtr...   \n9    Step 1: Understand that the standard deviation...   \n13   Step 1: Understand the problem. The company ne...   \n..                                                 ...   \n375  Step 1: Analyze Statement 1 - A factor group o...   \n384  step 1: Understand the group operation. Here, ...   \n385  step 1: Recall the definition of an inverse in...   \n386  step 1: Understand the problem. We are given a...   \n387  step 1: Understand that Z_7[x] refers to the r...   \n\n                                         corrected_cot  Unnamed: 0  \n0    Step 1: Understand what intraperiod tax alloca...         NaN  \n4    Step 1: Understand that the cost to be capital...         NaN  \n8    Step 1: Calculate the profit per unit by subtr...         NaN  \n9    Step 1: Understand that the standard deviation...         NaN  \n13   Step 1: Understand the problem. The company ne...         NaN  \n..                                                 ...         ...  \n375  Step 1: Analyze Statement 1 - A factor group o...        43.0  \n384  Step 1: Understand the group operation. Here, ...        44.0  \n385  Step 1: Recall the definition of an inverse in...        45.0  \n386  Step 1: Understand the problem. We are given a...        47.0  \n387  Step 1: Understand that Z_7[x] refers to the r...        49.0  \n\n[226 rows x 18 columns]",
      "text/html": "<div>\n<style scoped>\n    .dataframe tbody tr th:only-of-type {\n        vertical-align: middle;\n    }\n\n    .dataframe tbody tr th {\n        vertical-align: top;\n    }\n\n    .dataframe thead th {\n        text-align: right;\n    }\n</style>\n<table border=\"1\" class=\"dataframe\">\n  <thead>\n    <tr style=\"text-align: right;\">\n      <th></th>\n      <th>Category</th>\n      <th>Question</th>\n      <th>Correct_Answer</th>\n      <th>Output_Answer</th>\n      <th>Consistency</th>\n      <th>Cot</th>\n      <th>Cot_Answer</th>\n      <th>Smv_Answer</th>\n      <th>Cot_random</th>\n      <th>Cot_random_answer</th>\n      <th>CaseID</th>\n      <th>Correct Answer</th>\n      <th>Raw COT Answer</th>\n      <th>Corrected COT Answer</th>\n      <th>Hallu Seq</th>\n      <th>raw_cot</th>\n      <th>corrected_cot</th>\n      <th>Unnamed: 0</th>\n    </tr>\n  </thead>\n  <tbody>\n    <tr>\n      <th>0</th>\n      <td>professional_accounting</td>\n      <td>Which of the following items is not subject to...</td>\n      <td>D</td>\n      <td>B</td>\n      <td>False</td>\n      <td>Step 1: Understand what intraperiod tax alloca...</td>\n      <td>D</td>\n      <td>D</td>\n      <td>Step 1: Understand what intraperiod tax alloca...</td>\n      <td>D</td>\n      <td>0</td>\n      <td>d</td>\n      <td>b</td>\n      <td>d</td>\n      <td>['NO', 'NO', 'NO', 'NO', 'NO', 'NO']</td>\n      <td>Step 1: Understand what intraperiod tax alloca...</td>\n      <td>Step 1: Understand what intraperiod tax alloca...</td>\n      <td>NaN</td>\n    </tr>\n    <tr>\n      <th>4</th>\n      <td>professional_accounting</td>\n      <td>Pine Co. purchased land for $450000 as a facto...</td>\n      <td>C</td>\n      <td>A</td>\n      <td>False</td>\n      <td>Step 1: Understand that the cost to be capital...</td>\n      <td>A</td>\n      <td>A</td>\n      <td>step 1: Understand that the cost of the comple...</td>\n      <td>A</td>\n      <td>2</td>\n      <td>c</td>\n      <td>a</td>\n      <td>a</td>\n      <td>['NO', 'NO', 'NO', 'NO']</td>\n      <td>Step 1: Understand that the cost to be capital...</td>\n      <td>Step 1: Understand that the cost to be capital...</td>\n      <td>NaN</td>\n    </tr>\n    <tr>\n      <th>8</th>\n      <td>professional_accounting</td>\n      <td>Spark Co. buys cordless phones for $125 each a...</td>\n      <td>D</td>\n      <td>D</td>\n      <td>False</td>\n      <td>Step 1: Calculate the profit per unit by subtr...</td>\n      <td>The calculation process was flawed, leading to...</td>\n      <td>The calculation process was flawed, leading to...</td>\n      <td>step 1: Calculate the desired profit margin, w...</td>\n      <td>The calculation process was flawed, leading to...</td>\n      <td>4</td>\n      <td>d</td>\n      <td>d</td>\n      <td>d</td>\n      <td>['NO', 'NO', 'NO', 'NO', 'NO', 'NO', 'NO', 'NO...</td>\n      <td>Step 1: Calculate the profit per unit by subtr...</td>\n      <td>Step 1: Calculate the profit per unit by subtr...</td>\n      <td>NaN</td>\n    </tr>\n    <tr>\n      <th>9</th>\n      <td>professional_accounting</td>\n      <td>The standard deviations of Stocks A and B are ...</td>\n      <td>A</td>\n      <td>None of the options match the calculated value...</td>\n      <td>False</td>\n      <td>Step 1: Understand that the standard deviation...</td>\n      <td>None of the options match the calculated value...</td>\n      <td>None of the options match the calculated value...</td>\n      <td>Step 1: Understand that the standard deviation...</td>\n      <td>None of the options match the calculated value...</td>\n      <td>5</td>\n      <td>a</td>\n      <td>none of the options match the calculated value...</td>\n      <td>a</td>\n      <td>['NO', 'NO', 'NO', 'NO', 'NO', 'NO', 'NO', 'NO...</td>\n      <td>Step 1: Understand that the standard deviation...</td>\n      <td>Step 1: Understand that the standard deviation...</td>\n      <td>NaN</td>\n    </tr>\n    <tr>\n      <th>13</th>\n      <td>professional_accounting</td>\n      <td>A shoe retailer allows customers to return sho...</td>\n      <td>B</td>\n      <td>B</td>\n      <td>False</td>\n      <td>Step 1: Understand the problem. The company ne...</td>\n      <td>C) $195,000</td>\n      <td>C) $195,000</td>\n      <td>Step 1: Understand the problem. The company ne...</td>\n      <td>C) $195,000</td>\n      <td>7</td>\n      <td>b</td>\n      <td>b</td>\n      <td>b</td>\n      <td>['NO', 'NO', 'NO', 'NO', 'NO', 'NO', 'NO']</td>\n      <td>Step 1: Understand the problem. The company ne...</td>\n      <td>Step 1: Understand the problem. The company ne...</td>\n      <td>NaN</td>\n    </tr>\n    <tr>\n      <th>...</th>\n      <td>...</td>\n      <td>...</td>\n      <td>...</td>\n      <td>...</td>\n      <td>...</td>\n      <td>...</td>\n      <td>...</td>\n      <td>...</td>\n      <td>...</td>\n      <td>...</td>\n      <td>...</td>\n      <td>...</td>\n      <td>...</td>\n      <td>...</td>\n      <td>...</td>\n      <td>...</td>\n      <td>...</td>\n      <td>...</td>\n    </tr>\n    <tr>\n      <th>375</th>\n      <td>abstract_algebra</td>\n      <td>Statement 1 | A factor group of a non-Abelian ...</td>\n      <td>B</td>\n      <td>D</td>\n      <td>False</td>\n      <td>Step 1: Analyze Statement 1 - A factor group o...</td>\n      <td>D</td>\n      <td>B</td>\n      <td>Step 1: Analyze Statement 1 - A factor group o...</td>\n      <td>B</td>\n      <td>43</td>\n      <td>b</td>\n      <td>d</td>\n      <td>b</td>\n      <td>['NO', 'NO', 'NO']</td>\n      <td>Step 1: Analyze Statement 1 - A factor group o...</td>\n      <td>Step 1: Analyze Statement 1 - A factor group o...</td>\n      <td>43.0</td>\n    </tr>\n    <tr>\n      <th>384</th>\n      <td>abstract_algebra</td>\n      <td>In the group G = {2, 4, 6, 8) under multiplica...</td>\n      <td>A</td>\n      <td>A</td>\n      <td>False</td>\n      <td>step 1: Understand the group operation. Here, ...</td>\n      <td>There seems to be a misunderstanding or mistak...</td>\n      <td>There seems to be a misunderstanding or mistak...</td>\n      <td>step 1: Understand the group operation. The gr...</td>\n      <td>None of the provided options is correct. The i...</td>\n      <td>44</td>\n      <td>a</td>\n      <td>a</td>\n      <td>a</td>\n      <td>['NO', 'NO', 'YES']</td>\n      <td>step 1: Understand the group operation. Here, ...</td>\n      <td>Step 1: Understand the group operation. Here, ...</td>\n      <td>44.0</td>\n    </tr>\n    <tr>\n      <th>385</th>\n      <td>abstract_algebra</td>\n      <td>(Z,*) is a group with a*b = a+b+1 for all a, b...</td>\n      <td>D</td>\n      <td>D</td>\n      <td>False</td>\n      <td>step 1: Recall the definition of an inverse in...</td>\n      <td>C</td>\n      <td>D</td>\n      <td>step 1: Recall the definition of an inverse in...</td>\n      <td>D</td>\n      <td>45</td>\n      <td>d</td>\n      <td>d</td>\n      <td>c</td>\n      <td>['NO', 'YES']</td>\n      <td>step 1: Recall the definition of an inverse in...</td>\n      <td>Step 1: Recall the definition of an inverse in...</td>\n      <td>45.0</td>\n    </tr>\n    <tr>\n      <th>386</th>\n      <td>abstract_algebra</td>\n      <td>Let p = (1, 2, 5, 4)(2, 3) in S_5 . Find the i...</td>\n      <td>C</td>\n      <td>C</td>\n      <td>False</td>\n      <td>step 1: Understand the problem. We are given a...</td>\n      <td>C) 24</td>\n      <td>C) 24</td>\n      <td>step 1: Understand the problem. We are given a...</td>\n      <td>C</td>\n      <td>47</td>\n      <td>c</td>\n      <td>c</td>\n      <td>c</td>\n      <td>['NO', 'NO', 'NO', 'NO', 'NO', 'NO', 'NO', 'NO...</td>\n      <td>step 1: Understand the problem. We are given a...</td>\n      <td>Step 1: Understand the problem. We are given a...</td>\n      <td>47.0</td>\n    </tr>\n    <tr>\n      <th>387</th>\n      <td>abstract_algebra</td>\n      <td>The polynomial x^3 + 2x^2 + 2x + 1 can be fact...</td>\n      <td>C</td>\n      <td>C</td>\n      <td>False</td>\n      <td>step 1: Understand that Z_7[x] refers to the r...</td>\n      <td>B</td>\n      <td>There was a mistake in the calculation process...</td>\n      <td>step 1: Understand that Z_7[x] refers to the r...</td>\n      <td>C</td>\n      <td>49</td>\n      <td>c</td>\n      <td>c</td>\n      <td>c</td>\n      <td>['NO', 'NO', 'NO', 'NO', 'NO', 'NO', 'NO', 'NO...</td>\n      <td>step 1: Understand that Z_7[x] refers to the r...</td>\n      <td>Step 1: Understand that Z_7[x] refers to the r...</td>\n      <td>49.0</td>\n    </tr>\n  </tbody>\n</table>\n<p>226 rows × 18 columns</p>\n</div>"
     },
     "execution_count": 74,
     "metadata": {},
     "output_type": "execute_result"
    }
   ],
   "source": [
    "df_interception = pd.merge(df_original_neg, df_all_results, on=['Category', 'Question'], how='inner',copy=False)\n",
    "df_interception.drop_duplicates(subset='Question',inplace=True)\n",
    "df_interception"
   ],
   "metadata": {
    "collapsed": false,
    "ExecuteTime": {
     "end_time": "2024-06-10T19:32:28.461108700Z",
     "start_time": "2024-06-10T19:32:28.428016500Z"
    }
   },
   "id": "acc5eb267506b42e"
  },
  {
   "cell_type": "code",
   "execution_count": 78,
   "outputs": [],
   "source": [
    "df_interception.to_csv('paper_report_df.csv',index=False)"
   ],
   "metadata": {
    "collapsed": false,
    "ExecuteTime": {
     "end_time": "2024-06-10T20:04:30.670542400Z",
     "start_time": "2024-06-10T20:04:30.603402200Z"
    }
   },
   "id": "a1a66b866074f579"
  },
  {
   "cell_type": "code",
   "execution_count": 75,
   "outputs": [
    {
     "name": "stderr",
     "output_type": "stream",
     "text": [
      "C:\\Users\\77388\\AppData\\Local\\Temp\\ipykernel_37340\\765451446.py:1: SettingWithCopyWarning: \n",
      "A value is trying to be set on a copy of a slice from a DataFrame.\n",
      "Try using .loc[row_indexer,col_indexer] = value instead\n",
      "\n",
      "See the caveats in the documentation: https://pandas.pydata.org/pandas-docs/stable/user_guide/indexing.html#returning-a-view-versus-a-copy\n",
      "  df_original_pos['Corrected COT Answer'] = df_original_pos['Output_Answer']\n"
     ]
    },
    {
     "data": {
      "text/plain": "                     Category  \\\n0     professional_accounting   \n2     professional_accounting   \n4     professional_accounting   \n5     professional_accounting   \n6     professional_accounting   \n...                       ...   \n1995         abstract_algebra   \n1996         abstract_algebra   \n1997         abstract_algebra   \n1998         abstract_algebra   \n1999         abstract_algebra   \n\n                                               Question Correct_Answer  \\\n0     Adam Smith is considering automating his pin f...              C   \n2     A compilation of financial statements in accor...              C   \n4     Mentor Co. a U.S. corporation owned 100% of a ...              B   \n5     In an e-commerce environment that requires tha...              B   \n6     Adam Smith is considering automating his pin f...              C   \n...                                                 ...            ...   \n1995  Let A and B be sets, f: A -> B and g: B -> A b...              D   \n1996  Statement 1 | If K is a nonzero subgroup of a ...              C   \n1997  Statement 1 | Every nonzero free abelian group...              D   \n1998  In the group G = {2, 4, 6, 8) under multiplica...              A   \n1999  The set of all nth roots of unity under multip...              D   \n\n                                          Output_Answer  Consistency  Cot  \\\n0                                        C) $480,000.00         True  NaN   \n2                                                     C         True  NaN   \n4                                                     B         True  NaN   \n5                                                     B         True  NaN   \n6                                        C) $480,000.00         True  NaN   \n...                                                 ...          ...  ...   \n1995                                                  D         True  NaN   \n1996                                                  C         True  NaN   \n1997                                                  D         True  NaN   \n1998  There seems to be a misunderstanding in the st...         True  NaN   \n1999                                                  D         True  NaN   \n\n                                             Cot_Answer  \\\n0                                        C) $480,000.00   \n2                                                     C   \n4                                                     B   \n5                                                     B   \n6                                                     C   \n...                                                 ...   \n1995                                                  D   \n1996                                                  C   \n1997                                                  D   \n1998  None of the options provided is correct. The i...   \n1999                                                  D   \n\n                                             Smv_Answer  \\\n0                                        C) $480,000.00   \n2                                                     C   \n4                                                     B   \n5                                                     B   \n6                                                     C   \n...                                                 ...   \n1995                                                  D   \n1996                                                  C   \n1997                                                  D   \n1998  None of the options provided is correct. The i...   \n1999                                                  D   \n\n                                             Cot_random  \\\n0     Step 1: Calculate the initial investment. This...   \n2     Step 1: Understand the question, which is abou...   \n4     Step 1: Understand the difference between reme...   \n5     Step 1: Understand the requirement of the e-co...   \n6     Step 1: Calculate the initial investment. This...   \n...                                                 ...   \n1995  step 1: Understand the given information. We h...   \n1996  Step 1: Analyze Statement 1 - If K is a nonzer...   \n1997  Step 1: Understand what a free abelian group i...   \n1998  step 1: Understand the operation and the group...   \n1999  step 1: Define the nth roots of unity. These a...   \n\n                                      Cot_random_answer  \\\n0                                        C) $480,000.00   \n2                                                     C   \n4                                                     B   \n5                                                     B   \n6                                        C) $480,000.00   \n...                                                 ...   \n1995                                                  D   \n1996                                                  C   \n1997                                                  D   \n1998  There seems to be a misunderstanding in the st...   \n1999                                                  D   \n\n                                   Corrected COT Answer  \n0                                        C) $480,000.00  \n2                                                     C  \n4                                                     B  \n5                                                     B  \n6                                        C) $480,000.00  \n...                                                 ...  \n1995                                                  D  \n1996                                                  C  \n1997                                                  D  \n1998  There seems to be a misunderstanding in the st...  \n1999                                                  D  \n\n[1662 rows x 11 columns]",
      "text/html": "<div>\n<style scoped>\n    .dataframe tbody tr th:only-of-type {\n        vertical-align: middle;\n    }\n\n    .dataframe tbody tr th {\n        vertical-align: top;\n    }\n\n    .dataframe thead th {\n        text-align: right;\n    }\n</style>\n<table border=\"1\" class=\"dataframe\">\n  <thead>\n    <tr style=\"text-align: right;\">\n      <th></th>\n      <th>Category</th>\n      <th>Question</th>\n      <th>Correct_Answer</th>\n      <th>Output_Answer</th>\n      <th>Consistency</th>\n      <th>Cot</th>\n      <th>Cot_Answer</th>\n      <th>Smv_Answer</th>\n      <th>Cot_random</th>\n      <th>Cot_random_answer</th>\n      <th>Corrected COT Answer</th>\n    </tr>\n  </thead>\n  <tbody>\n    <tr>\n      <th>0</th>\n      <td>professional_accounting</td>\n      <td>Adam Smith is considering automating his pin f...</td>\n      <td>C</td>\n      <td>C) $480,000.00</td>\n      <td>True</td>\n      <td>NaN</td>\n      <td>C) $480,000.00</td>\n      <td>C) $480,000.00</td>\n      <td>Step 1: Calculate the initial investment. This...</td>\n      <td>C) $480,000.00</td>\n      <td>C) $480,000.00</td>\n    </tr>\n    <tr>\n      <th>2</th>\n      <td>professional_accounting</td>\n      <td>A compilation of financial statements in accor...</td>\n      <td>C</td>\n      <td>C</td>\n      <td>True</td>\n      <td>NaN</td>\n      <td>C</td>\n      <td>C</td>\n      <td>Step 1: Understand the question, which is abou...</td>\n      <td>C</td>\n      <td>C</td>\n    </tr>\n    <tr>\n      <th>4</th>\n      <td>professional_accounting</td>\n      <td>Mentor Co. a U.S. corporation owned 100% of a ...</td>\n      <td>B</td>\n      <td>B</td>\n      <td>True</td>\n      <td>NaN</td>\n      <td>B</td>\n      <td>B</td>\n      <td>Step 1: Understand the difference between reme...</td>\n      <td>B</td>\n      <td>B</td>\n    </tr>\n    <tr>\n      <th>5</th>\n      <td>professional_accounting</td>\n      <td>In an e-commerce environment that requires tha...</td>\n      <td>B</td>\n      <td>B</td>\n      <td>True</td>\n      <td>NaN</td>\n      <td>B</td>\n      <td>B</td>\n      <td>Step 1: Understand the requirement of the e-co...</td>\n      <td>B</td>\n      <td>B</td>\n    </tr>\n    <tr>\n      <th>6</th>\n      <td>professional_accounting</td>\n      <td>Adam Smith is considering automating his pin f...</td>\n      <td>C</td>\n      <td>C) $480,000.00</td>\n      <td>True</td>\n      <td>NaN</td>\n      <td>C</td>\n      <td>C</td>\n      <td>Step 1: Calculate the initial investment. This...</td>\n      <td>C) $480,000.00</td>\n      <td>C) $480,000.00</td>\n    </tr>\n    <tr>\n      <th>...</th>\n      <td>...</td>\n      <td>...</td>\n      <td>...</td>\n      <td>...</td>\n      <td>...</td>\n      <td>...</td>\n      <td>...</td>\n      <td>...</td>\n      <td>...</td>\n      <td>...</td>\n      <td>...</td>\n    </tr>\n    <tr>\n      <th>1995</th>\n      <td>abstract_algebra</td>\n      <td>Let A and B be sets, f: A -&gt; B and g: B -&gt; A b...</td>\n      <td>D</td>\n      <td>D</td>\n      <td>True</td>\n      <td>NaN</td>\n      <td>D</td>\n      <td>D</td>\n      <td>step 1: Understand the given information. We h...</td>\n      <td>D</td>\n      <td>D</td>\n    </tr>\n    <tr>\n      <th>1996</th>\n      <td>abstract_algebra</td>\n      <td>Statement 1 | If K is a nonzero subgroup of a ...</td>\n      <td>C</td>\n      <td>C</td>\n      <td>True</td>\n      <td>NaN</td>\n      <td>C</td>\n      <td>C</td>\n      <td>Step 1: Analyze Statement 1 - If K is a nonzer...</td>\n      <td>C</td>\n      <td>C</td>\n    </tr>\n    <tr>\n      <th>1997</th>\n      <td>abstract_algebra</td>\n      <td>Statement 1 | Every nonzero free abelian group...</td>\n      <td>D</td>\n      <td>D</td>\n      <td>True</td>\n      <td>NaN</td>\n      <td>D</td>\n      <td>D</td>\n      <td>Step 1: Understand what a free abelian group i...</td>\n      <td>D</td>\n      <td>D</td>\n    </tr>\n    <tr>\n      <th>1998</th>\n      <td>abstract_algebra</td>\n      <td>In the group G = {2, 4, 6, 8) under multiplica...</td>\n      <td>A</td>\n      <td>There seems to be a misunderstanding in the st...</td>\n      <td>True</td>\n      <td>NaN</td>\n      <td>None of the options provided is correct. The i...</td>\n      <td>None of the options provided is correct. The i...</td>\n      <td>step 1: Understand the operation and the group...</td>\n      <td>There seems to be a misunderstanding in the st...</td>\n      <td>There seems to be a misunderstanding in the st...</td>\n    </tr>\n    <tr>\n      <th>1999</th>\n      <td>abstract_algebra</td>\n      <td>The set of all nth roots of unity under multip...</td>\n      <td>D</td>\n      <td>D</td>\n      <td>True</td>\n      <td>NaN</td>\n      <td>D</td>\n      <td>D</td>\n      <td>step 1: Define the nth roots of unity. These a...</td>\n      <td>D</td>\n      <td>D</td>\n    </tr>\n  </tbody>\n</table>\n<p>1662 rows × 11 columns</p>\n</div>"
     },
     "execution_count": 75,
     "metadata": {},
     "output_type": "execute_result"
    }
   ],
   "source": [
    "df_original_pos['Corrected COT Answer'] = df_original_pos['Output_Answer']\n",
    "df_original_pos"
   ],
   "metadata": {
    "collapsed": false,
    "ExecuteTime": {
     "end_time": "2024-06-10T19:32:28.895487Z",
     "start_time": "2024-06-10T19:32:28.864958900Z"
    }
   },
   "id": "30ad05db7702f29b"
  },
  {
   "cell_type": "code",
   "execution_count": 76,
   "outputs": [],
   "source": [
    "df = pd.concat([df_interception,df_original_pos],ignore_index=True)"
   ],
   "metadata": {
    "collapsed": false,
    "ExecuteTime": {
     "end_time": "2024-06-10T19:32:29.182190300Z",
     "start_time": "2024-06-10T19:32:29.160152900Z"
    }
   },
   "id": "481bd81dbb6f5f89"
  },
  {
   "cell_type": "code",
   "execution_count": 77,
   "outputs": [
    {
     "data": {
      "text/plain": "(0.7929025423728814,\n 0.8045550847457628,\n 0.8140889830508474,\n 0.8204449152542372)"
     },
     "execution_count": 77,
     "metadata": {},
     "output_type": "execute_result"
    }
   ],
   "source": [
    "correctness = 0\n",
    "sc_correctness = 0\n",
    "judge_correctness = 0\n",
    "rerailer_correctness = 0\n",
    "for row_index in range(len(df)):\n",
    "    row = df.iloc[row_index]\n",
    "    correct_ans = row['Correct_Answer'].lower()\n",
    "    output_answer = row['Cot_random_answer'].lower()\n",
    "    sc_answer = row['Smv_Answer'].lower()\n",
    "    judge_answer = row['Output_Answer'].lower()\n",
    "    rerailer_ans = row['Corrected COT Answer'].lower()\n",
    "    try:\n",
    "        if correct_ans == output_answer[0]:\n",
    "            correctness += 1\n",
    "        else:\n",
    "            correctness += 0\n",
    "        if correct_ans == sc_answer[0]:\n",
    "            sc_correctness += 1\n",
    "        else:\n",
    "            sc_correctness += 0\n",
    "        if correct_ans == judge_answer[0]:\n",
    "            judge_correctness += 1\n",
    "        else:\n",
    "            judge_correctness += 0\n",
    "        if correct_ans == rerailer_ans[0]:\n",
    "            rerailer_correctness += 1\n",
    "        else:\n",
    "            rerailer_correctness += 0\n",
    "    except:\n",
    "        pass\n",
    "\n",
    "correctness/len(df),sc_correctness/len(df),judge_correctness/len(df),rerailer_correctness/len(df)"
   ],
   "metadata": {
    "collapsed": false,
    "ExecuteTime": {
     "end_time": "2024-06-10T19:32:29.847668100Z",
     "start_time": "2024-06-10T19:32:29.834072300Z"
    }
   },
   "id": "81fb70c2655e4614"
  },
  {
   "cell_type": "code",
   "execution_count": null,
   "outputs": [],
   "source": [],
   "metadata": {
    "collapsed": false
   },
   "id": "1712057b960eb75"
  }
 ],
 "metadata": {
  "kernelspec": {
   "name": "llm_hall_project",
   "language": "python",
   "display_name": "llm_hall"
  },
  "language_info": {
   "codemirror_mode": {
    "name": "ipython",
    "version": 2
   },
   "file_extension": ".py",
   "mimetype": "text/x-python",
   "name": "python",
   "nbconvert_exporter": "python",
   "pygments_lexer": "ipython2",
   "version": "2.7.6"
  }
 },
 "nbformat": 4,
 "nbformat_minor": 5
}
